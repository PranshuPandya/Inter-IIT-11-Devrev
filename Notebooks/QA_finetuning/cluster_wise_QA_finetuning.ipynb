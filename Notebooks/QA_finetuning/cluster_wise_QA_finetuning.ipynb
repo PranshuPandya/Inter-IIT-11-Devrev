{
 "metadata": {
  "kernelspec": {
   "language": "python",
   "display_name": "Python 3",
   "name": "python3"
  },
  "language_info": {
   "name": "python",
   "version": "3.7.12",
   "mimetype": "text/x-python",
   "codemirror_mode": {
    "name": "ipython",
    "version": 3
   },
   "pygments_lexer": "ipython3",
   "nbconvert_exporter": "python",
   "file_extension": ".py"
  }
 },
 "nbformat_minor": 4,
 "nbformat": 4,
 "cells": [
  {
   "cell_type": "code",
   "source": [
    "!pip install -q evaluate\n",
    "!pip install transformers -q\n",
    "!pip install datasets -q\n",
    "!pip install sentence_transformers -q"
   ],
   "metadata": {
    "execution": {
     "iopub.status.busy": "2023-01-29T11:40:17.631366Z",
     "iopub.execute_input": "2023-01-29T11:40:17.632013Z",
     "iopub.status.idle": "2023-01-29T11:41:00.729456Z",
     "shell.execute_reply.started": "2023-01-29T11:40:17.631926Z",
     "shell.execute_reply": "2023-01-29T11:41:00.728267Z"
    },
    "trusted": true
   },
   "execution_count": 1,
   "outputs": [
    {
     "name": "stdout",
     "text": "\u001B[33mWARNING: Running pip as the 'root' user can result in broken permissions and conflicting behaviour with the system package manager. It is recommended to use a virtual environment instead: https://pip.pypa.io/warnings/venv\u001B[0m\u001B[33m\n\u001B[0m\u001B[33mWARNING: Running pip as the 'root' user can result in broken permissions and conflicting behaviour with the system package manager. It is recommended to use a virtual environment instead: https://pip.pypa.io/warnings/venv\u001B[0m\u001B[33m\n\u001B[0m\u001B[33mWARNING: Running pip as the 'root' user can result in broken permissions and conflicting behaviour with the system package manager. It is recommended to use a virtual environment instead: https://pip.pypa.io/warnings/venv\u001B[0m\u001B[33m\n\u001B[0m\u001B[33mWARNING: Running pip as the 'root' user can result in broken permissions and conflicting behaviour with the system package manager. It is recommended to use a virtual environment instead: https://pip.pypa.io/warnings/venv\u001B[0m\u001B[33m\n\u001B[0m",
     "output_type": "stream"
    }
   ]
  },
  {
   "cell_type": "code",
   "source": [
    "import pandas as pd\n",
    "import numpy as np\n",
    "import copy\n",
    "import json\n",
    "import torch\n",
    "import time\n",
    "import seaborn as sns\n",
    "import matplotlib.pyplot as plt\n",
    "from transformers import AutoModel, AutoConfig, AutoTokenizer, AutoModelForQuestionAnswering\n",
    "from transformers import DataCollatorWithPadding, DefaultDataCollator\n",
    "from torch.utils.data import DataLoader\n",
    "from datasets import Dataset\n",
    "from datasets import load_metric,load_dataset, Dataset, list_datasets\n",
    "from transformers import AdamW\n",
    "from transformers import pipeline, AutoModelForQuestionAnswering, AutoTokenizer\n",
    "from transformers import get_linear_schedule_with_warmup, get_cosine_schedule_with_warmup\n",
    "from tqdm.notebook import tqdm\n",
    "tqdm.pandas()\n",
    "import torch.nn as nn\n",
    "import torch.nn.functional as F\n",
    "import gc\n",
    "# from tqdm import tqdm\n",
    "import os\n",
    "# Suppress warnings\n",
    "import warnings\n",
    "warnings.filterwarnings(\"ignore\")\n",
    "# For descriptive error messages\n",
    "os.environ['CUDA_LAUNCH_BLOCKING'] = \"1\"\n",
    "os.environ['TOKENIZERS_PARALLELISM'] = \"False\"\n",
    "from transformers import AutoModel, AutoConfig, AutoTokenizer, AutoModelForQuestionAnswering\n",
    "from transformers import DataCollatorWithPadding, DefaultDataCollator\n",
    "from torch.utils.data import DataLoader\n",
    "from sklearn.model_selection import KFold\n",
    "from sklearn.model_selection import train_test_split\n",
    "from sklearn.cluster import AffinityPropagation\n",
    "from sklearn.cluster import KMeans"
   ],
   "metadata": {
    "execution": {
     "iopub.status.busy": "2023-01-29T11:41:00.732119Z",
     "iopub.execute_input": "2023-01-29T11:41:00.732515Z",
     "iopub.status.idle": "2023-01-29T11:41:10.316345Z",
     "shell.execute_reply.started": "2023-01-29T11:41:00.732477Z",
     "shell.execute_reply": "2023-01-29T11:41:10.315341Z"
    },
    "trusted": true
   },
   "execution_count": 2,
   "outputs": []
  },
  {
   "cell_type": "code",
   "source": [
    "class Config:\n",
    "    max_length = 384\n",
    "    doc_stride = 128\n",
    "    train_batch_size = 12\n",
    "    valid_batch_size = 2*train_batch_size\n",
    "    n_accumulate = 1\n",
    "    n_folds = 5\n",
    "    num_epochs = 1\n",
    "    collate_fn = DefaultDataCollator()\n",
    "    lr = 5e-6\n",
    "    min_lr = 1e-6\n",
    "    seed = 42\n",
    "    device = \"cuda:0\" if torch.cuda.is_available() else 'cpu'\n",
    "    model_name = \"deepset/deberta-v3-base-squad2\"\n",
    "    tokenizer = None\n",
    "    \n",
    "config = Config()\n",
    "config.tokenizer = AutoTokenizer.from_pretrained(config.model_name)"
   ],
   "metadata": {
    "execution": {
     "iopub.status.busy": "2023-01-29T11:41:10.318000Z",
     "iopub.execute_input": "2023-01-29T11:41:10.318696Z",
     "iopub.status.idle": "2023-01-29T11:41:17.111294Z",
     "shell.execute_reply.started": "2023-01-29T11:41:10.318659Z",
     "shell.execute_reply": "2023-01-29T11:41:17.110261Z"
    },
    "trusted": true
   },
   "execution_count": 3,
   "outputs": [
    {
     "output_type": "display_data",
     "data": {
      "text/plain": "Downloading:   0%|          | 0.00/379 [00:00<?, ?B/s]",
      "application/vnd.jupyter.widget-view+json": {
       "version_major": 2,
       "version_minor": 0,
       "model_id": "e0741e4966c04659b4d87e7c7966a5ff"
      }
     },
     "metadata": {}
    },
    {
     "output_type": "display_data",
     "data": {
      "text/plain": "Downloading:   0%|          | 0.00/2.35M [00:00<?, ?B/s]",
      "application/vnd.jupyter.widget-view+json": {
       "version_major": 2,
       "version_minor": 0,
       "model_id": "af2d2862c254494c98913f1d2b86d8fc"
      }
     },
     "metadata": {}
    },
    {
     "output_type": "display_data",
     "data": {
      "text/plain": "Downloading:   0%|          | 0.00/8.25M [00:00<?, ?B/s]",
      "application/vnd.jupyter.widget-view+json": {
       "version_major": 2,
       "version_minor": 0,
       "model_id": "e1a82f6be30a4fbeb308a24668d350b8"
      }
     },
     "metadata": {}
    },
    {
     "output_type": "display_data",
     "data": {
      "text/plain": "Downloading:   0%|          | 0.00/23.0 [00:00<?, ?B/s]",
      "application/vnd.jupyter.widget-view+json": {
       "version_major": 2,
       "version_minor": 0,
       "model_id": "4831a24504b8404db6cc8ea53519ffb3"
      }
     },
     "metadata": {}
    },
    {
     "output_type": "display_data",
     "data": {
      "text/plain": "Downloading:   0%|          | 0.00/173 [00:00<?, ?B/s]",
      "application/vnd.jupyter.widget-view+json": {
       "version_major": 2,
       "version_minor": 0,
       "model_id": "b4c94403f77a444aa5a353d07c3f0aef"
      }
     },
     "metadata": {}
    }
   ]
  },
  {
   "cell_type": "code",
   "source": [
    "def seed(seed):\n",
    "    np.random.seed(seed)\n",
    "    torch.manual_seed(seed)\n",
    "    torch.cuda.manual_seed(seed)\n",
    "    # When running on the CuDNN backend, two further options must be set\n",
    "    torch.backends.cudnn.deterministic = True\n",
    "    torch.backends.cudnn.benchmark = False\n",
    "    # Set a fixed value for the hash seed\n",
    "    os.environ['PYTHONHASHSEED'] = str(seed)\n",
    "    \n",
    "seed(config.seed)"
   ],
   "metadata": {
    "execution": {
     "iopub.status.busy": "2023-01-29T11:41:17.113739Z",
     "iopub.execute_input": "2023-01-29T11:41:17.114100Z",
     "iopub.status.idle": "2023-01-29T11:41:17.122717Z",
     "shell.execute_reply.started": "2023-01-29T11:41:17.114067Z",
     "shell.execute_reply": "2023-01-29T11:41:17.121789Z"
    },
    "trusted": true
   },
   "execution_count": 4,
   "outputs": []
  },
  {
   "cell_type": "code",
   "source": [
    "squad_metric = load_metric(\"squad_v2\")\n",
    "squad_val = load_dataset('squad_v2', split = \"validation\")"
   ],
   "metadata": {
    "execution": {
     "iopub.status.busy": "2023-01-29T11:41:17.124188Z",
     "iopub.execute_input": "2023-01-29T11:41:17.124564Z",
     "iopub.status.idle": "2023-01-29T11:41:34.510890Z",
     "shell.execute_reply.started": "2023-01-29T11:41:17.124524Z",
     "shell.execute_reply": "2023-01-29T11:41:34.509938Z"
    },
    "trusted": true
   },
   "execution_count": 5,
   "outputs": [
    {
     "output_type": "display_data",
     "data": {
      "text/plain": "Downloading builder script:   0%|          | 0.00/2.25k [00:00<?, ?B/s]",
      "application/vnd.jupyter.widget-view+json": {
       "version_major": 2,
       "version_minor": 0,
       "model_id": "71acee6ed19147eca5841b9183ca8f3b"
      }
     },
     "metadata": {}
    },
    {
     "output_type": "display_data",
     "data": {
      "text/plain": "Downloading extra modules:   0%|          | 0.00/3.19k [00:00<?, ?B/s]",
      "application/vnd.jupyter.widget-view+json": {
       "version_major": 2,
       "version_minor": 0,
       "model_id": "195700d19c954b7391ac8d88b784fd43"
      }
     },
     "metadata": {}
    },
    {
     "output_type": "display_data",
     "data": {
      "text/plain": "Downloading builder script:   0%|          | 0.00/1.87k [00:00<?, ?B/s]",
      "application/vnd.jupyter.widget-view+json": {
       "version_major": 2,
       "version_minor": 0,
       "model_id": "5be6659e7f65417690ecef8f0342d1ce"
      }
     },
     "metadata": {}
    },
    {
     "output_type": "display_data",
     "data": {
      "text/plain": "Downloading metadata:   0%|          | 0.00/1.02k [00:00<?, ?B/s]",
      "application/vnd.jupyter.widget-view+json": {
       "version_major": 2,
       "version_minor": 0,
       "model_id": "92e6d86673754c0ca7033dd9acf1e086"
      }
     },
     "metadata": {}
    },
    {
     "name": "stdout",
     "text": "Downloading and preparing dataset squad_v2/squad_v2 (download: 44.34 MiB, generated: 122.41 MiB, post-processed: Unknown size, total: 166.75 MiB) to /root/.cache/huggingface/datasets/squad_v2/squad_v2/2.0.0/09187c73c1b837c95d9a249cd97c2c3f1cebada06efe667b4427714b27639b1d...\n",
     "output_type": "stream"
    },
    {
     "output_type": "display_data",
     "data": {
      "text/plain": "Downloading data files:   0%|          | 0/2 [00:00<?, ?it/s]",
      "application/vnd.jupyter.widget-view+json": {
       "version_major": 2,
       "version_minor": 0,
       "model_id": "d99c3ece9dc74646b8674d6d17f4d0b2"
      }
     },
     "metadata": {}
    },
    {
     "output_type": "display_data",
     "data": {
      "text/plain": "Downloading data:   0%|          | 0.00/9.55M [00:00<?, ?B/s]",
      "application/vnd.jupyter.widget-view+json": {
       "version_major": 2,
       "version_minor": 0,
       "model_id": "ff76f602abcc4b35b21d631bf8e770a1"
      }
     },
     "metadata": {}
    },
    {
     "output_type": "display_data",
     "data": {
      "text/plain": "Downloading data:   0%|          | 0.00/801k [00:00<?, ?B/s]",
      "application/vnd.jupyter.widget-view+json": {
       "version_major": 2,
       "version_minor": 0,
       "model_id": "330a96c6212343ba8007a3f678c0ee30"
      }
     },
     "metadata": {}
    },
    {
     "output_type": "display_data",
     "data": {
      "text/plain": "Extracting data files:   0%|          | 0/2 [00:00<?, ?it/s]",
      "application/vnd.jupyter.widget-view+json": {
       "version_major": 2,
       "version_minor": 0,
       "model_id": "b632aab42d4d4139ac353f3fe0c7cbfb"
      }
     },
     "metadata": {}
    },
    {
     "output_type": "display_data",
     "data": {
      "text/plain": "Generating train split:   0%|          | 0/130319 [00:00<?, ? examples/s]",
      "application/vnd.jupyter.widget-view+json": {
       "version_major": 2,
       "version_minor": 0,
       "model_id": ""
      }
     },
     "metadata": {}
    },
    {
     "output_type": "display_data",
     "data": {
      "text/plain": "Generating validation split:   0%|          | 0/11873 [00:00<?, ? examples/s]",
      "application/vnd.jupyter.widget-view+json": {
       "version_major": 2,
       "version_minor": 0,
       "model_id": ""
      }
     },
     "metadata": {}
    },
    {
     "name": "stdout",
     "text": "Dataset squad_v2 downloaded and prepared to /root/.cache/huggingface/datasets/squad_v2/squad_v2/2.0.0/09187c73c1b837c95d9a249cd97c2c3f1cebada06efe667b4427714b27639b1d. Subsequent calls will reuse this data.\n",
     "output_type": "stream"
    }
   ]
  },
  {
   "cell_type": "code",
   "source": [
    "squad_val"
   ],
   "metadata": {
    "execution": {
     "iopub.status.busy": "2023-01-29T11:41:34.512469Z",
     "iopub.execute_input": "2023-01-29T11:41:34.512870Z",
     "iopub.status.idle": "2023-01-29T11:41:34.520533Z",
     "shell.execute_reply.started": "2023-01-29T11:41:34.512832Z",
     "shell.execute_reply": "2023-01-29T11:41:34.519558Z"
    },
    "trusted": true
   },
   "execution_count": 6,
   "outputs": [
    {
     "execution_count": 6,
     "output_type": "execute_result",
     "data": {
      "text/plain": "Dataset({\n    features: ['id', 'title', 'context', 'question', 'answers'],\n    num_rows: 11873\n})"
     },
     "metadata": {}
    }
   ]
  },
  {
   "cell_type": "code",
   "source": [
    "squad_val.set_format(\"pandas\")\n",
    "df_pandas = squad_val.to_pandas()"
   ],
   "metadata": {
    "execution": {
     "iopub.status.busy": "2023-01-29T11:41:43.096090Z",
     "iopub.execute_input": "2023-01-29T11:41:43.096872Z",
     "iopub.status.idle": "2023-01-29T11:41:43.146108Z",
     "shell.execute_reply.started": "2023-01-29T11:41:43.096832Z",
     "shell.execute_reply": "2023-01-29T11:41:43.145057Z"
    },
    "trusted": true
   },
   "execution_count": 7,
   "outputs": []
  },
  {
   "cell_type": "code",
   "source": [
    "df_pandas"
   ],
   "metadata": {
    "execution": {
     "iopub.status.busy": "2023-01-29T11:41:43.283372Z",
     "iopub.execute_input": "2023-01-29T11:41:43.283729Z",
     "iopub.status.idle": "2023-01-29T11:41:43.313148Z",
     "shell.execute_reply.started": "2023-01-29T11:41:43.283700Z",
     "shell.execute_reply": "2023-01-29T11:41:43.312231Z"
    },
    "trusted": true
   },
   "execution_count": 8,
   "outputs": [
    {
     "execution_count": 8,
     "output_type": "execute_result",
     "data": {
      "text/plain": "                             id    title  \\\n0      56ddde6b9a695914005b9628  Normans   \n1      56ddde6b9a695914005b9629  Normans   \n2      56ddde6b9a695914005b962a  Normans   \n3      56ddde6b9a695914005b962b  Normans   \n4      56ddde6b9a695914005b962c  Normans   \n...                         ...      ...   \n11868  5737aafd1c456719005744ff    Force   \n11869  5ad28ad0d7d075001a4299cc    Force   \n11870  5ad28ad0d7d075001a4299cd    Force   \n11871  5ad28ad0d7d075001a4299ce    Force   \n11872  5ad28ad0d7d075001a4299cf    Force   \n\n                                                 context  \\\n0      The Normans (Norman: Nourmands; French: Norman...   \n1      The Normans (Norman: Nourmands; French: Norman...   \n2      The Normans (Norman: Nourmands; French: Norman...   \n3      The Normans (Norman: Nourmands; French: Norman...   \n4      The Normans (Norman: Nourmands; French: Norman...   \n...                                                  ...   \n11868  The pound-force has a metric counterpart, less...   \n11869  The pound-force has a metric counterpart, less...   \n11870  The pound-force has a metric counterpart, less...   \n11871  The pound-force has a metric counterpart, less...   \n11872  The pound-force has a metric counterpart, less...   \n\n                                                question  \\\n0                   In what country is Normandy located?   \n1                     When were the Normans in Normandy?   \n2          From which countries did the Norse originate?   \n3                              Who was the Norse leader?   \n4      What century did the Normans first gain their ...   \n...                                                  ...   \n11868  What is the seldom used force unit equal to on...   \n11869           What does not have a metric counterpart?   \n11870  What is the force exerted by standard gravity ...   \n11871  What force leads to a commonly used unit of mass?   \n11872        What force is part of the modern SI system?   \n\n                                                 answers  \n0      {'text': ['France', 'France', 'France', 'Franc...  \n1      {'text': ['10th and 11th centuries', 'in the 1...  \n2      {'text': ['Denmark, Iceland and Norway', 'Denm...  \n3      {'text': ['Rollo', 'Rollo', 'Rollo', 'Rollo'],...  \n4      {'text': ['10th century', 'the first half of t...  \n...                                                  ...  \n11868  {'text': ['sthène', 'sthène', 'sthène', 'sthèn...  \n11869                   {'text': [], 'answer_start': []}  \n11870                   {'text': [], 'answer_start': []}  \n11871                   {'text': [], 'answer_start': []}  \n11872                   {'text': [], 'answer_start': []}  \n\n[11873 rows x 5 columns]",
      "text/html": "<div>\n<style scoped>\n    .dataframe tbody tr th:only-of-type {\n        vertical-align: middle;\n    }\n\n    .dataframe tbody tr th {\n        vertical-align: top;\n    }\n\n    .dataframe thead th {\n        text-align: right;\n    }\n</style>\n<table border=\"1\" class=\"dataframe\">\n  <thead>\n    <tr style=\"text-align: right;\">\n      <th></th>\n      <th>id</th>\n      <th>title</th>\n      <th>context</th>\n      <th>question</th>\n      <th>answers</th>\n    </tr>\n  </thead>\n  <tbody>\n    <tr>\n      <th>0</th>\n      <td>56ddde6b9a695914005b9628</td>\n      <td>Normans</td>\n      <td>The Normans (Norman: Nourmands; French: Norman...</td>\n      <td>In what country is Normandy located?</td>\n      <td>{'text': ['France', 'France', 'France', 'Franc...</td>\n    </tr>\n    <tr>\n      <th>1</th>\n      <td>56ddde6b9a695914005b9629</td>\n      <td>Normans</td>\n      <td>The Normans (Norman: Nourmands; French: Norman...</td>\n      <td>When were the Normans in Normandy?</td>\n      <td>{'text': ['10th and 11th centuries', 'in the 1...</td>\n    </tr>\n    <tr>\n      <th>2</th>\n      <td>56ddde6b9a695914005b962a</td>\n      <td>Normans</td>\n      <td>The Normans (Norman: Nourmands; French: Norman...</td>\n      <td>From which countries did the Norse originate?</td>\n      <td>{'text': ['Denmark, Iceland and Norway', 'Denm...</td>\n    </tr>\n    <tr>\n      <th>3</th>\n      <td>56ddde6b9a695914005b962b</td>\n      <td>Normans</td>\n      <td>The Normans (Norman: Nourmands; French: Norman...</td>\n      <td>Who was the Norse leader?</td>\n      <td>{'text': ['Rollo', 'Rollo', 'Rollo', 'Rollo'],...</td>\n    </tr>\n    <tr>\n      <th>4</th>\n      <td>56ddde6b9a695914005b962c</td>\n      <td>Normans</td>\n      <td>The Normans (Norman: Nourmands; French: Norman...</td>\n      <td>What century did the Normans first gain their ...</td>\n      <td>{'text': ['10th century', 'the first half of t...</td>\n    </tr>\n    <tr>\n      <th>...</th>\n      <td>...</td>\n      <td>...</td>\n      <td>...</td>\n      <td>...</td>\n      <td>...</td>\n    </tr>\n    <tr>\n      <th>11868</th>\n      <td>5737aafd1c456719005744ff</td>\n      <td>Force</td>\n      <td>The pound-force has a metric counterpart, less...</td>\n      <td>What is the seldom used force unit equal to on...</td>\n      <td>{'text': ['sthène', 'sthène', 'sthène', 'sthèn...</td>\n    </tr>\n    <tr>\n      <th>11869</th>\n      <td>5ad28ad0d7d075001a4299cc</td>\n      <td>Force</td>\n      <td>The pound-force has a metric counterpart, less...</td>\n      <td>What does not have a metric counterpart?</td>\n      <td>{'text': [], 'answer_start': []}</td>\n    </tr>\n    <tr>\n      <th>11870</th>\n      <td>5ad28ad0d7d075001a4299cd</td>\n      <td>Force</td>\n      <td>The pound-force has a metric counterpart, less...</td>\n      <td>What is the force exerted by standard gravity ...</td>\n      <td>{'text': [], 'answer_start': []}</td>\n    </tr>\n    <tr>\n      <th>11871</th>\n      <td>5ad28ad0d7d075001a4299ce</td>\n      <td>Force</td>\n      <td>The pound-force has a metric counterpart, less...</td>\n      <td>What force leads to a commonly used unit of mass?</td>\n      <td>{'text': [], 'answer_start': []}</td>\n    </tr>\n    <tr>\n      <th>11872</th>\n      <td>5ad28ad0d7d075001a4299cf</td>\n      <td>Force</td>\n      <td>The pound-force has a metric counterpart, less...</td>\n      <td>What force is part of the modern SI system?</td>\n      <td>{'text': [], 'answer_start': []}</td>\n    </tr>\n  </tbody>\n</table>\n<p>11873 rows × 5 columns</p>\n</div>"
     },
     "metadata": {}
    }
   ]
  },
  {
   "cell_type": "code",
   "source": [
    "df_gen = pd.read_csv('/kaggle/input/new-qa-with-idx-squad-validation/new_qa_with_idx_squad_validation.csv')"
   ],
   "metadata": {
    "execution": {
     "iopub.status.busy": "2023-01-29T11:41:46.233701Z",
     "iopub.execute_input": "2023-01-29T11:41:46.235734Z",
     "iopub.status.idle": "2023-01-29T11:41:46.362355Z",
     "shell.execute_reply.started": "2023-01-29T11:41:46.235692Z",
     "shell.execute_reply": "2023-01-29T11:41:46.361295Z"
    },
    "trusted": true
   },
   "execution_count": 9,
   "outputs": []
  },
  {
   "cell_type": "code",
   "source": [
    "for i in range(len(df_gen)):\n",
    "        if (len(df_gen['Answer_text'][i]) == 0):\n",
    "            df_gen['Answer_possible'].iloc[i] = 0\n",
    "        else:\n",
    "            df_gen['Answer_possible'].iloc[i] = 1"
   ],
   "metadata": {
    "execution": {
     "iopub.status.busy": "2023-01-29T11:41:46.364172Z",
     "iopub.execute_input": "2023-01-29T11:41:46.364754Z",
     "iopub.status.idle": "2023-01-29T11:41:47.251276Z",
     "shell.execute_reply.started": "2023-01-29T11:41:46.364717Z",
     "shell.execute_reply": "2023-01-29T11:41:47.250188Z"
    },
    "trusted": true
   },
   "execution_count": 10,
   "outputs": []
  },
  {
   "cell_type": "code",
   "source": [
    "df_gen.insert(0, 'id', df_gen.index)"
   ],
   "metadata": {
    "execution": {
     "iopub.status.busy": "2023-01-29T11:41:47.256570Z",
     "iopub.execute_input": "2023-01-29T11:41:47.259338Z",
     "iopub.status.idle": "2023-01-29T11:41:47.275521Z",
     "shell.execute_reply.started": "2023-01-29T11:41:47.259300Z",
     "shell.execute_reply": "2023-01-29T11:41:47.269268Z"
    },
    "trusted": true
   },
   "execution_count": 11,
   "outputs": []
  },
  {
   "cell_type": "code",
   "source": [
    "df_gen.rename(columns={df_gen.columns[0]:'id', 'Paragraph':'context',\n",
    "                       'Question':'question',\n",
    "                       'Answer_start':'answer_start',\n",
    "                       'Answer_possible':'answer_possible'}, inplace=True)"
   ],
   "metadata": {
    "execution": {
     "iopub.status.busy": "2023-01-29T11:41:53.130577Z",
     "iopub.execute_input": "2023-01-29T11:41:53.130943Z",
     "iopub.status.idle": "2023-01-29T11:41:53.136831Z",
     "shell.execute_reply.started": "2023-01-29T11:41:53.130913Z",
     "shell.execute_reply": "2023-01-29T11:41:53.135747Z"
    },
    "trusted": true
   },
   "execution_count": 12,
   "outputs": []
  },
  {
   "cell_type": "code",
   "source": [
    "new = []\n",
    "for x in df_gen['Answer_text']:\n",
    "        if x != '[]':\n",
    "            new.append('['+x+']')\n",
    "        else:\n",
    "            new.append(x)\n",
    "df_gen['answer'] = new"
   ],
   "metadata": {
    "execution": {
     "iopub.status.busy": "2023-01-29T11:41:53.325240Z",
     "iopub.execute_input": "2023-01-29T11:41:53.325962Z",
     "iopub.status.idle": "2023-01-29T11:41:53.335002Z",
     "shell.execute_reply.started": "2023-01-29T11:41:53.325927Z",
     "shell.execute_reply": "2023-01-29T11:41:53.333494Z"
    },
    "trusted": true
   },
   "execution_count": 13,
   "outputs": []
  },
  {
   "cell_type": "code",
   "source": [
    "df_gen['answer_start'] = df_gen['answer_start'].apply(lambda x: [x])\n",
    "df_gen['answer_end'] = (df_gen['answer_start'].apply(lambda x:x[0]) + df_gen['Answer_text'].apply(lambda x:len(x[0]) if len(x)>0 else 0)).apply(lambda x:[x])"
   ],
   "metadata": {
    "execution": {
     "iopub.status.busy": "2023-01-29T11:41:53.502993Z",
     "iopub.execute_input": "2023-01-29T11:41:53.503697Z",
     "iopub.status.idle": "2023-01-29T11:41:53.520518Z",
     "shell.execute_reply.started": "2023-01-29T11:41:53.503659Z",
     "shell.execute_reply": "2023-01-29T11:41:53.519406Z"
    },
    "trusted": true
   },
   "execution_count": 14,
   "outputs": []
  },
  {
   "cell_type": "code",
   "source": [
    "def prepare_answer(row):\n",
    "    if len(row['Answer_text']) == 0:\n",
    "        out = {'text': '' , 'answer_start': row['answer_start'][0]}\n",
    "    else:\n",
    "        out = {'text': row['Answer_text'] , 'answer_start': row['answer_start'][0]}\n",
    "\n",
    "    return out\n",
    "\n",
    "df_gen = df_gen.assign(answers=df_gen.apply(prepare_answer , axis=1))"
   ],
   "metadata": {
    "execution": {
     "iopub.status.busy": "2023-01-29T11:41:54.137021Z",
     "iopub.execute_input": "2023-01-29T11:41:54.137711Z",
     "iopub.status.idle": "2023-01-29T11:41:54.240037Z",
     "shell.execute_reply.started": "2023-01-29T11:41:54.137674Z",
     "shell.execute_reply": "2023-01-29T11:41:54.239023Z"
    },
    "trusted": true
   },
   "execution_count": 15,
   "outputs": []
  },
  {
   "cell_type": "code",
   "source": [
    "df_gen.head()"
   ],
   "metadata": {
    "execution": {
     "iopub.status.busy": "2023-01-29T11:41:54.768018Z",
     "iopub.execute_input": "2023-01-29T11:41:54.768725Z",
     "iopub.status.idle": "2023-01-29T11:41:54.790114Z",
     "shell.execute_reply.started": "2023-01-29T11:41:54.768680Z",
     "shell.execute_reply": "2023-01-29T11:41:54.789178Z"
    },
    "trusted": true
   },
   "execution_count": 16,
   "outputs": [
    {
     "execution_count": 16,
     "output_type": "execute_result",
     "data": {
      "text/plain": "   id                         Answer_text  \\\n0   0                            Normandy   \n1   1                               Norse   \n2   2                         Carolingian   \n3   3  the first half of the 10th century   \n4   4                  The Norman dynasty   \n\n                                            question  \\\n0  What did the Normans give their name to in the...   \n1     What language were the Normans descended from?   \n2  Along with the Frankish and Roman-Gaulish popu...   \n3  When did the distinct cultural and ethnic iden...   \n4  Which dynasty had a major political, cultural ...   \n\n                                             context answer_start    Theme  \\\n0  The Normans (Norman: Nourmands; French: Norman...        [137]  Normans   \n1  The Normans (Norman: Nourmands; French: Norman...        [192]  Normans   \n2  The Normans (Norman: Nourmands; French: Norman...        [527]  Normans   \n3  The Normans (Norman: Nourmands; French: Norman...        [649]  Normans   \n4  The Norman dynasty had a major political, cult...          [0]  Normans   \n\n  answer_possible                                answer answer_end  \\\n0               1                            [Normandy]      [138]   \n1               1                               [Norse]      [193]   \n2               1                         [Carolingian]      [528]   \n3               1  [the first half of the 10th century]      [650]   \n4               1                  [The Norman dynasty]        [1]   \n\n                                             answers  \n0          {'text': 'Normandy', 'answer_start': 137}  \n1             {'text': 'Norse', 'answer_start': 192}  \n2       {'text': 'Carolingian', 'answer_start': 527}  \n3  {'text': 'the first half of the 10th century',...  \n4  {'text': 'The Norman dynasty', 'answer_start': 0}  ",
      "text/html": "<div>\n<style scoped>\n    .dataframe tbody tr th:only-of-type {\n        vertical-align: middle;\n    }\n\n    .dataframe tbody tr th {\n        vertical-align: top;\n    }\n\n    .dataframe thead th {\n        text-align: right;\n    }\n</style>\n<table border=\"1\" class=\"dataframe\">\n  <thead>\n    <tr style=\"text-align: right;\">\n      <th></th>\n      <th>id</th>\n      <th>Answer_text</th>\n      <th>question</th>\n      <th>context</th>\n      <th>answer_start</th>\n      <th>Theme</th>\n      <th>answer_possible</th>\n      <th>answer</th>\n      <th>answer_end</th>\n      <th>answers</th>\n    </tr>\n  </thead>\n  <tbody>\n    <tr>\n      <th>0</th>\n      <td>0</td>\n      <td>Normandy</td>\n      <td>What did the Normans give their name to in the...</td>\n      <td>The Normans (Norman: Nourmands; French: Norman...</td>\n      <td>[137]</td>\n      <td>Normans</td>\n      <td>1</td>\n      <td>[Normandy]</td>\n      <td>[138]</td>\n      <td>{'text': 'Normandy', 'answer_start': 137}</td>\n    </tr>\n    <tr>\n      <th>1</th>\n      <td>1</td>\n      <td>Norse</td>\n      <td>What language were the Normans descended from?</td>\n      <td>The Normans (Norman: Nourmands; French: Norman...</td>\n      <td>[192]</td>\n      <td>Normans</td>\n      <td>1</td>\n      <td>[Norse]</td>\n      <td>[193]</td>\n      <td>{'text': 'Norse', 'answer_start': 192}</td>\n    </tr>\n    <tr>\n      <th>2</th>\n      <td>2</td>\n      <td>Carolingian</td>\n      <td>Along with the Frankish and Roman-Gaulish popu...</td>\n      <td>The Normans (Norman: Nourmands; French: Norman...</td>\n      <td>[527]</td>\n      <td>Normans</td>\n      <td>1</td>\n      <td>[Carolingian]</td>\n      <td>[528]</td>\n      <td>{'text': 'Carolingian', 'answer_start': 527}</td>\n    </tr>\n    <tr>\n      <th>3</th>\n      <td>3</td>\n      <td>the first half of the 10th century</td>\n      <td>When did the distinct cultural and ethnic iden...</td>\n      <td>The Normans (Norman: Nourmands; French: Norman...</td>\n      <td>[649]</td>\n      <td>Normans</td>\n      <td>1</td>\n      <td>[the first half of the 10th century]</td>\n      <td>[650]</td>\n      <td>{'text': 'the first half of the 10th century',...</td>\n    </tr>\n    <tr>\n      <th>4</th>\n      <td>4</td>\n      <td>The Norman dynasty</td>\n      <td>Which dynasty had a major political, cultural ...</td>\n      <td>The Norman dynasty had a major political, cult...</td>\n      <td>[0]</td>\n      <td>Normans</td>\n      <td>1</td>\n      <td>[The Norman dynasty]</td>\n      <td>[1]</td>\n      <td>{'text': 'The Norman dynasty', 'answer_start': 0}</td>\n    </tr>\n  </tbody>\n</table>\n</div>"
     },
     "metadata": {}
    }
   ]
  },
  {
   "cell_type": "code",
   "source": [
    "df_gen['Theme'].value_counts()"
   ],
   "metadata": {
    "execution": {
     "iopub.status.busy": "2023-01-29T11:41:58.699707Z",
     "iopub.execute_input": "2023-01-29T11:41:58.700072Z",
     "iopub.status.idle": "2023-01-29T11:41:58.710075Z",
     "shell.execute_reply.started": "2023-01-29T11:41:58.700041Z",
     "shell.execute_reply": "2023-01-29T11:41:58.708883Z"
    },
    "trusted": true
   },
   "execution_count": 17,
   "outputs": [
    {
     "execution_count": 17,
     "output_type": "execute_result",
     "data": {
      "text/plain": "Yuan_dynasty                                 270\nImmune_system                                267\nFrench_and_Indian_War                        249\nEuropean_Union_law                           218\nWarsaw                                       211\nImperialism                                  208\nForce                                        202\nSteam_engine                                 189\nRhine                                        182\nHuguenot                                     177\nScottish_Parliament                          174\nEconomic_inequality                          170\nNormans                                      170\nComputational_complexity_theory              159\nOxygen                                       159\nCtenophora                                   158\nUniversity_of_Chicago                        152\nFresno,_California                           147\nIslamism                                     145\nHarvard_University                           139\nJacksonville,_Florida                        134\nSouthern_California                          128\nPrime_number                                 128\nGeology                                      125\nVictoria_(Australia)                         113\nPharmacy                                     112\n1973_oil_crisis                              110\nIntergovernmental_Panel_on_Climate_Change    109\nPacket_switching                             108\nBlack_Death                                  102\nPrivate_school                                94\nSky_(United_Kingdom)                          90\nConstruction                                  77\nCivil_disobedience                            76\nAmazon_rainforest                             73\nName: Theme, dtype: int64"
     },
     "metadata": {}
    }
   ]
  },
  {
   "cell_type": "code",
   "source": [
    "df_pandas['title'].value_counts()"
   ],
   "metadata": {
    "execution": {
     "iopub.status.busy": "2023-01-29T11:43:44.605901Z",
     "iopub.execute_input": "2023-01-29T11:43:44.606337Z",
     "iopub.status.idle": "2023-01-29T11:43:44.616465Z",
     "shell.execute_reply.started": "2023-01-29T11:43:44.606301Z",
     "shell.execute_reply": "2023-01-29T11:43:44.615345Z"
    },
    "trusted": true
   },
   "execution_count": 18,
   "outputs": [
    {
     "execution_count": 18,
     "output_type": "execute_result",
     "data": {
      "text/plain": "Economic_inequality                          515\nRhine                                        498\nWarsaw                                       486\nImmune_system                                458\nYuan_dynasty                                 445\nSteam_engine                                 444\nHuguenot                                     424\nEuropean_Union_law                           421\nComputational_complexity_theory              418\nOxygen                                       415\nFrench_and_Indian_War                        402\nIslamism                                     384\nForce                                        377\nPacket_switching                             373\nImperialism                                  364\nGeology                                      362\nScottish_Parliament                          357\nUniversity_of_Chicago                        356\nCivil_disobedience                           327\nCtenophora                                   325\nSouthern_California                          324\nPrime_number                                 308\nAmazon_rainforest                            284\nFresno,_California                           275\nHarvard_University                           262\n1973_oil_crisis                              255\nVictoria_(Australia)                         247\nPharmacy                                     244\nPrivate_school                               240\nConstruction                                 232\nIntergovernmental_Panel_on_Climate_Change    222\nBlack_Death                                  219\nSky_(United_Kingdom)                         210\nNormans                                      208\nJacksonville,_Florida                        192\nName: title, dtype: int64"
     },
     "metadata": {}
    }
   ]
  },
  {
   "cell_type": "code",
   "source": [
    "df_pandas['title'].unique()"
   ],
   "metadata": {
    "execution": {
     "iopub.status.busy": "2023-01-29T11:43:47.746529Z",
     "iopub.execute_input": "2023-01-29T11:43:47.746886Z",
     "iopub.status.idle": "2023-01-29T11:43:47.754990Z",
     "shell.execute_reply.started": "2023-01-29T11:43:47.746855Z",
     "shell.execute_reply": "2023-01-29T11:43:47.754007Z"
    },
    "trusted": true
   },
   "execution_count": 19,
   "outputs": [
    {
     "execution_count": 19,
     "output_type": "execute_result",
     "data": {
      "text/plain": "array(['Normans', 'Computational_complexity_theory',\n       'Southern_California', 'Sky_(United_Kingdom)',\n       'Victoria_(Australia)', 'Huguenot', 'Steam_engine', 'Oxygen',\n       '1973_oil_crisis', 'European_Union_law', 'Amazon_rainforest',\n       'Ctenophora', 'Fresno,_California', 'Packet_switching',\n       'Black_Death', 'Geology', 'Pharmacy', 'Civil_disobedience',\n       'Construction', 'Private_school', 'Harvard_University',\n       'Jacksonville,_Florida', 'Economic_inequality',\n       'University_of_Chicago', 'Yuan_dynasty', 'Immune_system',\n       'Intergovernmental_Panel_on_Climate_Change', 'Prime_number',\n       'Rhine', 'Scottish_Parliament', 'Islamism', 'Imperialism',\n       'Warsaw', 'French_and_Indian_War', 'Force'], dtype=object)"
     },
     "metadata": {}
    }
   ]
  },
  {
   "cell_type": "markdown",
   "source": [
    "## To create new clusters"
   ],
   "metadata": {
    "collapsed": false
   }
  },
  {
   "cell_type": "code",
   "source": [
    "# from sentence_transformers import SentenceTransformer"
   ],
   "metadata": {
    "execution": {
     "iopub.status.busy": "2023-01-28T16:15:55.251740Z",
     "iopub.execute_input": "2023-01-28T16:15:55.252132Z",
     "iopub.status.idle": "2023-01-28T16:15:55.614550Z",
     "shell.execute_reply.started": "2023-01-28T16:15:55.252096Z",
     "shell.execute_reply": "2023-01-28T16:15:55.613610Z"
    },
    "trusted": true
   },
   "execution_count": 12,
   "outputs": []
  },
  {
   "cell_type": "code",
   "source": [
    "# phrase_bert = SentenceTransformer('whaleloops/phrase-bert')"
   ],
   "metadata": {
    "execution": {
     "iopub.status.busy": "2023-01-28T16:15:55.616431Z",
     "iopub.execute_input": "2023-01-28T16:15:55.616967Z",
     "iopub.status.idle": "2023-01-28T16:17:00.729929Z",
     "shell.execute_reply.started": "2023-01-28T16:15:55.616931Z",
     "shell.execute_reply": "2023-01-28T16:17:00.728681Z"
    },
    "trusted": true
   },
   "execution_count": 13,
   "outputs": [
    {
     "output_type": "display_data",
     "data": {
      "text/plain": "Downloading:   0%|          | 0.00/1.23k [00:00<?, ?B/s]",
      "application/vnd.jupyter.widget-view+json": {
       "version_major": 2,
       "version_minor": 0,
       "model_id": "fbc5933aeeb84e429c290241cb62b8ab"
      }
     },
     "metadata": {}
    },
    {
     "output_type": "display_data",
     "data": {
      "text/plain": "Downloading:   0%|          | 0.00/190 [00:00<?, ?B/s]",
      "application/vnd.jupyter.widget-view+json": {
       "version_major": 2,
       "version_minor": 0,
       "model_id": "6d1f80fa3d86451ca914ccbd9f22ff2a"
      }
     },
     "metadata": {}
    },
    {
     "output_type": "display_data",
     "data": {
      "text/plain": "Downloading:   0%|          | 0.00/5.41k [00:00<?, ?B/s]",
      "application/vnd.jupyter.widget-view+json": {
       "version_major": 2,
       "version_minor": 0,
       "model_id": "c21fbb1759b646fd96f4b840b111195b"
      }
     },
     "metadata": {}
    },
    {
     "output_type": "display_data",
     "data": {
      "text/plain": "Downloading:   0%|          | 0.00/670 [00:00<?, ?B/s]",
      "application/vnd.jupyter.widget-view+json": {
       "version_major": 2,
       "version_minor": 0,
       "model_id": "4b405e3b9ee340c890a5c5fef432b829"
      }
     },
     "metadata": {}
    },
    {
     "output_type": "display_data",
     "data": {
      "text/plain": "Downloading:   0%|          | 0.00/116 [00:00<?, ?B/s]",
      "application/vnd.jupyter.widget-view+json": {
       "version_major": 2,
       "version_minor": 0,
       "model_id": "4b0c3b511bf742d08a5fe6703d7aad8c"
      }
     },
     "metadata": {}
    },
    {
     "output_type": "display_data",
     "data": {
      "text/plain": "Downloading:   0%|          | 0.00/438M [00:00<?, ?B/s]",
      "application/vnd.jupyter.widget-view+json": {
       "version_major": 2,
       "version_minor": 0,
       "model_id": "3a932972d18f4737aa93400bdb2c476e"
      }
     },
     "metadata": {}
    },
    {
     "output_type": "display_data",
     "data": {
      "text/plain": "Downloading:   0%|          | 0.00/52.0 [00:00<?, ?B/s]",
      "application/vnd.jupyter.widget-view+json": {
       "version_major": 2,
       "version_minor": 0,
       "model_id": "41e10b4d496144b08b46f949cd246fad"
      }
     },
     "metadata": {}
    },
    {
     "output_type": "display_data",
     "data": {
      "text/plain": "Downloading:   0%|          | 0.00/112 [00:00<?, ?B/s]",
      "application/vnd.jupyter.widget-view+json": {
       "version_major": 2,
       "version_minor": 0,
       "model_id": "4f3f407b1d684831809148db91f8506b"
      }
     },
     "metadata": {}
    },
    {
     "output_type": "display_data",
     "data": {
      "text/plain": "Downloading:   0%|          | 0.00/466k [00:00<?, ?B/s]",
      "application/vnd.jupyter.widget-view+json": {
       "version_major": 2,
       "version_minor": 0,
       "model_id": "b1300f07d13d441eba67e7fb636c5efe"
      }
     },
     "metadata": {}
    },
    {
     "output_type": "display_data",
     "data": {
      "text/plain": "Downloading:   0%|          | 0.00/632 [00:00<?, ?B/s]",
      "application/vnd.jupyter.widget-view+json": {
       "version_major": 2,
       "version_minor": 0,
       "model_id": "4c97113c77674d16929c46f533f0fc95"
      }
     },
     "metadata": {}
    },
    {
     "output_type": "display_data",
     "data": {
      "text/plain": "Downloading:   0%|          | 0.00/232k [00:00<?, ?B/s]",
      "application/vnd.jupyter.widget-view+json": {
       "version_major": 2,
       "version_minor": 0,
       "model_id": "40a95134d1b14c84ade2e8067c790b7d"
      }
     },
     "metadata": {}
    },
    {
     "output_type": "display_data",
     "data": {
      "text/plain": "Downloading:   0%|          | 0.00/229 [00:00<?, ?B/s]",
      "application/vnd.jupyter.widget-view+json": {
       "version_major": 2,
       "version_minor": 0,
       "model_id": "c99189c89dbc4636ac82afca5b031266"
      }
     },
     "metadata": {}
    }
   ]
  },
  {
   "cell_type": "code",
   "source": [
    "# val_ls = list(np.unique(df_pandas['title']))"
   ],
   "metadata": {
    "execution": {
     "iopub.status.busy": "2023-01-29T11:44:02.952183Z",
     "iopub.execute_input": "2023-01-29T11:44:02.952809Z",
     "iopub.status.idle": "2023-01-29T11:44:02.971936Z",
     "shell.execute_reply.started": "2023-01-29T11:44:02.952763Z",
     "shell.execute_reply": "2023-01-29T11:44:02.970996Z"
    },
    "trusted": true
   },
   "execution_count": 20,
   "outputs": []
  },
  {
   "cell_type": "code",
   "source": [
    "# theme_emb = phrase_bert.encode(val_ls)"
   ],
   "metadata": {
    "execution": {
     "iopub.status.busy": "2023-01-28T16:17:04.734158Z",
     "iopub.execute_input": "2023-01-28T16:17:04.734539Z",
     "iopub.status.idle": "2023-01-28T16:17:10.700419Z",
     "shell.execute_reply.started": "2023-01-28T16:17:04.734507Z",
     "shell.execute_reply": "2023-01-28T16:17:10.699565Z"
    },
    "trusted": true
   },
   "execution_count": 15,
   "outputs": [
    {
     "output_type": "display_data",
     "data": {
      "text/plain": "Batches:   0%|          | 0/2 [00:00<?, ?it/s]",
      "application/vnd.jupyter.widget-view+json": {
       "version_major": 2,
       "version_minor": 0,
       "model_id": "7df489f2ab3e499e92aec1e414a12921"
      }
     },
     "metadata": {}
    }
   ]
  },
  {
   "cell_type": "code",
   "source": [
    "# kmeans = KMeans(n_clusters=10, init='k-means++',max_iter=300)\n",
    "# clustering = kmeans.fit(theme_emb)"
   ],
   "metadata": {
    "execution": {
     "iopub.status.busy": "2023-01-28T15:47:25.088896Z",
     "iopub.execute_input": "2023-01-28T15:47:25.089547Z",
     "iopub.status.idle": "2023-01-28T15:47:25.227580Z",
     "shell.execute_reply.started": "2023-01-28T15:47:25.089496Z",
     "shell.execute_reply": "2023-01-28T15:47:25.226656Z"
    },
    "trusted": true
   },
   "execution_count": 15,
   "outputs": []
  },
  {
   "cell_type": "code",
   "source": [
    "# clustering.labels_"
   ],
   "metadata": {
    "execution": {
     "iopub.status.busy": "2023-01-28T15:47:25.232072Z",
     "iopub.execute_input": "2023-01-28T15:47:25.235154Z",
     "iopub.status.idle": "2023-01-28T15:47:25.249275Z",
     "shell.execute_reply.started": "2023-01-28T15:47:25.235116Z",
     "shell.execute_reply": "2023-01-28T15:47:25.248242Z"
    },
    "trusted": true
   },
   "execution_count": 16,
   "outputs": [
    {
     "execution_count": 16,
     "output_type": "execute_result",
     "data": {
      "text/plain": "array([8, 5, 0, 0, 1, 1, 6, 1, 4, 0, 0, 3, 1, 2, 5, 6, 7, 8, 7, 3, 5, 9,\n       9, 6, 1, 2, 5, 4, 4, 3, 9, 2, 4, 5, 5], dtype=int32)"
     },
     "metadata": {}
    }
   ]
  },
  {
   "cell_type": "code",
   "source": [
    "# clusters = {}"
   ],
   "metadata": {
    "execution": {
     "iopub.status.busy": "2023-01-28T15:47:25.254782Z",
     "iopub.execute_input": "2023-01-28T15:47:25.258446Z",
     "iopub.status.idle": "2023-01-28T15:47:25.265913Z",
     "shell.execute_reply.started": "2023-01-28T15:47:25.258411Z",
     "shell.execute_reply": "2023-01-28T15:47:25.264890Z"
    },
    "trusted": true
   },
   "execution_count": 17,
   "outputs": []
  },
  {
   "cell_type": "code",
   "source": [
    "# for i in range(0,9):\n",
    "#     clusters[i] = list(val_ls[clustering.labels_ == i])"
   ],
   "metadata": {
    "execution": {
     "iopub.status.busy": "2023-01-28T15:47:28.571406Z",
     "iopub.execute_input": "2023-01-28T15:47:28.571795Z",
     "iopub.status.idle": "2023-01-28T15:47:28.577040Z",
     "shell.execute_reply.started": "2023-01-28T15:47:28.571761Z",
     "shell.execute_reply": "2023-01-28T15:47:28.575959Z"
    },
    "trusted": true
   },
   "execution_count": 18,
   "outputs": []
  },
  {
   "cell_type": "code",
   "source": [
    "# clusters"
   ],
   "metadata": {},
   "execution_count": null,
   "outputs": []
  },
  {
   "cell_type": "code",
   "source": [
    "# squad_metric = load_metric(\"squad_v2\")\n",
    "# squad_val = load_dataset('squad_v2', split = \"validation\")\n",
    "# squad_train = load_dataset('squad_v2', split = \"train\")"
   ],
   "metadata": {
    "execution": {
     "iopub.status.busy": "2023-01-29T06:37:10.742264Z",
     "iopub.execute_input": "2023-01-29T06:37:10.742932Z",
     "iopub.status.idle": "2023-01-29T06:37:12.943873Z",
     "shell.execute_reply.started": "2023-01-29T06:37:10.742887Z",
     "shell.execute_reply": "2023-01-29T06:37:12.942913Z"
    },
    "trusted": true
   },
   "execution_count": 29,
   "outputs": []
  },
  {
   "cell_type": "code",
   "source": [
    "# squad_train = squad_train.to_pandas()\n",
    "# squad_val = squad_val.to_pandas()\n",
    "# train_ls = list(np.unique(squad_train['title']))\n",
    "# val_ls = list(np.unique(squad_val['title']))\n",
    "# # train_ls.extend(val_ls)\n",
    "# total_ls = np.unique(val_ls)\n",
    "# train_ls = list(np.unique(squad_train['title']))"
   ],
   "metadata": {
    "execution": {
     "iopub.status.busy": "2023-01-29T06:37:12.945894Z",
     "iopub.execute_input": "2023-01-29T06:37:12.946239Z",
     "iopub.status.idle": "2023-01-29T06:37:13.168006Z",
     "shell.execute_reply.started": "2023-01-29T06:37:12.946204Z",
     "shell.execute_reply": "2023-01-29T06:37:13.166977Z"
    },
    "trusted": true
   },
   "execution_count": 30,
   "outputs": []
  },
  {
   "cell_type": "code",
   "source": [
    "# theme_emb = phrase_bert.encode(total_ls)\n",
    "# kmeans = KMeans(n_clusters=10, init='k-means++',max_iter=300)\n",
    "# clustering = kmeans.fit(theme_emb)\n",
    "# clusters = {}\n",
    "# for i in range(0,9):\n",
    "#     clusters[i] = list(total_ls[clustering.labels_==i])"
   ],
   "metadata": {
    "execution": {
     "iopub.status.busy": "2023-01-29T06:37:13.169588Z",
     "iopub.execute_input": "2023-01-29T06:37:13.169986Z",
     "iopub.status.idle": "2023-01-29T06:37:13.175066Z",
     "shell.execute_reply.started": "2023-01-29T06:37:13.169949Z",
     "shell.execute_reply": "2023-01-29T06:37:13.173571Z"
    },
    "trusted": true
   },
   "execution_count": 31,
   "outputs": []
  },
  {
   "cell_type": "code",
   "source": [
    "# theme_emb = phrase_bert.encode(total_ls)\n",
    "# clustering = AffinityPropagation(random_state= 0, verbose=True).fit(theme_emb)\n",
    "# clusters = {}\n",
    "# for i in range(0, 6):\n",
    "#     clusters[i] = list(total_ls[clustering.labels_==i])"
   ],
   "metadata": {
    "execution": {
     "iopub.status.busy": "2023-01-29T06:37:13.178117Z",
     "iopub.execute_input": "2023-01-29T06:37:13.178570Z",
     "iopub.status.idle": "2023-01-29T06:37:13.207318Z",
     "shell.execute_reply.started": "2023-01-29T06:37:13.178534Z",
     "shell.execute_reply": "2023-01-29T06:37:13.206105Z"
    },
    "trusted": true
   },
   "execution_count": 32,
   "outputs": [
    {
     "traceback": [
      "\u001B[0;31m---------------------------------------------------------------------------\u001B[0m",
      "\u001B[0;31mNameError\u001B[0m                                 Traceback (most recent call last)",
      "\u001B[0;32m/tmp/ipykernel_22/1508277589.py\u001B[0m in \u001B[0;36m<module>\u001B[0;34m\u001B[0m\n\u001B[0;32m----> 1\u001B[0;31m \u001B[0mtheme_emb\u001B[0m \u001B[0;34m=\u001B[0m \u001B[0mphrase_bert\u001B[0m\u001B[0;34m.\u001B[0m\u001B[0mencode\u001B[0m\u001B[0;34m(\u001B[0m\u001B[0mtotal_ls\u001B[0m\u001B[0;34m)\u001B[0m\u001B[0;34m\u001B[0m\u001B[0;34m\u001B[0m\u001B[0m\n\u001B[0m\u001B[1;32m      2\u001B[0m \u001B[0mclustering\u001B[0m \u001B[0;34m=\u001B[0m \u001B[0mAffinityPropagation\u001B[0m\u001B[0;34m(\u001B[0m\u001B[0mrandom_state\u001B[0m\u001B[0;34m=\u001B[0m \u001B[0;36m0\u001B[0m\u001B[0;34m,\u001B[0m \u001B[0mverbose\u001B[0m\u001B[0;34m=\u001B[0m\u001B[0;32mTrue\u001B[0m\u001B[0;34m)\u001B[0m\u001B[0;34m.\u001B[0m\u001B[0mfit\u001B[0m\u001B[0;34m(\u001B[0m\u001B[0mtheme_emb\u001B[0m\u001B[0;34m)\u001B[0m\u001B[0;34m\u001B[0m\u001B[0;34m\u001B[0m\u001B[0m\n\u001B[1;32m      3\u001B[0m \u001B[0mclusters\u001B[0m \u001B[0;34m=\u001B[0m \u001B[0;34m{\u001B[0m\u001B[0;34m}\u001B[0m\u001B[0;34m\u001B[0m\u001B[0;34m\u001B[0m\u001B[0m\n\u001B[1;32m      4\u001B[0m \u001B[0;32mfor\u001B[0m \u001B[0mi\u001B[0m \u001B[0;32min\u001B[0m \u001B[0mrange\u001B[0m\u001B[0;34m(\u001B[0m\u001B[0;36m0\u001B[0m\u001B[0;34m,\u001B[0m \u001B[0;36m6\u001B[0m\u001B[0;34m)\u001B[0m\u001B[0;34m:\u001B[0m\u001B[0;34m\u001B[0m\u001B[0;34m\u001B[0m\u001B[0m\n\u001B[1;32m      5\u001B[0m     \u001B[0mclusters\u001B[0m\u001B[0;34m[\u001B[0m\u001B[0mi\u001B[0m\u001B[0;34m]\u001B[0m \u001B[0;34m=\u001B[0m \u001B[0mlist\u001B[0m\u001B[0;34m(\u001B[0m\u001B[0mtotal_ls\u001B[0m\u001B[0;34m[\u001B[0m\u001B[0mclustering\u001B[0m\u001B[0;34m.\u001B[0m\u001B[0mlabels_\u001B[0m\u001B[0;34m==\u001B[0m\u001B[0mi\u001B[0m\u001B[0;34m]\u001B[0m\u001B[0;34m)\u001B[0m\u001B[0;34m\u001B[0m\u001B[0;34m\u001B[0m\u001B[0m\n",
      "\u001B[0;31mNameError\u001B[0m: name 'phrase_bert' is not defined"
     ],
     "ename": "NameError",
     "evalue": "name 'phrase_bert' is not defined",
     "output_type": "error"
    }
   ]
  },
  {
   "cell_type": "code",
   "source": [
    "# clusters"
   ],
   "metadata": {
    "execution": {
     "iopub.status.busy": "2023-01-28T16:18:43.392105Z",
     "iopub.execute_input": "2023-01-28T16:18:43.392418Z",
     "iopub.status.idle": "2023-01-28T16:18:43.399933Z",
     "shell.execute_reply.started": "2023-01-28T16:18:43.392391Z",
     "shell.execute_reply": "2023-01-28T16:18:43.398655Z"
    },
    "trusted": true
   },
   "execution_count": 29,
   "outputs": [
    {
     "execution_count": 29,
     "output_type": "execute_result",
     "data": {
      "text/plain": "{0: ['1973_oil_crisis',\n  'Black_Death',\n  'Civil_disobedience',\n  'Construction',\n  'Economic_inequality',\n  'Force',\n  'French_and_Indian_War',\n  'Imperialism',\n  'Islamism'],\n 1: ['European_Union_law', 'Scottish_Parliament', 'Sky_(United_Kingdom)'],\n 2: ['Harvard_University', 'Private_school', 'University_of_Chicago'],\n 3: ['Computational_complexity_theory',\n  'Ctenophora',\n  'Geology',\n  'Immune_system',\n  'Intergovernmental_Panel_on_Climate_Change',\n  'Oxygen',\n  'Packet_switching',\n  'Pharmacy',\n  'Prime_number',\n  'Steam_engine'],\n 4: ['Amazon_rainforest',\n  'Huguenot',\n  'Normans',\n  'Rhine',\n  'Warsaw',\n  'Yuan_dynasty'],\n 5: ['Fresno,_California',\n  'Jacksonville,_Florida',\n  'Southern_California',\n  'Victoria_(Australia)']}"
     },
     "metadata": {}
    }
   ]
  },
  {
   "cell_type": "code",
   "source": [
    "# file = open(\"clusters-val_ap.json\",\"w\")\n",
    "# file.write(json.dumps(clusters))\n",
    "# file.close()"
   ],
   "metadata": {
    "execution": {
     "iopub.status.busy": "2023-01-28T16:18:56.928459Z",
     "iopub.execute_input": "2023-01-28T16:18:56.928862Z",
     "iopub.status.idle": "2023-01-28T16:18:56.935453Z",
     "shell.execute_reply.started": "2023-01-28T16:18:56.928827Z",
     "shell.execute_reply": "2023-01-28T16:18:56.934124Z"
    },
    "trusted": true
   },
   "execution_count": 30,
   "outputs": []
  },
  {
   "cell_type": "markdown",
   "source": [
    "## Import clusters from file"
   ],
   "metadata": {
    "collapsed": false
   }
  },
  {
   "cell_type": "code",
   "source": [
    "import json\n",
    "f = open('/kaggle/input/prevkmeanscluster/clusters.json')\n",
    "clusters = json.load(f)\n",
    "f.close()"
   ],
   "metadata": {
    "execution": {
     "iopub.status.busy": "2023-01-29T11:44:25.167030Z",
     "iopub.execute_input": "2023-01-29T11:44:25.167404Z",
     "iopub.status.idle": "2023-01-29T11:44:25.179033Z",
     "shell.execute_reply.started": "2023-01-29T11:44:25.167372Z",
     "shell.execute_reply": "2023-01-29T11:44:25.177781Z"
    },
    "trusted": true
   },
   "execution_count": 21,
   "outputs": []
  },
  {
   "cell_type": "code",
   "source": [
    "clusters['0']"
   ],
   "metadata": {
    "execution": {
     "iopub.status.busy": "2023-01-29T11:44:25.493568Z",
     "iopub.execute_input": "2023-01-29T11:44:25.494488Z",
     "iopub.status.idle": "2023-01-29T11:44:25.501818Z",
     "shell.execute_reply.started": "2023-01-29T11:44:25.494397Z",
     "shell.execute_reply": "2023-01-29T11:44:25.500788Z"
    },
    "trusted": true
   },
   "execution_count": 22,
   "outputs": [
    {
     "execution_count": 22,
     "output_type": "execute_result",
     "data": {
      "text/plain": "['ASCII',\n 'Alexander_Graham_Bell',\n 'Alfred_North_Whitehead',\n 'Annelid',\n 'Apollo',\n 'Arnold_Schwarzenegger',\n 'Athanasius_of_Alexandria',\n 'Avicenna',\n 'Baptists',\n 'Bern',\n 'Beyoncé',\n 'Bras%C3%ADlia',\n 'Buckingham_Palace',\n 'Cardinal_(Catholicism)',\n 'Christian',\n 'Crucifixion_of_Jesus',\n 'Dell',\n 'Dominican_Order',\n 'Dwight_D._Eisenhower',\n 'Edmund_Burke',\n 'Elizabeth_II',\n 'Everton_F.C.',\n 'Friedrich_Hayek',\n 'Frédéric_Chopin',\n 'George_VI',\n 'God',\n 'Hanover',\n 'Huguenot',\n 'Immaculate_Conception',\n 'Jehovah%27s_Witnesses',\n 'John,_King_of_England',\n 'John_Kerry',\n 'John_von_Neumann',\n 'Josip_Broz_Tito',\n 'Karl_Popper',\n 'Macintosh',\n 'Madonna_(entertainer)',\n 'Mary_(mother_of_Jesus)',\n 'Napoleon',\n 'Neptune',\n 'Palermo',\n 'Pope_John_XXIII',\n 'Pope_Paul_VI',\n 'Queen_(band)',\n 'Queen_Victoria',\n 'Richard_Feynman',\n 'Royal_Dutch_Shell',\n 'Saint_Barth%C3%A9lemy',\n 'Saint_Helena',\n 'Somerset',\n 'Steven_Spielberg',\n 'The_Legend_of_Zelda:_Twilight_Princess',\n 'Tristan_da_Cunha',\n 'Valencia',\n 'Virgil',\n 'Westminster_Abbey']"
     },
     "metadata": {}
    }
   ]
  },
  {
   "cell_type": "code",
   "source": [
    "themes = df_pandas['title'].unique()"
   ],
   "metadata": {
    "execution": {
     "iopub.status.busy": "2023-01-29T11:44:33.554956Z",
     "iopub.execute_input": "2023-01-29T11:44:33.555347Z",
     "iopub.status.idle": "2023-01-29T11:44:33.561279Z",
     "shell.execute_reply.started": "2023-01-29T11:44:33.555314Z",
     "shell.execute_reply": "2023-01-29T11:44:33.560280Z"
    },
    "trusted": true
   },
   "execution_count": 23,
   "outputs": []
  },
  {
   "cell_type": "code",
   "source": [
    "score_df = pd.DataFrame(themes)"
   ],
   "metadata": {
    "execution": {
     "iopub.status.busy": "2023-01-29T11:44:34.079526Z",
     "iopub.execute_input": "2023-01-29T11:44:34.080358Z",
     "iopub.status.idle": "2023-01-29T11:44:34.086067Z",
     "shell.execute_reply.started": "2023-01-29T11:44:34.080317Z",
     "shell.execute_reply": "2023-01-29T11:44:34.084812Z"
    },
    "trusted": true
   },
   "execution_count": 24,
   "outputs": []
  },
  {
   "cell_type": "code",
   "source": [
    "score_df_van = pd.DataFrame(themes)"
   ],
   "metadata": {
    "execution": {
     "iopub.status.busy": "2023-01-29T11:44:34.088333Z",
     "iopub.execute_input": "2023-01-29T11:44:34.089054Z",
     "iopub.status.idle": "2023-01-29T11:44:34.097495Z",
     "shell.execute_reply.started": "2023-01-29T11:44:34.089018Z",
     "shell.execute_reply": "2023-01-29T11:44:34.095705Z"
    },
    "trusted": true
   },
   "execution_count": 25,
   "outputs": []
  },
  {
   "cell_type": "code",
   "source": [
    "score_df.insert(1, 'F1', 0)\n",
    "score_df.insert(2, 'EM', 0)"
   ],
   "metadata": {
    "execution": {
     "iopub.status.busy": "2023-01-29T11:44:34.123853Z",
     "iopub.execute_input": "2023-01-29T11:44:34.124685Z",
     "iopub.status.idle": "2023-01-29T11:44:34.131013Z",
     "shell.execute_reply.started": "2023-01-29T11:44:34.124638Z",
     "shell.execute_reply": "2023-01-29T11:44:34.129917Z"
    },
    "trusted": true
   },
   "execution_count": 26,
   "outputs": []
  },
  {
   "cell_type": "code",
   "source": [
    "score_df_van.insert(1, 'F1', 0)\n",
    "score_df_van.insert(2, 'EM', 0)"
   ],
   "metadata": {
    "execution": {
     "iopub.status.busy": "2023-01-29T11:44:34.423559Z",
     "iopub.execute_input": "2023-01-29T11:44:34.424150Z",
     "iopub.status.idle": "2023-01-29T11:44:34.431034Z",
     "shell.execute_reply.started": "2023-01-29T11:44:34.424113Z",
     "shell.execute_reply": "2023-01-29T11:44:34.430105Z"
    },
    "trusted": true
   },
   "execution_count": 27,
   "outputs": []
  },
  {
   "cell_type": "code",
   "source": [
    "def process_text(inp, tokenizer=config.tokenizer, config=config):\n",
    "    tokenized_inp = tokenizer(inp['question'],\n",
    "                             inp['context'],\n",
    "                              add_special_tokens=True,\n",
    "                             truncation='only_second',\n",
    "                             max_length=config.max_length,\n",
    "                             stride=config.doc_stride,\n",
    "                             return_offsets_mapping=True,\n",
    "                             return_overflowing_tokens=True,\n",
    "                             padding='max_length',\n",
    "                             return_token_type_ids=True)\n",
    "    sample_mapping = tokenized_inp.pop(\"overflow_to_sample_mapping\")\n",
    "    offset_mapping = tokenized_inp.pop(\"offset_mapping\")\n",
    "    start_positions = []\n",
    "    end_positions = []\n",
    "    \n",
    "    for i, offsets in enumerate(offset_mapping):\n",
    "        input_ids = tokenized_inp[\"input_ids\"][i]\n",
    "        cls_index = input_ids.index(tokenizer.cls_token_id)\n",
    "        sequence_ids = tokenized_inp.sequence_ids(i)\n",
    "        sample_index = sample_mapping[i]\n",
    "        if inp['answer_possible'][sample_index] == 0:\n",
    "            start_positions.append(cls_index)\n",
    "            end_positions.append(cls_index)\n",
    "        else:\n",
    "            start_char = inp[\"answer_start\"][sample_index][0]\n",
    "            end_char = inp['answer_end'][sample_index][0]\n",
    "            token_start_index = 0\n",
    "            while sequence_ids[token_start_index] != (1 if pad_on_right else 0):\n",
    "                token_start_index += 1\n",
    "            token_end_index = len(input_ids) - 1\n",
    "            while sequence_ids[token_end_index] != (1 if pad_on_right else 0):\n",
    "                token_end_index -= 1\n",
    "            if not (offsets[token_start_index][0] <= start_char and offsets[token_end_index][1] >= end_char):\n",
    "                start_positions.append(cls_index)\n",
    "                end_positions.append(cls_index)\n",
    "            else:\n",
    "                while token_start_index < len(offsets) and offsets[token_start_index][0] <= start_char:\n",
    "                    token_start_index += 1\n",
    "                start_positions.append(token_start_index - 1)\n",
    "                while offsets[token_end_index][1] >= end_char:\n",
    "                    token_end_index -= 1\n",
    "                end_positions.append(token_end_index + 1)\n",
    "    tokenized_inp[\"start_positions\"] = start_positions\n",
    "    tokenized_inp[\"end_positions\"] = end_positions\n",
    "    return tokenized_inp"
   ],
   "metadata": {
    "execution": {
     "iopub.status.busy": "2023-01-29T11:44:34.647182Z",
     "iopub.execute_input": "2023-01-29T11:44:34.647552Z",
     "iopub.status.idle": "2023-01-29T11:44:34.659551Z",
     "shell.execute_reply.started": "2023-01-29T11:44:34.647510Z",
     "shell.execute_reply": "2023-01-29T11:44:34.658545Z"
    },
    "trusted": true
   },
   "execution_count": 28,
   "outputs": []
  },
  {
   "cell_type": "code",
   "source": [
    "class QA(nn.Module):\n",
    "    def __init__(self):\n",
    "        super(QA, self).__init__()\n",
    "        self.model = AutoModelForQuestionAnswering.from_pretrained(config.model_name)\n",
    "\n",
    "    def forward(self, ids, mask, token_type_ids):\n",
    "        if config.model_name.split('-')[0]=='distilbert':\n",
    "            out = self.model(ids, attention_mask=mask)\n",
    "        else:\n",
    "            out = self.model(ids, attention_mask=mask, token_type_ids=token_type_ids)\n",
    "        return out.start_logits, out.end_logits"
   ],
   "metadata": {
    "execution": {
     "iopub.status.busy": "2023-01-29T11:44:35.290566Z",
     "iopub.execute_input": "2023-01-29T11:44:35.290928Z",
     "iopub.status.idle": "2023-01-29T11:44:35.297882Z",
     "shell.execute_reply.started": "2023-01-29T11:44:35.290897Z",
     "shell.execute_reply": "2023-01-29T11:44:35.296701Z"
    },
    "trusted": true
   },
   "execution_count": 29,
   "outputs": []
  },
  {
   "cell_type": "code",
   "source": [
    "def criterion(out1, out2, inp1, inp2):\n",
    "    l1 = nn.CrossEntropyLoss()(out1, inp1)\n",
    "    l2 = nn.CrossEntropyLoss()(out2, inp2)\n",
    "    return l1+l2"
   ],
   "metadata": {
    "execution": {
     "iopub.status.busy": "2023-01-29T11:44:35.513090Z",
     "iopub.execute_input": "2023-01-29T11:44:35.513734Z",
     "iopub.status.idle": "2023-01-29T11:44:35.518927Z",
     "shell.execute_reply.started": "2023-01-29T11:44:35.513701Z",
     "shell.execute_reply": "2023-01-29T11:44:35.517751Z"
    },
    "trusted": true
   },
   "execution_count": 30,
   "outputs": []
  },
  {
   "cell_type": "code",
   "source": [
    "def train_epoch(model, data_loader, optimizer, scheduler, epoch, device):\n",
    "    model.train()   \n",
    "    dataset_size = 0\n",
    "    running_loss = 0.0\n",
    "    bar = tqdm(enumerate(data_loader), total=len(data_loader))\n",
    "    for step, data in bar:\n",
    "        ids = data['input_ids'].to(device)\n",
    "        mask = data['attention_mask'].to(device)\n",
    "        token_type_ids = data['token_type_ids'].to(device) \n",
    "        inp1 = data['start_positions'].to(device)\n",
    "        inp2 = data['end_positions'].to(device) \n",
    "        batch_size = ids.size(0)\n",
    "        out1, out2 = model(ids, mask=mask, token_type_ids=token_type_ids)\n",
    "        loss = criterion(out1, out2, inp1, inp2)\n",
    "        loss = loss / config.n_accumulate\n",
    "        loss.backward()       \n",
    "        del inp1,inp2,out1,out2         \n",
    "        if (step + 1) % config.n_accumulate == 0:\n",
    "            optimizer.step()\n",
    "            optimizer.zero_grad()\n",
    "\n",
    "            if scheduler is not None:\n",
    "                scheduler.step()           \n",
    "        running_loss += (loss.item() * batch_size)\n",
    "        dataset_size += batch_size      \n",
    "        epoch_loss = running_loss / dataset_size  \n",
    "        bar.set_postfix(Epoch=epoch, Train_Loss=epoch_loss,\n",
    "                        LR=optimizer.param_groups[0]['lr'])\n",
    "    gc.collect()\n",
    "    return epoch_loss"
   ],
   "metadata": {
    "execution": {
     "iopub.status.busy": "2023-01-29T11:44:35.848849Z",
     "iopub.execute_input": "2023-01-29T11:44:35.849500Z",
     "iopub.status.idle": "2023-01-29T11:44:35.859491Z",
     "shell.execute_reply.started": "2023-01-29T11:44:35.849458Z",
     "shell.execute_reply": "2023-01-29T11:44:35.858414Z"
    },
    "trusted": true
   },
   "execution_count": 31,
   "outputs": []
  },
  {
   "cell_type": "code",
   "source": [
    "def train(model, optimizer, scheduler, num_epochs, train_loader, fold, device):\n",
    "    best_epoch_loss = np.inf\n",
    "    best_model_wts = {}   \n",
    "    history = {'Train_loss':[], \"Valid_loss\":[]}\n",
    "    for epoch in range(1, num_epochs+1): \n",
    "        train_epoch_loss = train_epoch(model, train_loader, optimizer, scheduler, epoch, device)\n",
    "        history['Train_loss'].append(train_epoch_loss)\n",
    "        best_model_wts = copy.deepcopy(model.state_dict())\n",
    "        PATH = f\"Loss-Fold-{fold}.bin\"\n",
    "        torch.save(model.state_dict(), PATH)\n",
    "        print(f\"Model Saved\")\n",
    "    model.state_dict(best_model_wts)\n",
    "    return model, history"
   ],
   "metadata": {
    "execution": {
     "iopub.status.busy": "2023-01-29T11:44:36.223393Z",
     "iopub.execute_input": "2023-01-29T11:44:36.223881Z",
     "iopub.status.idle": "2023-01-29T11:44:36.233870Z",
     "shell.execute_reply.started": "2023-01-29T11:44:36.223843Z",
     "shell.execute_reply": "2023-01-29T11:44:36.230153Z"
    },
    "trusted": true
   },
   "execution_count": 32,
   "outputs": []
  },
  {
   "cell_type": "code",
   "source": [
    "def optimizer_params(model):\n",
    "    param_optimizer = list(model.named_parameters())\n",
    "    no_decay = [\"bias\", \"LayerNorm.bias\", \"LayerNorm.weight\"]\n",
    "    optimizer_parameters = [\n",
    "        {'params': [p for n, p in param_optimizer if not any(nd in n for nd in no_decay)], 'weight_decay': 0.001},\n",
    "        {'params': [p for n, p in param_optimizer if any(nd in n for nd in no_decay)], 'weight_decay': 0.0},\n",
    "    ]\n",
    "    return optimizer_parameters"
   ],
   "metadata": {
    "execution": {
     "iopub.status.busy": "2023-01-29T11:44:36.543997Z",
     "iopub.execute_input": "2023-01-29T11:44:36.544383Z",
     "iopub.status.idle": "2023-01-29T11:44:36.550962Z",
     "shell.execute_reply.started": "2023-01-29T11:44:36.544349Z",
     "shell.execute_reply": "2023-01-29T11:44:36.549756Z"
    },
    "trusted": true
   },
   "execution_count": 33,
   "outputs": []
  },
  {
   "cell_type": "code",
   "source": [
    "def evaluate(example):\n",
    "    default = distil_model(question=example['question'], context=example['context'])\n",
    "    return {\n",
    "        'reference': {'id': example['id'], 'answers': example['answers']},\n",
    "        'default': {'id': example['id'],'prediction_text': default['answer'], 'no_answer_probability': 0.}\n",
    "      }"
   ],
   "metadata": {
    "execution": {
     "iopub.status.busy": "2023-01-29T11:44:36.895945Z",
     "iopub.execute_input": "2023-01-29T11:44:36.896616Z",
     "iopub.status.idle": "2023-01-29T11:44:36.902702Z",
     "shell.execute_reply.started": "2023-01-29T11:44:36.896572Z",
     "shell.execute_reply": "2023-01-29T11:44:36.901642Z"
    },
    "trusted": true
   },
   "execution_count": 34,
   "outputs": []
  },
  {
   "cell_type": "markdown",
   "source": [
    "## Trained on Themes"
   ],
   "metadata": {}
  },
  {
   "cell_type": "code",
   "source": [
    "def preprocess_sq2(df, df_gen):\n",
    "    df.insert(3,'answer_possible', 0)\n",
    "    df.insert(4, 'Answer_text', 0)\n",
    "    df.insert(5, 'Answer_start', 0)\n",
    "\n",
    "    for i in range(len(df)):\n",
    "        if (len(df['answers'].iloc[i]['answer_start']) == 0):\n",
    "            continue\n",
    "        else:\n",
    "            df['answer_possible'].iloc[i] = 1\n",
    "\n",
    "    for i in (range(len(df))):\n",
    "        if (len(df['answers'].iloc[i]['answer_start']) == 0):\n",
    "            df['Answer_text'].iloc[i] = '[]'\n",
    "            df['Answer_start'].iloc[i] = 0\n",
    "            continue\n",
    "        else:\n",
    "            df['Answer_text'].iloc[i] = df['answers'].iloc[i]['text'][0]\n",
    "            df['Answer_start'].iloc[i] = df['answers'].iloc[i]['answer_start'][0]\n",
    "    new = []\n",
    "    for x in df['Answer_text']:\n",
    "        if x != '[]':\n",
    "            new.append('['+x+']')\n",
    "        else:\n",
    "            new.append(x)\n",
    "    df['answer'] = new\n",
    "    df['Answer_start'] = df['Answer_start'].apply(lambda x: [x])\n",
    "    df['answer_end'] = (df['Answer_start'].apply(lambda x:x[0]) + df['Answer_text'].apply(lambda x:len(x[0]) if len(x)>0 else 0)).apply(lambda x:[x])\n",
    "    df.rename(columns={df.columns[0]:'id', 'context':'context',\n",
    "                       'question':'question',\n",
    "                       'Answer_start':'answer_start',\n",
    "                       'Answer_possible':'answer_possible'}, inplace=True)\n",
    "    df['context'] = df['context'].apply(lambda t : t.strip())\n",
    "    df = df.drop(['Answer_text'], axis=1)\n",
    "    df = df.drop(['id'], axis = 1)\n",
    "    df['id'] = df.index\n",
    "    df.rename(columns={ 'title':'Theme'}, inplace=True)\n",
    "    \n",
    "    df['fold'] = 0\n",
    "\n",
    "    kf = KFold(n_splits=5, shuffle=True, random_state=0)\n",
    "\n",
    "    for i, (train_index, val_index) in enumerate(kf.split(df)):\n",
    "        df.iloc[val_index][\"fold\"] = i\n",
    "\n",
    "    train_df, val_df = train_test_split(df, test_size=0.7, stratify=df['fold'])\n",
    "    train_df.append(df_gen, ignore_index = True)\n",
    "    return train_df, val_df,df"
   ],
   "metadata": {
    "execution": {
     "iopub.status.busy": "2023-01-29T11:44:37.944605Z",
     "iopub.execute_input": "2023-01-29T11:44:37.944978Z",
     "iopub.status.idle": "2023-01-29T11:44:37.960941Z",
     "shell.execute_reply.started": "2023-01-29T11:44:37.944946Z",
     "shell.execute_reply": "2023-01-29T11:44:37.959731Z"
    },
    "trusted": true
   },
   "execution_count": 35,
   "outputs": []
  },
  {
   "cell_type": "code",
   "source": [
    "def train_sq2(model, dataset, df):\n",
    "    for fold in range(config.n_folds):\n",
    "        dataset = dataset.reset_index(drop=True)\n",
    "        train_dataset = Dataset.from_pandas(dataset).map(process_text, batched=True, remove_columns=list(df.columns))\n",
    "        train_loader = DataLoader(train_dataset, batch_size=config.train_batch_size, collate_fn=config.collate_fn, \n",
    "                                      num_workers=2, shuffle=True, pin_memory=True, drop_last=True)\n",
    "        num_train_steps = int(len(train_dataset) / config.train_batch_size * config.num_epochs)\n",
    "        model = model\n",
    "        model.to(config.device)\n",
    "        optimizer = AdamW(optimizer_params(model), lr=config.lr)\n",
    "        scheduler = get_linear_schedule_with_warmup(optimizer, num_warmup_steps= (0.1 * num_train_steps), num_training_steps=num_train_steps)    \n",
    "        model, history = train(model, \n",
    "                                   optimizer, \n",
    "                                   scheduler, \n",
    "                                   config.num_epochs, \n",
    "                                   train_loader, \n",
    "                                   fold, \n",
    "                                   device=config.device)\n",
    "        torch.save(model.state_dict(), 'deberta_v3_new.pt')\n",
    "        del history, train_loader \n",
    "        _ = gc.collect()\n",
    "        print()\n",
    "        break\n",
    "    return model"
   ],
   "metadata": {
    "execution": {
     "iopub.status.busy": "2023-01-29T11:44:38.074061Z",
     "iopub.execute_input": "2023-01-29T11:44:38.075081Z",
     "iopub.status.idle": "2023-01-29T11:44:38.083561Z",
     "shell.execute_reply.started": "2023-01-29T11:44:38.075042Z",
     "shell.execute_reply": "2023-01-29T11:44:38.082632Z"
    },
    "trusted": true
   },
   "execution_count": 36,
   "outputs": []
  },
  {
   "cell_type": "code",
   "source": [
    "def evaluate_sq2(model,dataset):\n",
    "    results = dataset.progress_apply(evaluate, axis =1)\n",
    "\n",
    "    predictions = []\n",
    "    for i in range(len(results)):\n",
    "        pred = results.iloc[i]['default']\n",
    "        predictions.append(pred)\n",
    "    references = []\n",
    "    for i in (range(len(results))):\n",
    "        ref = results.iloc[i]['reference']\n",
    "        references.append(ref)\n",
    "    default = squad_metric.compute(predictions=predictions, references=references)\n",
    "    return default"
   ],
   "metadata": {
    "execution": {
     "iopub.status.busy": "2023-01-29T11:44:38.740600Z",
     "iopub.execute_input": "2023-01-29T11:44:38.741714Z",
     "iopub.status.idle": "2023-01-29T11:44:38.748540Z",
     "shell.execute_reply.started": "2023-01-29T11:44:38.741668Z",
     "shell.execute_reply": "2023-01-29T11:44:38.747402Z"
    },
    "trusted": true
   },
   "execution_count": 37,
   "outputs": []
  },
  {
   "cell_type": "code",
   "source": [
    "def evaluate_van(model, dataset):\n",
    "    results = dataset.progress_apply(evaluate, axis =1)\n",
    "\n",
    "    predictions = []\n",
    "    for i in range(len(results)):\n",
    "        pred = results.iloc[i]['default']\n",
    "        predictions.append(pred)\n",
    "    references = []\n",
    "    for i in (range(len(results))):\n",
    "        ref = results.iloc[i]['reference']\n",
    "        references.append(ref)\n",
    "    default = squad_metric.compute(predictions=predictions, references=references)\n",
    "    return default"
   ],
   "metadata": {
    "execution": {
     "iopub.status.busy": "2023-01-29T11:44:39.124289Z",
     "iopub.execute_input": "2023-01-29T11:44:39.125022Z",
     "iopub.status.idle": "2023-01-29T11:44:39.131672Z",
     "shell.execute_reply.started": "2023-01-29T11:44:39.124984Z",
     "shell.execute_reply": "2023-01-29T11:44:39.130456Z"
    },
    "trusted": true
   },
   "execution_count": 38,
   "outputs": []
  },
  {
   "cell_type": "code",
   "source": [
    "df = pd.DataFrame(columns = df_pandas.columns)\n",
    "for theme in clusters['0']:\n",
    "        if theme in val_ls:\n",
    "            df = pd.concat([df,df_pandas[df_pandas['title']==theme]], axis=0)"
   ],
   "metadata": {
    "execution": {
     "iopub.status.busy": "2023-01-29T11:44:40.052825Z",
     "iopub.execute_input": "2023-01-29T11:44:40.055255Z",
     "iopub.status.idle": "2023-01-29T11:44:40.065322Z",
     "shell.execute_reply.started": "2023-01-29T11:44:40.055193Z",
     "shell.execute_reply": "2023-01-29T11:44:40.063997Z"
    },
    "trusted": true
   },
   "execution_count": 39,
   "outputs": []
  },
  {
   "cell_type": "code",
   "source": [
    "# train_df[:2]"
   ],
   "metadata": {
    "execution": {
     "iopub.status.busy": "2023-01-29T11:44:40.428921Z",
     "iopub.execute_input": "2023-01-29T11:44:40.429287Z",
     "iopub.status.idle": "2023-01-29T11:44:40.433482Z",
     "shell.execute_reply.started": "2023-01-29T11:44:40.429255Z",
     "shell.execute_reply": "2023-01-29T11:44:40.432416Z"
    },
    "trusted": true
   },
   "execution_count": 40,
   "outputs": []
  },
  {
   "cell_type": "code",
   "source": [
    "for j in tqdm(clusters.keys()):\n",
    "    print(\"Cluster \",j)\n",
    "    df = pd.DataFrame(columns = df_pandas.columns)\n",
    "    df_gen1 = pd.DataFrame(columns = df_gen.columns)\n",
    "    for theme in clusters[j]:\n",
    "        if theme in val_ls:\n",
    "            df = pd.concat([df,df_pandas[df_pandas['title']==theme]], axis=0)\n",
    "            df_gen1 = pd.concat([df_gen1,df_gen1[df_gen1['Theme']==theme]], axis=0)\n",
    "    train_df, val_df, df_pre = preprocess_sq2(df, df_gen1)\n",
    "    pad_on_right = config.tokenizer.padding_side == \"right\"\n",
    "    model = QA()\n",
    "    model = train_sq2(model, train_df, df_pre)\n",
    "    if not os.path.exists(\"deberta_v3_new\"):\n",
    "        os.mkdir(\"deberta_v3_new\")\n",
    "    torch.save(model.state_dict(), f'deberta_v3_new/deberta_v3_new.pt')\n",
    "    \n",
    "    model = AutoModelForQuestionAnswering.from_pretrained(\"deepset/deberta-v3-base-squad2\")\n",
    "    tokenizer = AutoTokenizer.from_pretrained(\"deepset/deberta-v3-base-squad2\")\n",
    "    state_dict = torch.load(f'/kaggle/working/deberta_v3_new/deberta_v3_new.pt')\n",
    "    new_state_dict = model.state_dict()\n",
    "    for key in list(state_dict.keys()):\n",
    "        new_key = key.replace(\"model.\",\"\")\n",
    "        new_state_dict[new_key] = state_dict[key]\n",
    "    model.load_state_dict(new_state_dict)\n",
    "    distil_model = pipeline(\"question-answering\",model=model,tokenizer = tokenizer, handle_impossible_answer=True, device=0)\n",
    "    \n",
    "    default = evaluate_sq2(model,val_df)\n",
    "    score_df['F1'][int(j)] = default['f1']\n",
    "    score_df['EM'][int(j)] = default['exact']\n",
    "    del model\n",
    "    _ = gc.collect()\n",
    "    print(default)\n",
    "    model2 = AutoModelForQuestionAnswering.from_pretrained(\"deepset/deberta-v3-base-squad2\")\n",
    "    tokenizer2 = AutoTokenizer.from_pretrained(\"deepset/deberta-v3-base-squad2\")\n",
    "    distil_model = pipeline(\"question-answering\",model= model2,tokenizer = tokenizer2, handle_impossible_answer=True, device=0)\n",
    "    default = evaluate_van(model= model2, dataset=val_df)\n",
    "    score_df_van['F1'][int(j)] = default['f1']\n",
    "    score_df_van['EM'][int(j)] = default['exact']\n",
    "    _ = gc.collect()\n",
    "    print(default)"
   ],
   "metadata": {
    "scrolled": true,
    "execution": {
     "iopub.status.busy": "2023-01-29T11:48:48.153548Z",
     "iopub.execute_input": "2023-01-29T11:48:48.153911Z"
    },
    "trusted": true
   },
   "execution_count": null,
   "outputs": [
    {
     "output_type": "display_data",
     "data": {
      "text/plain": "  0%|          | 0/9 [00:00<?, ?it/s]",
      "application/vnd.jupyter.widget-view+json": {
       "version_major": 2,
       "version_minor": 0,
       "model_id": "8ef88120787743dd8355e19c60fa518e"
      }
     },
     "metadata": {}
    },
    {
     "name": "stdout",
     "text": "Cluster  0\n",
     "output_type": "stream"
    },
    {
     "output_type": "display_data",
     "data": {
      "text/plain": "  0%|          | 0/1 [00:00<?, ?ba/s]",
      "application/vnd.jupyter.widget-view+json": {
       "version_major": 2,
       "version_minor": 0,
       "model_id": "48e9acdf3f5843b5928fc369209cc311"
      }
     },
     "metadata": {}
    },
    {
     "output_type": "display_data",
     "data": {
      "text/plain": "  0%|          | 0/10 [00:00<?, ?it/s]",
      "application/vnd.jupyter.widget-view+json": {
       "version_major": 2,
       "version_minor": 0,
       "model_id": "03a762d4d6084794adc1222e7056ee05"
      }
     },
     "metadata": {}
    },
    {
     "name": "stdout",
     "text": "Model Saved\n\n",
     "output_type": "stream"
    },
    {
     "output_type": "display_data",
     "data": {
      "text/plain": "  0%|          | 0/297 [00:00<?, ?it/s]",
      "application/vnd.jupyter.widget-view+json": {
       "version_major": 2,
       "version_minor": 0,
       "model_id": "e598310a88b648368653fd4226d46661"
      }
     },
     "metadata": {}
    },
    {
     "name": "stdout",
     "text": "{'exact': 82.82828282828282, 'f1': 86.10536582758803, 'total': 297, 'HasAns_exact': 80.41958041958041, 'HasAns_f1': 87.22582972582974, 'HasAns_total': 143, 'NoAns_exact': 85.06493506493507, 'NoAns_f1': 85.06493506493507, 'NoAns_total': 154, 'best_exact': 82.82828282828282, 'best_exact_thresh': 0.0, 'best_f1': 86.10536582758803, 'best_f1_thresh': 0.0}\n",
     "output_type": "stream"
    },
    {
     "output_type": "display_data",
     "data": {
      "text/plain": "  0%|          | 0/297 [00:00<?, ?it/s]",
      "application/vnd.jupyter.widget-view+json": {
       "version_major": 2,
       "version_minor": 0,
       "model_id": "1692bc1d4a82489292d417726826522f"
      }
     },
     "metadata": {}
    },
    {
     "name": "stdout",
     "text": "{'exact': 83.16498316498317, 'f1': 86.2175992731548, 'total': 297, 'HasAns_exact': 81.11888111888112, 'HasAns_f1': 87.45892995892997, 'HasAns_total': 143, 'NoAns_exact': 85.06493506493507, 'NoAns_f1': 85.06493506493507, 'NoAns_total': 154, 'best_exact': 83.16498316498317, 'best_exact_thresh': 0.0, 'best_f1': 86.2175992731548, 'best_f1_thresh': 0.0}\nCluster  1\n",
     "output_type": "stream"
    },
    {
     "output_type": "display_data",
     "data": {
      "text/plain": "  0%|          | 0/1 [00:00<?, ?ba/s]",
      "application/vnd.jupyter.widget-view+json": {
       "version_major": 2,
       "version_minor": 0,
       "model_id": "85d0a355eef84e509baea9b2831cab0e"
      }
     },
     "metadata": {}
    },
    {
     "output_type": "display_data",
     "data": {
      "text/plain": "  0%|          | 0/40 [00:00<?, ?it/s]",
      "application/vnd.jupyter.widget-view+json": {
       "version_major": 2,
       "version_minor": 0,
       "model_id": "b60150186fb8493ba020a72cf23192f2"
      }
     },
     "metadata": {}
    },
    {
     "name": "stdout",
     "text": "Model Saved\n\n",
     "output_type": "stream"
    }
   ]
  },
  {
   "cell_type": "code",
   "source": [
    "score_df.to_csv('final_score_df.csv', index = False, encoding='utf-8')"
   ],
   "metadata": {
    "execution": {
     "iopub.status.busy": "2023-01-27T15:56:27.913706Z",
     "iopub.execute_input": "2023-01-27T15:56:27.914565Z",
     "iopub.status.idle": "2023-01-27T15:56:27.929585Z",
     "shell.execute_reply.started": "2023-01-27T15:56:27.914527Z",
     "shell.execute_reply": "2023-01-27T15:56:27.928578Z"
    },
    "trusted": true
   },
   "execution_count": null,
   "outputs": []
  },
  {
   "cell_type": "code",
   "source": [
    "import matplotlib.pyplot as plt"
   ],
   "metadata": {
    "execution": {
     "iopub.status.busy": "2023-01-27T15:56:27.931886Z",
     "iopub.execute_input": "2023-01-27T15:56:27.932757Z",
     "iopub.status.idle": "2023-01-27T15:56:27.937146Z",
     "shell.execute_reply.started": "2023-01-27T15:56:27.932718Z",
     "shell.execute_reply": "2023-01-27T15:56:27.936338Z"
    },
    "trusted": true
   },
   "execution_count": null,
   "outputs": []
  },
  {
   "cell_type": "code",
   "source": [
    "score_df_van.to_csv('final_score_van_df.csv', index = False, encoding='utf-8')"
   ],
   "metadata": {
    "execution": {
     "iopub.status.busy": "2023-01-27T15:56:29.094774Z",
     "iopub.execute_input": "2023-01-27T15:56:29.095111Z",
     "iopub.status.idle": "2023-01-27T15:56:29.104738Z",
     "shell.execute_reply.started": "2023-01-27T15:56:29.095079Z",
     "shell.execute_reply": "2023-01-27T15:56:29.103695Z"
    },
    "trusted": true
   },
   "execution_count": null,
   "outputs": []
  },
  {
   "cell_type": "code",
   "source": [
    "score_df_van.rename(columns={'F1': 'F1-van',\n",
    "                   'EM': 'EM-van'},\n",
    "          inplace=True, errors='raise')"
   ],
   "metadata": {
    "execution": {
     "iopub.status.busy": "2023-01-29T06:55:55.523825Z",
     "iopub.execute_input": "2023-01-29T06:55:55.524186Z",
     "iopub.status.idle": "2023-01-29T06:55:55.530201Z",
     "shell.execute_reply.started": "2023-01-29T06:55:55.524155Z",
     "shell.execute_reply": "2023-01-29T06:55:55.529006Z"
    },
    "trusted": true
   },
   "execution_count": 56,
   "outputs": []
  },
  {
   "cell_type": "code",
   "source": [
    "score_df = score_df.join(score_df_van['F1-van'])"
   ],
   "metadata": {
    "execution": {
     "iopub.status.busy": "2023-01-29T06:55:55.833898Z",
     "iopub.execute_input": "2023-01-29T06:55:55.834198Z",
     "iopub.status.idle": "2023-01-29T06:55:55.844579Z",
     "shell.execute_reply.started": "2023-01-29T06:55:55.834172Z",
     "shell.execute_reply": "2023-01-29T06:55:55.843579Z"
    },
    "trusted": true
   },
   "execution_count": 57,
   "outputs": []
  },
  {
   "cell_type": "code",
   "source": [
    "score_df = score_df.join(score_df_van['EM-van'])"
   ],
   "metadata": {
    "execution": {
     "iopub.status.busy": "2023-01-29T06:55:57.012891Z",
     "iopub.execute_input": "2023-01-29T06:55:57.013262Z",
     "iopub.status.idle": "2023-01-29T06:55:57.019312Z",
     "shell.execute_reply.started": "2023-01-29T06:55:57.013229Z",
     "shell.execute_reply": "2023-01-29T06:55:57.018311Z"
    },
    "trusted": true
   },
   "execution_count": 58,
   "outputs": []
  },
  {
   "cell_type": "code",
   "source": [
    "score_df"
   ],
   "metadata": {
    "execution": {
     "iopub.status.busy": "2023-01-29T06:56:11.326685Z",
     "iopub.execute_input": "2023-01-29T06:56:11.327050Z",
     "iopub.status.idle": "2023-01-29T06:56:11.337583Z",
     "shell.execute_reply.started": "2023-01-29T06:56:11.327019Z",
     "shell.execute_reply": "2023-01-29T06:56:11.336663Z"
    },
    "trusted": true
   },
   "execution_count": 63,
   "outputs": [
    {
     "execution_count": 63,
     "output_type": "execute_result",
     "data": {
      "text/plain": "  Clusters  F1  EM  F1-van  EM-van\n0        1  90  87      89      85\n1        2  86  81      88      83\n2        3  83  80      81      78\n3        4  88  82      88      84\n4        5  84  79      86      82\n5        6  87  84      84      80\n6        7  87  84      87      85\n7        8  91  88      91      89\n8        9  89  84      88      84",
      "text/html": "<div>\n<style scoped>\n    .dataframe tbody tr th:only-of-type {\n        vertical-align: middle;\n    }\n\n    .dataframe tbody tr th {\n        vertical-align: top;\n    }\n\n    .dataframe thead th {\n        text-align: right;\n    }\n</style>\n<table border=\"1\" class=\"dataframe\">\n  <thead>\n    <tr style=\"text-align: right;\">\n      <th></th>\n      <th>Clusters</th>\n      <th>F1</th>\n      <th>EM</th>\n      <th>F1-van</th>\n      <th>EM-van</th>\n    </tr>\n  </thead>\n  <tbody>\n    <tr>\n      <th>0</th>\n      <td>1</td>\n      <td>90</td>\n      <td>87</td>\n      <td>89</td>\n      <td>85</td>\n    </tr>\n    <tr>\n      <th>1</th>\n      <td>2</td>\n      <td>86</td>\n      <td>81</td>\n      <td>88</td>\n      <td>83</td>\n    </tr>\n    <tr>\n      <th>2</th>\n      <td>3</td>\n      <td>83</td>\n      <td>80</td>\n      <td>81</td>\n      <td>78</td>\n    </tr>\n    <tr>\n      <th>3</th>\n      <td>4</td>\n      <td>88</td>\n      <td>82</td>\n      <td>88</td>\n      <td>84</td>\n    </tr>\n    <tr>\n      <th>4</th>\n      <td>5</td>\n      <td>84</td>\n      <td>79</td>\n      <td>86</td>\n      <td>82</td>\n    </tr>\n    <tr>\n      <th>5</th>\n      <td>6</td>\n      <td>87</td>\n      <td>84</td>\n      <td>84</td>\n      <td>80</td>\n    </tr>\n    <tr>\n      <th>6</th>\n      <td>7</td>\n      <td>87</td>\n      <td>84</td>\n      <td>87</td>\n      <td>85</td>\n    </tr>\n    <tr>\n      <th>7</th>\n      <td>8</td>\n      <td>91</td>\n      <td>88</td>\n      <td>91</td>\n      <td>89</td>\n    </tr>\n    <tr>\n      <th>8</th>\n      <td>9</td>\n      <td>89</td>\n      <td>84</td>\n      <td>88</td>\n      <td>84</td>\n    </tr>\n  </tbody>\n</table>\n</div>"
     },
     "metadata": {}
    }
   ]
  },
  {
   "cell_type": "code",
   "source": [
    "score_df.drop([0], axis = 1, inplace = True) "
   ],
   "metadata": {
    "execution": {
     "iopub.status.busy": "2023-01-29T06:56:06.654642Z",
     "iopub.execute_input": "2023-01-29T06:56:06.655000Z",
     "iopub.status.idle": "2023-01-29T06:56:06.663470Z",
     "shell.execute_reply.started": "2023-01-29T06:56:06.654970Z",
     "shell.execute_reply": "2023-01-29T06:56:06.662500Z"
    },
    "trusted": true
   },
   "execution_count": 62,
   "outputs": []
  },
  {
   "cell_type": "code",
   "source": [
    "score_df = score_df[:9]"
   ],
   "metadata": {
    "execution": {
     "iopub.status.busy": "2023-01-29T06:56:04.629897Z",
     "iopub.execute_input": "2023-01-29T06:56:04.630265Z",
     "iopub.status.idle": "2023-01-29T06:56:04.635371Z",
     "shell.execute_reply.started": "2023-01-29T06:56:04.630233Z",
     "shell.execute_reply": "2023-01-29T06:56:04.634149Z"
    },
    "trusted": true
   },
   "execution_count": 60,
   "outputs": []
  },
  {
   "cell_type": "code",
   "source": [
    "score_df.insert(0, 'Clusters', ['1','2','3', '4','5','6', '7', '8', '9'])"
   ],
   "metadata": {
    "execution": {
     "iopub.status.busy": "2023-01-29T06:56:04.834247Z",
     "iopub.execute_input": "2023-01-29T06:56:04.834560Z",
     "iopub.status.idle": "2023-01-29T06:56:04.840685Z",
     "shell.execute_reply.started": "2023-01-29T06:56:04.834532Z",
     "shell.execute_reply": "2023-01-29T06:56:04.839683Z"
    },
    "trusted": true
   },
   "execution_count": 61,
   "outputs": []
  },
  {
   "cell_type": "code",
   "source": [
    "score_df.to_csv('score_cluster_gen_val_df.csv', index = False, encoding='utf-8')"
   ],
   "metadata": {
    "execution": {
     "iopub.status.busy": "2023-01-29T06:56:27.000521Z",
     "iopub.execute_input": "2023-01-29T06:56:27.001211Z",
     "iopub.status.idle": "2023-01-29T06:56:27.010339Z",
     "shell.execute_reply.started": "2023-01-29T06:56:27.001177Z",
     "shell.execute_reply": "2023-01-29T06:56:27.009333Z"
    },
    "trusted": true
   },
   "execution_count": 64,
   "outputs": []
  },
  {
   "cell_type": "code",
   "source": [
    "sns.set()\n",
    "score_df.plot(x=0, y=[\"F1\", \"F1-van\"], figsize=(14, 10))\n",
    "plt.xticks(rotation=75)"
   ],
   "metadata": {
    "execution": {
     "iopub.status.busy": "2023-01-29T06:56:28.267101Z",
     "iopub.execute_input": "2023-01-29T06:56:28.267462Z",
     "iopub.status.idle": "2023-01-29T06:56:28.572830Z",
     "shell.execute_reply.started": "2023-01-29T06:56:28.267427Z",
     "shell.execute_reply": "2023-01-29T06:56:28.571934Z"
    },
    "trusted": true
   },
   "execution_count": 65,
   "outputs": [
    {
     "execution_count": 65,
     "output_type": "execute_result",
     "data": {
      "text/plain": "(array([-1.,  0.,  1.,  2.,  3.,  4.,  5.,  6.,  7.,  8.,  9.]),\n [Text(-1.0, 0, '9'),\n  Text(0.0, 0, '1'),\n  Text(1.0, 0, '2'),\n  Text(2.0, 0, '3'),\n  Text(3.0, 0, '4'),\n  Text(4.0, 0, '5'),\n  Text(5.0, 0, '6'),\n  Text(6.0, 0, '7'),\n  Text(7.0, 0, '8'),\n  Text(8.0, 0, '9'),\n  Text(9.0, 0, '')])"
     },
     "metadata": {}
    },
    {
     "output_type": "display_data",
     "data": {
      "text/plain": "<Figure size 1008x720 with 1 Axes>",
      "image/png": "[encoded data removed]"
     },
     "metadata": {}
    }
   ]
  },
  {
   "cell_type": "code",
   "source": [
    "sns.set()\n",
    "score_df.plot(x=0, y=[\"EM\", \"EM-van\"], figsize=(14, 10))\n",
    "plt.xticks(rotation=75)"
   ],
   "metadata": {
    "execution": {
     "iopub.status.busy": "2023-01-29T06:56:30.732566Z",
     "iopub.execute_input": "2023-01-29T06:56:30.733601Z",
     "iopub.status.idle": "2023-01-29T06:56:30.994455Z",
     "shell.execute_reply.started": "2023-01-29T06:56:30.733545Z",
     "shell.execute_reply": "2023-01-29T06:56:30.993553Z"
    },
    "trusted": true
   },
   "execution_count": 66,
   "outputs": [
    {
     "execution_count": 66,
     "output_type": "execute_result",
     "data": {
      "text/plain": "(array([-1.,  0.,  1.,  2.,  3.,  4.,  5.,  6.,  7.,  8.,  9.]),\n [Text(-1.0, 0, '9'),\n  Text(0.0, 0, '1'),\n  Text(1.0, 0, '2'),\n  Text(2.0, 0, '3'),\n  Text(3.0, 0, '4'),\n  Text(4.0, 0, '5'),\n  Text(5.0, 0, '6'),\n  Text(6.0, 0, '7'),\n  Text(7.0, 0, '8'),\n  Text(8.0, 0, '9'),\n  Text(9.0, 0, '')])"
     },
     "metadata": {}
    },
    {
     "output_type": "display_data",
     "data": {
      "text/plain": "<Figure size 1008x720 with 1 Axes>",
      "image/png": "[encoded data removed]"
     },
     "metadata": {}
    }
   ]
  },
  {
   "cell_type": "code",
   "source": [
    "score_df['F1'].mean()"
   ],
   "metadata": {
    "execution": {
     "iopub.status.busy": "2023-01-29T06:56:33.564002Z",
     "iopub.execute_input": "2023-01-29T06:56:33.564636Z",
     "iopub.status.idle": "2023-01-29T06:56:33.571543Z",
     "shell.execute_reply.started": "2023-01-29T06:56:33.564583Z",
     "shell.execute_reply": "2023-01-29T06:56:33.570641Z"
    },
    "trusted": true
   },
   "execution_count": 67,
   "outputs": [
    {
     "execution_count": 67,
     "output_type": "execute_result",
     "data": {
      "text/plain": "87.22222222222223"
     },
     "metadata": {}
    }
   ]
  },
  {
   "cell_type": "code",
   "source": [
    "score_df['F1-van'].mean()"
   ],
   "metadata": {
    "execution": {
     "iopub.status.busy": "2023-01-29T06:56:33.933878Z",
     "iopub.execute_input": "2023-01-29T06:56:33.936117Z",
     "iopub.status.idle": "2023-01-29T06:56:33.944201Z",
     "shell.execute_reply.started": "2023-01-29T06:56:33.936081Z",
     "shell.execute_reply": "2023-01-29T06:56:33.943081Z"
    },
    "trusted": true
   },
   "execution_count": 68,
   "outputs": [
    {
     "execution_count": 68,
     "output_type": "execute_result",
     "data": {
      "text/plain": "86.88888888888889"
     },
     "metadata": {}
    }
   ]
  },
  {
   "cell_type": "code",
   "source": [
    "score_df.mean()"
   ],
   "metadata": {
    "execution": {
     "iopub.status.busy": "2023-01-29T06:56:41.569140Z",
     "iopub.execute_input": "2023-01-29T06:56:41.569507Z",
     "iopub.status.idle": "2023-01-29T06:56:41.579542Z",
     "shell.execute_reply.started": "2023-01-29T06:56:41.569475Z",
     "shell.execute_reply": "2023-01-29T06:56:41.578238Z"
    },
    "trusted": true
   },
   "execution_count": 69,
   "outputs": [
    {
     "execution_count": 69,
     "output_type": "execute_result",
     "data": {
      "text/plain": "Clusters    1.371742e+07\nF1          8.722222e+01\nEM          8.322222e+01\nF1-van      8.688889e+01\nEM-van      8.333333e+01\ndtype: float64"
     },
     "metadata": {}
    }
   ]
  },
  {
   "cell_type": "code",
   "source": [
    "score_df.var()"
   ],
   "metadata": {
    "execution": {
     "iopub.status.busy": "2023-01-29T06:56:41.792500Z",
     "iopub.execute_input": "2023-01-29T06:56:41.792811Z",
     "iopub.status.idle": "2023-01-29T06:56:41.801501Z",
     "shell.execute_reply.started": "2023-01-29T06:56:41.792780Z",
     "shell.execute_reply": "2023-01-29T06:56:41.800602Z"
    },
    "trusted": true
   },
   "execution_count": 70,
   "outputs": [
    {
     "execution_count": 70,
     "output_type": "execute_result",
     "data": {
      "text/plain": "F1         6.944444\nEM         9.194444\nF1-van     8.611111\nEM-van    10.000000\ndtype: float64"
     },
     "metadata": {}
    }
   ]
  }
 ]
}
