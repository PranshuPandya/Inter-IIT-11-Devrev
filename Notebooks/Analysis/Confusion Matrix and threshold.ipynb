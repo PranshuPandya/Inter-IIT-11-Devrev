{
 "metadata": {
  "kernelspec": {
   "language": "python",
   "display_name": "Python 3",
   "name": "python3"
  },
  "language_info": {
   "name": "python",
   "version": "3.7.12",
   "mimetype": "text/x-python",
   "codemirror_mode": {
    "name": "ipython",
    "version": 3
   },
   "pygments_lexer": "ipython3",
   "nbconvert_exporter": "python",
   "file_extension": ".py"
  }
 },
 "nbformat_minor": 4,
 "nbformat": 4,
 "cells": [
  {
   "cell_type": "markdown",
   "source": [
    "## Imports"
   ],
   "metadata": {}
  },
  {
   "cell_type": "code",
   "source": [
    "import pandas as pd\n",
    "import numpy as np\n",
    "import copy\n",
    "import torch\n",
    "import re\n",
    "import collections\n",
    "import string\n",
    "from transformers import AutoModel, AutoConfig, AutoTokenizer, AutoModelForQuestionAnswering\n",
    "from transformers import pipeline\n",
    "from transformers import DataCollatorWithPadding, DefaultDataCollator\n",
    "from torch.utils.data import DataLoader\n",
    "from datasets import Dataset\n",
    "from transformers import AdamW\n",
    "from transformers import get_linear_schedule_with_warmup, get_cosine_schedule_with_warmup\n",
    "import torch.nn as nn\n",
    "import torch.nn.functional as F\n",
    "import gc\n",
    "from tqdm import tqdm\n",
    "import os\n",
    "# Suppress warnings\n",
    "import warnings\n",
    "warnings.filterwarnings(\"ignore\")\n",
    "\n",
    "# For descriptive error messages\n",
    "os.environ['CUDA_LAUNCH_BLOCKING'] = \"1\"\n",
    "os.environ['TOKENIZERS_PARALLELISM'] = \"False\""
   ],
   "metadata": {
    "papermill": {
     "duration": 7.837926,
     "end_time": "2023-01-04T21:44:54.882989",
     "exception": false,
     "start_time": "2023-01-04T21:44:47.045063",
     "status": "completed"
    },
    "tags": [],
    "execution": {
     "iopub.status.busy": "2023-01-15T15:53:15.214942Z",
     "iopub.execute_input": "2023-01-15T15:53:15.215356Z",
     "iopub.status.idle": "2023-01-15T15:53:25.179358Z",
     "shell.execute_reply.started": "2023-01-15T15:53:15.215277Z",
     "shell.execute_reply": "2023-01-15T15:53:25.178375Z"
    },
    "trusted": true
   },
   "execution_count": 1,
   "outputs": []
  },
  {
   "cell_type": "code",
   "source": [
    "class Config:\n",
    "    max_length = 384\n",
    "    doc_stride = 128\n",
    "    train_batch_size = 64\n",
    "    valid_batch_size = 16\n",
    "    n_accumulate = 1\n",
    "    n_folds = 5\n",
    "    num_epochs = 1\n",
    "    collate_fn = DefaultDataCollator()\n",
    "    lr = 9e-5\n",
    "    weight_decay = 0.001\n",
    "    warmup_prop=0.15\n",
    "    pad_on_right = None\n",
    "    device = \"cuda:0\" if torch.cuda.is_available() else \"cpu\"\n",
    "    student_model_name = \"deepset/tinyroberta-squad2\"\n",
    "    teacher_model_name = \"nlpconnect/roberta-base-squad2-nq\"\n",
    "    s_tokenizer = None\n",
    "    seed = 42\n",
    "    wandb_run_name = \"disitilbert-NQ\"\n",
    "\n",
    "    # Distillation params\n",
    "    temp = 2\n",
    "    alpha = 0.5\n",
    "    \n",
    "config = Config()\n",
    "config.s_tokenizer = AutoTokenizer.from_pretrained(config.student_model_name)\n",
    "config.pad_on_right = config.s_tokenizer.padding_side == \"right\" "
   ],
   "metadata": {
    "id": "TWfyud45Y1Si",
    "papermill": {
     "duration": 5.666532,
     "end_time": "2023-01-04T21:45:00.553785",
     "exception": false,
     "start_time": "2023-01-04T21:44:54.887253",
     "status": "completed"
    },
    "tags": [],
    "execution": {
     "iopub.status.busy": "2023-01-15T15:53:25.181457Z",
     "iopub.execute_input": "2023-01-15T15:53:25.182134Z",
     "iopub.status.idle": "2023-01-15T15:53:27.197626Z",
     "shell.execute_reply.started": "2023-01-15T15:53:25.182096Z",
     "shell.execute_reply": "2023-01-15T15:53:27.196623Z"
    },
    "trusted": true
   },
   "execution_count": 2,
   "outputs": [
    {
     "output_type": "display_data",
     "data": {
      "text/plain": "Downloading:   0%|          | 0.00/383 [00:00<?, ?B/s]",
      "application/vnd.jupyter.widget-view+json": {
       "version_major": 2,
       "version_minor": 0,
       "model_id": "4c8f9813d52e4d3e9c4c79423b2a3100"
      }
     },
     "metadata": {}
    },
    {
     "output_type": "display_data",
     "data": {
      "text/plain": "Downloading:   0%|          | 0.00/780k [00:00<?, ?B/s]",
      "application/vnd.jupyter.widget-view+json": {
       "version_major": 2,
       "version_minor": 0,
       "model_id": "d1cc9e3da99044b999667c283e666c0d"
      }
     },
     "metadata": {}
    },
    {
     "output_type": "display_data",
     "data": {
      "text/plain": "Downloading:   0%|          | 0.00/446k [00:00<?, ?B/s]",
      "application/vnd.jupyter.widget-view+json": {
       "version_major": 2,
       "version_minor": 0,
       "model_id": "105b787816f94fa5906ddee8990d3fe4"
      }
     },
     "metadata": {}
    },
    {
     "output_type": "display_data",
     "data": {
      "text/plain": "Downloading:   0%|          | 0.00/1.29M [00:00<?, ?B/s]",
      "application/vnd.jupyter.widget-view+json": {
       "version_major": 2,
       "version_minor": 0,
       "model_id": "01c085be5ede47b98efa37515a82ddbc"
      }
     },
     "metadata": {}
    },
    {
     "output_type": "display_data",
     "data": {
      "text/plain": "Downloading:   0%|          | 0.00/239 [00:00<?, ?B/s]",
      "application/vnd.jupyter.widget-view+json": {
       "version_major": 2,
       "version_minor": 0,
       "model_id": "ef941b6680dc4866a6428219754b9c72"
      }
     },
     "metadata": {}
    }
   ]
  },
  {
   "cell_type": "code",
   "source": [
    "def seed(seed):\n",
    "    np.random.seed(seed)\n",
    "    torch.manual_seed(seed)\n",
    "    torch.cuda.manual_seed(seed)\n",
    "    # When running on the CuDNN backend, two further options must be set\n",
    "    torch.backends.cudnn.deterministic = True\n",
    "    torch.backends.cudnn.benchmark = False\n",
    "    # Set a fixed value for the hash seed\n",
    "    os.environ['PYTHONHASHSEED'] = str(seed)\n",
    "    \n",
    "seed(config.seed)"
   ],
   "metadata": {
    "papermill": {
     "duration": 0.026259,
     "end_time": "2023-01-04T21:45:00.589576",
     "exception": false,
     "start_time": "2023-01-04T21:45:00.563317",
     "status": "completed"
    },
    "tags": [],
    "execution": {
     "iopub.status.busy": "2023-01-15T15:53:27.202111Z",
     "iopub.execute_input": "2023-01-15T15:53:27.203011Z",
     "iopub.status.idle": "2023-01-15T15:53:27.214943Z",
     "shell.execute_reply.started": "2023-01-15T15:53:27.202973Z",
     "shell.execute_reply": "2023-01-15T15:53:27.213951Z"
    },
    "trusted": true
   },
   "execution_count": 3,
   "outputs": []
  },
  {
   "cell_type": "markdown",
   "source": [
    "## Preprocessing"
   ],
   "metadata": {}
  },
  {
   "cell_type": "code",
   "source": [
    "df = pd.read_csv(\"/kaggle/input/inter-iit-devrev/train_5folds.csv\")\n",
    "df['Answer_possible'] = df['Answer_possible'].astype(np.int16)\n",
    "df['Answer_text'] = df.Answer_text.apply(eval)\n",
    "# df['Answer_text'] = df.Answer_text.apply(lambda x:[x] if x=='' else x)\n",
    "df['Answer_start'] = df.Answer_start.apply(eval)\n",
    "df['Answer_start'] = df.Answer_start.apply(lambda x: [int(x[0])] if len(x) > 0 else [0])\n",
    "df['answer_end'] = (df['Answer_start'].apply(lambda x:x[0]) + df['Answer_text'].apply(lambda x:len(x[0]) if len(x)>0 else 0)).apply(lambda x:[x])\n",
    "\n",
    "df.rename(columns={df.columns[0]:'id', 'Paragraph':'context',\n",
    "                   'Question':'question',\n",
    "                   'Answer_text':'answer',\n",
    "                   'Answer_start':'answer_start',\n",
    "                   'Answer_possible':'answer_possible'}, inplace=True)\n",
    "df['context'] = df['context'].apply(lambda t : t.strip())"
   ],
   "metadata": {
    "id": "nrx2FfWqY1Sk",
    "papermill": {
     "duration": 2.456336,
     "end_time": "2023-01-04T21:45:03.052388",
     "exception": false,
     "start_time": "2023-01-04T21:45:00.596052",
     "status": "completed"
    },
    "tags": [],
    "execution": {
     "iopub.status.busy": "2023-01-15T15:53:27.219885Z",
     "iopub.execute_input": "2023-01-15T15:53:27.222524Z",
     "iopub.status.idle": "2023-01-15T15:53:29.560773Z",
     "shell.execute_reply.started": "2023-01-15T15:53:27.222489Z",
     "shell.execute_reply": "2023-01-15T15:53:29.559675Z"
    },
    "trusted": true
   },
   "execution_count": 4,
   "outputs": []
  },
  {
   "cell_type": "code",
   "source": [
    "df.head()"
   ],
   "metadata": {
    "id": "JMtd9thsY1Sk",
    "outputId": "56485fe7-1189-47eb-8e9e-ffc65241a48d",
    "papermill": {
     "duration": 0.028187,
     "end_time": "2023-01-04T21:45:03.08547",
     "exception": false,
     "start_time": "2023-01-04T21:45:03.057283",
     "status": "completed"
    },
    "tags": [],
    "execution": {
     "iopub.status.busy": "2023-01-15T15:53:29.562477Z",
     "iopub.execute_input": "2023-01-15T15:53:29.562868Z",
     "iopub.status.idle": "2023-01-15T15:53:29.586749Z",
     "shell.execute_reply.started": "2023-01-15T15:53:29.562829Z",
     "shell.execute_reply": "2023-01-15T15:53:29.585900Z"
    },
    "trusted": true
   },
   "execution_count": 5,
   "outputs": [
    {
     "execution_count": 5,
     "output_type": "execute_result",
     "data": {
      "text/plain": "   id    Theme                                            context  \\\n0   2  Beyoncé  Beyoncé Giselle Knowles-Carter (/biːˈjɒnseɪ/ b...   \n1   6  Beyoncé  Beyoncé Giselle Knowles-Carter (/biːˈjɒnseɪ/ b...   \n2   7  Beyoncé  Beyoncé Giselle Knowles-Carter (/biːˈjɒnseɪ/ b...   \n3   8  Beyoncé  Beyoncé Giselle Knowles-Carter (/biːˈjɒnseɪ/ b...   \n4   9  Beyoncé  Beyoncé Giselle Knowles-Carter (/biːˈjɒnseɪ/ b...   \n\n                                            question  answer_possible  \\\n0  When did Beyonce leave Destiny's Child and bec...                1   \n1      What album made her a worldwide known artist?                1   \n2             Who managed the Destiny's Child group?                1   \n3                     When did Beyoncé rise to fame?                1   \n4     What role did Beyoncé have in Destiny's Child?                1   \n\n                  answer answer_start  fold answer_end  \n0                 [2003]        [526]     1      [530]  \n1  [Dangerously in Love]        [505]     1      [524]  \n2       [Mathew Knowles]        [360]     1      [374]  \n3           [late 1990s]        [276]     1      [286]  \n4          [lead singer]        [290]     1      [301]  ",
      "text/html": "<div>\n<style scoped>\n    .dataframe tbody tr th:only-of-type {\n        vertical-align: middle;\n    }\n\n    .dataframe tbody tr th {\n        vertical-align: top;\n    }\n\n    .dataframe thead th {\n        text-align: right;\n    }\n</style>\n<table border=\"1\" class=\"dataframe\">\n  <thead>\n    <tr style=\"text-align: right;\">\n      <th></th>\n      <th>id</th>\n      <th>Theme</th>\n      <th>context</th>\n      <th>question</th>\n      <th>answer_possible</th>\n      <th>answer</th>\n      <th>answer_start</th>\n      <th>fold</th>\n      <th>answer_end</th>\n    </tr>\n  </thead>\n  <tbody>\n    <tr>\n      <th>0</th>\n      <td>2</td>\n      <td>Beyoncé</td>\n      <td>Beyoncé Giselle Knowles-Carter (/biːˈjɒnseɪ/ b...</td>\n      <td>When did Beyonce leave Destiny's Child and bec...</td>\n      <td>1</td>\n      <td>[2003]</td>\n      <td>[526]</td>\n      <td>1</td>\n      <td>[530]</td>\n    </tr>\n    <tr>\n      <th>1</th>\n      <td>6</td>\n      <td>Beyoncé</td>\n      <td>Beyoncé Giselle Knowles-Carter (/biːˈjɒnseɪ/ b...</td>\n      <td>What album made her a worldwide known artist?</td>\n      <td>1</td>\n      <td>[Dangerously in Love]</td>\n      <td>[505]</td>\n      <td>1</td>\n      <td>[524]</td>\n    </tr>\n    <tr>\n      <th>2</th>\n      <td>7</td>\n      <td>Beyoncé</td>\n      <td>Beyoncé Giselle Knowles-Carter (/biːˈjɒnseɪ/ b...</td>\n      <td>Who managed the Destiny's Child group?</td>\n      <td>1</td>\n      <td>[Mathew Knowles]</td>\n      <td>[360]</td>\n      <td>1</td>\n      <td>[374]</td>\n    </tr>\n    <tr>\n      <th>3</th>\n      <td>8</td>\n      <td>Beyoncé</td>\n      <td>Beyoncé Giselle Knowles-Carter (/biːˈjɒnseɪ/ b...</td>\n      <td>When did Beyoncé rise to fame?</td>\n      <td>1</td>\n      <td>[late 1990s]</td>\n      <td>[276]</td>\n      <td>1</td>\n      <td>[286]</td>\n    </tr>\n    <tr>\n      <th>4</th>\n      <td>9</td>\n      <td>Beyoncé</td>\n      <td>Beyoncé Giselle Knowles-Carter (/biːˈjɒnseɪ/ b...</td>\n      <td>What role did Beyoncé have in Destiny's Child?</td>\n      <td>1</td>\n      <td>[lead singer]</td>\n      <td>[290]</td>\n      <td>1</td>\n      <td>[301]</td>\n    </tr>\n  </tbody>\n</table>\n</div>"
     },
     "metadata": {}
    }
   ]
  },
  {
   "cell_type": "code",
   "source": [
    "def process_text(inp, config=config):\n",
    "    tokenized_inp = config.s_tokenizer(inp['question'],\n",
    "                             inp['context'],\n",
    "                              add_special_tokens=True,\n",
    "                             truncation='only_second',\n",
    "                             max_length=config.max_length,\n",
    "                             stride=config.doc_stride,\n",
    "                             return_offsets_mapping=True,\n",
    "                             return_overflowing_tokens=True,\n",
    "                             padding='max_length',\n",
    "                             return_token_type_ids=True)\n",
    "    \n",
    "    sample_mapping = tokenized_inp.pop(\"overflow_to_sample_mapping\")\n",
    "\n",
    "    offset_mapping = tokenized_inp.pop(\"offset_mapping\")\n",
    "    \n",
    "    start_positions = []\n",
    "    end_positions = []\n",
    "    \n",
    "    for i, offsets in enumerate(offset_mapping):\n",
    "        # We will label impossible answers with the index of the CLS token.\n",
    "        input_ids = tokenized_inp[\"input_ids\"][i]\n",
    "        cls_index = input_ids.index(config.s_tokenizer.cls_token_id)\n",
    "\n",
    "        # Grab the sequence corresponding to that example (to know what is the context and what is the question).\n",
    "        sequence_ids = tokenized_inp.sequence_ids(i)\n",
    "\n",
    "        # One example can give several spans, this is the index of the example containing this span of text.\n",
    "        sample_index = sample_mapping[i]\n",
    "\n",
    "        # If no answers are given, set the cls_index as answer.\n",
    "        if inp['answer_possible'][sample_index] == 0:\n",
    "            start_positions.append(cls_index)\n",
    "            end_positions.append(cls_index)\n",
    "        else:\n",
    "            # Start/end character index of the answer in the text.\n",
    "            start_char = inp[\"answer_start\"][sample_index][0]\n",
    "            end_char = inp['answer_end'][sample_index][0]\n",
    "\n",
    "            # Start token index of the current span in the text.\n",
    "            token_start_index = 0\n",
    "            while sequence_ids[token_start_index] != (1 if config.pad_on_right else 0):\n",
    "                token_start_index += 1\n",
    "\n",
    "            # End token index of the current span in the text.\n",
    "            token_end_index = len(input_ids) - 1\n",
    "            while sequence_ids[token_end_index] != (1 if config.pad_on_right else 0):\n",
    "                token_end_index -= 1\n",
    "\n",
    "            # Detect if the answer is out of the span (in which case this feature is labeled with the CLS index).\n",
    "            if not (offsets[token_start_index][0] <= start_char and offsets[token_end_index][1] >= end_char):\n",
    "                start_positions.append(cls_index)\n",
    "                end_positions.append(cls_index)\n",
    "            else:\n",
    "                # Otherwise move the token_start_index and token_end_index to the two ends of the answer.\n",
    "                # Note: we could go after the last offset if the answer is the last word (edge case).\n",
    "                while token_start_index < len(offsets) and offsets[token_start_index][0] <= start_char:\n",
    "                    token_start_index += 1\n",
    "                start_positions.append(token_start_index - 1)\n",
    "                while offsets[token_end_index][1] >= end_char:\n",
    "                    token_end_index -= 1\n",
    "                end_positions.append(token_end_index + 1)\n",
    "    \n",
    "    tokenized_inp[\"start_positions\"] = start_positions\n",
    "    tokenized_inp[\"end_positions\"] = end_positions\n",
    "\n",
    "    return tokenized_inp\n"
   ],
   "metadata": {
    "id": "rBJTYqmEY1Sl",
    "papermill": {
     "duration": 0.019836,
     "end_time": "2023-01-04T21:45:03.110197",
     "exception": false,
     "start_time": "2023-01-04T21:45:03.090361",
     "status": "completed"
    },
    "tags": [],
    "execution": {
     "iopub.status.busy": "2023-01-15T15:53:29.588033Z",
     "iopub.execute_input": "2023-01-15T15:53:29.588987Z",
     "iopub.status.idle": "2023-01-15T15:53:29.602782Z",
     "shell.execute_reply.started": "2023-01-15T15:53:29.588949Z",
     "shell.execute_reply": "2023-01-15T15:53:29.601830Z"
    },
    "trusted": true
   },
   "execution_count": 6,
   "outputs": []
  },
  {
   "cell_type": "markdown",
   "source": [
    "## Loss"
   ],
   "metadata": {}
  },
  {
   "cell_type": "code",
   "source": [
    "def criterion(pred1, pred2, out1, out2, gt=False):\n",
    "    if gt:\n",
    "        l1 = nn.CrossEntropyLoss()(input=pred1, target=out1.to(torch.long))\n",
    "        l2 = nn.CrossEntropyLoss()(input=pred2, target=out2.to(torch.long))\n",
    "    else:\n",
    "        l1 = nn.CrossEntropyLoss()(input=pred1, target=F.softmax(out1, dim=-1))\n",
    "        l2 = nn.CrossEntropyLoss()(input=pred2, target=F.softmax(out2, dim=-1))\n",
    "\n",
    "    loss = l1+l2\n",
    "\n",
    "    return loss"
   ],
   "metadata": {
    "id": "DdW6kMnXY1Sn",
    "papermill": {
     "duration": 0.013763,
     "end_time": "2023-01-04T21:45:03.128788",
     "exception": false,
     "start_time": "2023-01-04T21:45:03.115025",
     "status": "completed"
    },
    "tags": [],
    "execution": {
     "iopub.status.busy": "2023-01-14T09:58:44.207436Z",
     "iopub.execute_input": "2023-01-14T09:58:44.208008Z",
     "iopub.status.idle": "2023-01-14T09:58:44.223166Z",
     "shell.execute_reply.started": "2023-01-14T09:58:44.207969Z",
     "shell.execute_reply": "2023-01-14T09:58:44.221819Z"
    },
    "trusted": true
   },
   "execution_count": null,
   "outputs": []
  },
  {
   "cell_type": "code",
   "source": [
    "def train_epoch(student_model, teacher_model, data_loader, optimizer, scheduler, epoch, scaler, device):#, accelerator):\n",
    "\n",
    "    student_model.train()\n",
    "    teacher_model.eval()\n",
    "\n",
    "    dataset_size = 0\n",
    "    running_loss = 0.0\n",
    "    \n",
    "    bar = tqdm(enumerate(data_loader), total=len(data_loader))\n",
    "    \n",
    "    for step, data in bar:\n",
    "        ids = data['input_ids'].to(device)\n",
    "        mask = data['attention_mask'].to(device)\n",
    "        token_type_ids = data['token_type_ids'].to(device)\n",
    "        \n",
    "        gt1 = data['start_positions'].to(device)\n",
    "        gt2 = data['end_positions'].to(device)\n",
    "        batch_size = ids.size(0)\n",
    "\n",
    "        with torch.autocast(device_type='cuda'):\n",
    "            with torch.no_grad():\n",
    "                out = teacher_model(ids, attention_mask=mask)\n",
    "                out1, out2 = out.start_logits, out.end_logits\n",
    "          \n",
    "            pred = student_model(ids, attention_mask=mask)\n",
    "            pred1, pred2 = pred.start_logits, pred.end_logits\n",
    "            loss = criterion(pred1, pred2, out1, out2)\n",
    "            loss = loss / config.n_accumulate\n",
    "\n",
    "        scaler.scale(loss).backward()\n",
    "             \n",
    "        if (step + 1) % config.n_accumulate == 0:\n",
    "            scaler.step(optimizer)\n",
    "            scaler.update()\n",
    "            optimizer.zero_grad()\n",
    "\n",
    "            if scheduler is not None:\n",
    "                scheduler.step()\n",
    "                \n",
    "                \n",
    "        running_loss += (loss.item() * batch_size)\n",
    "        dataset_size += batch_size\n",
    "        \n",
    "        epoch_loss = running_loss / dataset_size\n",
    "        \n",
    "        del pred, pred1, pred2, gt1, gt2, out, out1, out2\n",
    "        _ = gc.collect() \n",
    "        \n",
    "        bar.set_postfix(Epoch=epoch, Train_Loss=epoch_loss,\n",
    "                        LR=optimizer.param_groups[0]['lr'])\n",
    "    gc.collect()\n",
    "    \n",
    "    return epoch_loss\n",
    "        "
   ],
   "metadata": {
    "id": "tYborawUY1So",
    "papermill": {
     "duration": 0.018907,
     "end_time": "2023-01-04T21:45:03.152462",
     "exception": false,
     "start_time": "2023-01-04T21:45:03.133555",
     "status": "completed"
    },
    "tags": [],
    "execution": {
     "iopub.status.busy": "2023-01-14T09:47:04.749927Z",
     "iopub.execute_input": "2023-01-14T09:47:04.750476Z",
     "iopub.status.idle": "2023-01-14T09:47:04.763693Z",
     "shell.execute_reply.started": "2023-01-14T09:47:04.750439Z",
     "shell.execute_reply": "2023-01-14T09:47:04.762512Z"
    },
    "trusted": true
   },
   "execution_count": null,
   "outputs": []
  },
  {
   "cell_type": "code",
   "source": [
    "@torch.no_grad()\n",
    "def valid_epoch(student_model, teacher_model, data_loader, epoch, device):\n",
    "    \n",
    "    student_model.eval()\n",
    "    teacher_model.eval()\n",
    "    \n",
    "    dataset_size = 0\n",
    "    running_loss = 0.0\n",
    "    running_gt_loss = 0.0\n",
    "    \n",
    "    bar = tqdm(enumerate(data_loader), total=len(data_loader))\n",
    "    \n",
    "    for step, data in bar:        \n",
    "        ids = data['input_ids'].to(device)\n",
    "        mask = data['attention_mask'].to(device)\n",
    "        token_type_ids = data['token_type_ids'].to(device)\n",
    "        \n",
    "        gt1 = data['start_positions'].to(device)\n",
    "        gt2 = data['end_positions'].to(device)\n",
    "                \n",
    "        batch_size = ids.size(0)\n",
    "                    \n",
    "        with torch.autocast(device_type='cuda'):\n",
    "            out = teacher_model(ids, attention_mask=mask)\n",
    "            out1, out2 = out.start_logits, out.end_logits\n",
    "            \n",
    "            pred = student_model(ids, attention_mask=mask)\n",
    "            pred1, pred2 = pred.start_logits, pred.end_logits\n",
    "            \n",
    "            loss = criterion(pred1, pred2, out1, out2)\n",
    "            loss_gt = criterion(pred1, pred2, gt1, gt2, gt=True)\n",
    "        \n",
    "        \n",
    "        del pred, pred1, pred2, gt1, gt2, out, out1, out2\n",
    "        _ = gc.collect()    \n",
    "\n",
    "        running_loss += (loss.item() * batch_size)\n",
    "        dataset_size += batch_size\n",
    "        \n",
    "        running_gt_loss += (loss_gt.item() * batch_size)\n",
    "        \n",
    "        epoch_loss = running_loss / dataset_size\n",
    "        epoch_loss_gt = running_gt_loss / dataset_size\n",
    "\n",
    "        \n",
    "        bar.set_postfix(Epoch=epoch, Valid_Loss=epoch_loss, Ground_Truth_Loss=epoch_loss_gt)   \n",
    "    \n",
    "    gc.collect()\n",
    "    \n",
    "    return epoch_loss\n"
   ],
   "metadata": {
    "id": "pwvCMXiIY1So",
    "papermill": {
     "duration": 0.018678,
     "end_time": "2023-01-04T21:45:03.175997",
     "exception": false,
     "start_time": "2023-01-04T21:45:03.157319",
     "status": "completed"
    },
    "tags": [],
    "execution": {
     "iopub.status.busy": "2023-01-14T09:47:04.765073Z",
     "iopub.execute_input": "2023-01-14T09:47:04.765526Z",
     "iopub.status.idle": "2023-01-14T09:47:04.778534Z",
     "shell.execute_reply.started": "2023-01-14T09:47:04.76549Z",
     "shell.execute_reply": "2023-01-14T09:47:04.777643Z"
    },
    "trusted": true
   },
   "execution_count": null,
   "outputs": []
  },
  {
   "cell_type": "code",
   "source": [
    "# Fold 1\n",
    "fold = 1\n",
    "\n",
    "# df = df.sample(200)\n",
    "\n",
    "df_train = df[df.fold != fold].reset_index(drop=True)\n",
    "df_valid = df[df.fold == fold].reset_index(drop=True)\n",
    "\n",
    "train_dataset = Dataset.from_pandas(df_train).map(process_text, batched=True, remove_columns=list(df.columns))\n",
    "valid_dataset = Dataset.from_pandas(df_valid).map(process_text, batched=True, remove_columns=list(df.columns))"
   ],
   "metadata": {
    "papermill": {
     "duration": 64.381913,
     "end_time": "2023-01-04T21:46:07.563624",
     "exception": false,
     "start_time": "2023-01-04T21:45:03.181711",
     "status": "completed"
    },
    "tags": [],
    "execution": {
     "iopub.status.busy": "2023-01-14T09:47:28.148801Z",
     "iopub.execute_input": "2023-01-14T09:47:28.149221Z",
     "iopub.status.idle": "2023-01-14T09:47:28.156482Z",
     "shell.execute_reply.started": "2023-01-14T09:47:28.149182Z",
     "shell.execute_reply": "2023-01-14T09:47:28.155358Z"
    },
    "trusted": true
   },
   "execution_count": null,
   "outputs": []
  },
  {
   "cell_type": "code",
   "source": [
    "print(f\"Tokenized data: {len(train_dataset)+len(valid_dataset)}, Original data: {len(df)}\")\n",
    "print(f\"Overflow Samples: {len(train_dataset)+len(valid_dataset) - len(df)} (max_length = {config.max_length})\")"
   ],
   "metadata": {
    "papermill": {
     "duration": 0.015025,
     "end_time": "2023-01-04T21:46:07.583993",
     "exception": false,
     "start_time": "2023-01-04T21:46:07.568968",
     "status": "completed"
    },
    "tags": [],
    "execution": {
     "iopub.status.busy": "2023-01-14T09:47:16.536072Z",
     "iopub.status.idle": "2023-01-14T09:47:16.536587Z",
     "shell.execute_reply.started": "2023-01-14T09:47:16.536335Z",
     "shell.execute_reply": "2023-01-14T09:47:16.53636Z"
    },
    "trusted": true
   },
   "execution_count": null,
   "outputs": []
  },
  {
   "cell_type": "markdown",
   "source": [
    "## Training"
   ],
   "metadata": {}
  },
  {
   "cell_type": "code",
   "source": [
    "def train(train_dataset, valid_dataset, fold, config=config, model_path=None):\n",
    "    \n",
    "    train_loader = DataLoader(train_dataset, batch_size=config.train_batch_size, collate_fn=config.collate_fn, \n",
    "                              num_workers=2, shuffle=True, pin_memory=True, drop_last=True)\n",
    "    valid_loader = DataLoader(valid_dataset, batch_size=config.valid_batch_size, collate_fn=config.collate_fn,\n",
    "                              num_workers=2, shuffle=False, pin_memory=True)\n",
    "\n",
    "    num_train_steps = int(len(train_dataset) / config.train_batch_size * config.num_epochs)\n",
    "    \n",
    "    scaler = torch.cuda.amp.GradScaler()\n",
    "\n",
    "    student_model = AutoModelForQuestionAnswering.from_pretrained(config.student_model_name)\n",
    "    \n",
    "    if model_path != None:\n",
    "        checkpoint = torch.load(model_path)\n",
    "        student_model.load_state_dict(checkpoint['model_state_dict'])\n",
    "        optimizer.load_state_dict(checkpoint['optimizer_state_dict'])\n",
    "        epoch = checkpoint['epoch']\n",
    "        \n",
    "    student_model = student_model.to(config.device)\n",
    "    teacher_model = AutoModelForQuestionAnswering.from_pretrained(config.teacher_model_name).to(config.device)\n",
    "\n",
    "    # To automatically log gradients\n",
    "#     wandb.watch(student_model, log_freq=100)\n",
    "    \n",
    "    optimizer = AdamW(optimizer_params(student_model), lr=config.lr)\n",
    "    scheduler = get_cosine_schedule_with_warmup(optimizer, num_warmup_steps=config.warmup_prop*num_train_steps, \n",
    "                                                num_training_steps=num_train_steps)\n",
    "    \n",
    "    best_epoch_loss = np.inf\n",
    "    \n",
    "    history = {'Train_loss':[], \"Valid_loss\":[]}\n",
    "    \n",
    "    for epoch in range(1, config.num_epochs+1):\n",
    "        \n",
    "        train_epoch_loss = train_epoch(student_model, teacher_model, train_loader, optimizer, scheduler, epoch, scaler, config.device)\n",
    "        \n",
    "        valid_epoch_loss = valid_epoch(student_model, teacher_model, valid_loader, epoch, config.device)\n",
    "        \n",
    "        history['Train_loss'].append(train_epoch_loss)\n",
    "        history['Valid_loss'].append(valid_epoch_loss)\n",
    "        \n",
    "#         wandb.log({\"Train Loss\": train_epoch_loss})\n",
    "#         wandb.log({\"Valid Loss\": valid_epoch_loss})\n",
    "        \n",
    "        \n",
    "        if valid_epoch_loss <= best_epoch_loss:\n",
    "            print(f\"Validation Loss Improved ({best_epoch_loss} ---> {valid_epoch_loss})\")\n",
    "            best_epoch_loss = valid_epoch_loss\n",
    "            PATH = f\"Epoch-{epoch}-Fold-{fold}.pth\"\n",
    "            torch.save({\n",
    "                \"model\": student_model.state_dict()\n",
    "            }, PATH)\n",
    "            print(f\"Model Saved\")\n",
    "#             run.summary[\"Best Loss\"] = best_epoch_loss\n",
    "    \n",
    "    print(\"Best_epoch_loss: \",best_epoch_loss)\n",
    "    \n",
    "    del student_model, teacher_model\n",
    "    _ = gc.collect()\n",
    "    \n",
    "    return history   \n",
    "        "
   ],
   "metadata": {
    "id": "H7QJFbWGY1Sp",
    "papermill": {
     "duration": 0.019932,
     "end_time": "2023-01-04T21:46:07.609089",
     "exception": false,
     "start_time": "2023-01-04T21:46:07.589157",
     "status": "completed"
    },
    "tags": [],
    "execution": {
     "iopub.status.busy": "2023-01-14T09:47:16.544655Z",
     "iopub.status.idle": "2023-01-14T09:47:16.545165Z",
     "shell.execute_reply.started": "2023-01-14T09:47:16.544894Z",
     "shell.execute_reply": "2023-01-14T09:47:16.544919Z"
    },
    "trusted": true
   },
   "execution_count": null,
   "outputs": []
  },
  {
   "cell_type": "code",
   "source": [
    "def optimizer_params(model, config=config):\n",
    "    param_optimizer = list(model.named_parameters())\n",
    "    no_decay = [\"bias\", \"LayerNorm.bias\", \"LayerNorm.weight\"]\n",
    "    optimizer_parameters = [\n",
    "        {'params': [p for n, p in param_optimizer if not any(nd in n for nd in no_decay)], 'weight_decay': config.weight_decay},\n",
    "        {'params': [p for n, p in param_optimizer if any(nd in n for nd in no_decay)], 'weight_decay': 0.0},\n",
    "    ]\n",
    "    return optimizer_parameters"
   ],
   "metadata": {
    "id": "5vZhpKXtY1Sp",
    "papermill": {
     "duration": 0.014902,
     "end_time": "2023-01-04T21:46:07.629225",
     "exception": false,
     "start_time": "2023-01-04T21:46:07.614323",
     "status": "completed"
    },
    "tags": [],
    "execution": {
     "iopub.status.busy": "2023-01-14T09:47:16.550796Z",
     "iopub.status.idle": "2023-01-14T09:47:16.551303Z",
     "shell.execute_reply.started": "2023-01-14T09:47:16.551034Z",
     "shell.execute_reply": "2023-01-14T09:47:16.551059Z"
    },
    "trusted": true
   },
   "execution_count": null,
   "outputs": []
  },
  {
   "cell_type": "code",
   "source": [
    "print(f\"====== Fold: {fold} ======\")\n",
    "# run = wandb.init(project=\"Distillation-QA\", entity=\"amish_grwl\", name=config.wandb_run_name)\n",
    "history = train(train_dataset, valid_dataset, fold)\n",
    "# run.finish()\n",
    "print()"
   ],
   "metadata": {
    "id": "zL2zX-m4Y1Sq",
    "outputId": "48f98183-9e61-4c6a-a9be-674c0756ca8a",
    "papermill": {
     "duration": 13346.426532,
     "end_time": "2023-01-05T01:28:34.060857",
     "exception": false,
     "start_time": "2023-01-04T21:46:07.634325",
     "status": "completed"
    },
    "tags": [],
    "execution": {
     "iopub.status.busy": "2023-01-14T09:47:16.556044Z",
     "iopub.status.idle": "2023-01-14T09:47:16.55656Z",
     "shell.execute_reply.started": "2023-01-14T09:47:16.556301Z",
     "shell.execute_reply": "2023-01-14T09:47:16.556327Z"
    },
    "trusted": true
   },
   "execution_count": null,
   "outputs": []
  },
  {
   "cell_type": "markdown",
   "source": [
    "## Inference"
   ],
   "metadata": {}
  },
  {
   "cell_type": "code",
   "source": [
    "PATH = \"/kaggle/input/epoch1fold1train/Epoch-1-Fold-1.pth\""
   ],
   "metadata": {
    "execution": {
     "iopub.status.busy": "2023-01-15T17:56:12.503020Z",
     "iopub.execute_input": "2023-01-15T17:56:12.503462Z",
     "iopub.status.idle": "2023-01-15T17:56:12.508892Z",
     "shell.execute_reply.started": "2023-01-15T17:56:12.503433Z",
     "shell.execute_reply": "2023-01-15T17:56:12.507747Z"
    },
    "trusted": true
   },
   "execution_count": 160,
   "outputs": []
  },
  {
   "cell_type": "code",
   "source": [
    "student_model = AutoModelForQuestionAnswering.from_pretrained(config.student_model_name)"
   ],
   "metadata": {
    "execution": {
     "iopub.status.busy": "2023-01-15T17:56:13.517304Z",
     "iopub.execute_input": "2023-01-15T17:56:13.517651Z",
     "iopub.status.idle": "2023-01-15T17:56:14.675263Z",
     "shell.execute_reply.started": "2023-01-15T17:56:13.517622Z",
     "shell.execute_reply": "2023-01-15T17:56:14.674161Z"
    },
    "trusted": true
   },
   "execution_count": 161,
   "outputs": []
  },
  {
   "cell_type": "code",
   "source": [
    "student_model.load_state_dict(torch.load(PATH), strict=False) "
   ],
   "metadata": {
    "execution": {
     "iopub.status.busy": "2023-01-15T17:56:14.677900Z",
     "iopub.execute_input": "2023-01-15T17:56:14.678326Z",
     "iopub.status.idle": "2023-01-15T17:56:14.955634Z",
     "shell.execute_reply.started": "2023-01-15T17:56:14.678284Z",
     "shell.execute_reply": "2023-01-15T17:56:14.954473Z"
    },
    "trusted": true
   },
   "execution_count": 162,
   "outputs": [
    {
     "execution_count": 162,
     "output_type": "execute_result",
     "data": {
      "text/plain": "_IncompatibleKeys(missing_keys=['roberta.embeddings.position_ids', 'roberta.embeddings.word_embeddings.weight', 'roberta.embeddings.position_embeddings.weight', 'roberta.embeddings.token_type_embeddings.weight', 'roberta.embeddings.LayerNorm.weight', 'roberta.embeddings.LayerNorm.bias', 'roberta.encoder.layer.0.attention.self.query.weight', 'roberta.encoder.layer.0.attention.self.query.bias', 'roberta.encoder.layer.0.attention.self.key.weight', 'roberta.encoder.layer.0.attention.self.key.bias', 'roberta.encoder.layer.0.attention.self.value.weight', 'roberta.encoder.layer.0.attention.self.value.bias', 'roberta.encoder.layer.0.attention.output.dense.weight', 'roberta.encoder.layer.0.attention.output.dense.bias', 'roberta.encoder.layer.0.attention.output.LayerNorm.weight', 'roberta.encoder.layer.0.attention.output.LayerNorm.bias', 'roberta.encoder.layer.0.intermediate.dense.weight', 'roberta.encoder.layer.0.intermediate.dense.bias', 'roberta.encoder.layer.0.output.dense.weight', 'roberta.encoder.layer.0.output.dense.bias', 'roberta.encoder.layer.0.output.LayerNorm.weight', 'roberta.encoder.layer.0.output.LayerNorm.bias', 'roberta.encoder.layer.1.attention.self.query.weight', 'roberta.encoder.layer.1.attention.self.query.bias', 'roberta.encoder.layer.1.attention.self.key.weight', 'roberta.encoder.layer.1.attention.self.key.bias', 'roberta.encoder.layer.1.attention.self.value.weight', 'roberta.encoder.layer.1.attention.self.value.bias', 'roberta.encoder.layer.1.attention.output.dense.weight', 'roberta.encoder.layer.1.attention.output.dense.bias', 'roberta.encoder.layer.1.attention.output.LayerNorm.weight', 'roberta.encoder.layer.1.attention.output.LayerNorm.bias', 'roberta.encoder.layer.1.intermediate.dense.weight', 'roberta.encoder.layer.1.intermediate.dense.bias', 'roberta.encoder.layer.1.output.dense.weight', 'roberta.encoder.layer.1.output.dense.bias', 'roberta.encoder.layer.1.output.LayerNorm.weight', 'roberta.encoder.layer.1.output.LayerNorm.bias', 'roberta.encoder.layer.2.attention.self.query.weight', 'roberta.encoder.layer.2.attention.self.query.bias', 'roberta.encoder.layer.2.attention.self.key.weight', 'roberta.encoder.layer.2.attention.self.key.bias', 'roberta.encoder.layer.2.attention.self.value.weight', 'roberta.encoder.layer.2.attention.self.value.bias', 'roberta.encoder.layer.2.attention.output.dense.weight', 'roberta.encoder.layer.2.attention.output.dense.bias', 'roberta.encoder.layer.2.attention.output.LayerNorm.weight', 'roberta.encoder.layer.2.attention.output.LayerNorm.bias', 'roberta.encoder.layer.2.intermediate.dense.weight', 'roberta.encoder.layer.2.intermediate.dense.bias', 'roberta.encoder.layer.2.output.dense.weight', 'roberta.encoder.layer.2.output.dense.bias', 'roberta.encoder.layer.2.output.LayerNorm.weight', 'roberta.encoder.layer.2.output.LayerNorm.bias', 'roberta.encoder.layer.3.attention.self.query.weight', 'roberta.encoder.layer.3.attention.self.query.bias', 'roberta.encoder.layer.3.attention.self.key.weight', 'roberta.encoder.layer.3.attention.self.key.bias', 'roberta.encoder.layer.3.attention.self.value.weight', 'roberta.encoder.layer.3.attention.self.value.bias', 'roberta.encoder.layer.3.attention.output.dense.weight', 'roberta.encoder.layer.3.attention.output.dense.bias', 'roberta.encoder.layer.3.attention.output.LayerNorm.weight', 'roberta.encoder.layer.3.attention.output.LayerNorm.bias', 'roberta.encoder.layer.3.intermediate.dense.weight', 'roberta.encoder.layer.3.intermediate.dense.bias', 'roberta.encoder.layer.3.output.dense.weight', 'roberta.encoder.layer.3.output.dense.bias', 'roberta.encoder.layer.3.output.LayerNorm.weight', 'roberta.encoder.layer.3.output.LayerNorm.bias', 'roberta.encoder.layer.4.attention.self.query.weight', 'roberta.encoder.layer.4.attention.self.query.bias', 'roberta.encoder.layer.4.attention.self.key.weight', 'roberta.encoder.layer.4.attention.self.key.bias', 'roberta.encoder.layer.4.attention.self.value.weight', 'roberta.encoder.layer.4.attention.self.value.bias', 'roberta.encoder.layer.4.attention.output.dense.weight', 'roberta.encoder.layer.4.attention.output.dense.bias', 'roberta.encoder.layer.4.attention.output.LayerNorm.weight', 'roberta.encoder.layer.4.attention.output.LayerNorm.bias', 'roberta.encoder.layer.4.intermediate.dense.weight', 'roberta.encoder.layer.4.intermediate.dense.bias', 'roberta.encoder.layer.4.output.dense.weight', 'roberta.encoder.layer.4.output.dense.bias', 'roberta.encoder.layer.4.output.LayerNorm.weight', 'roberta.encoder.layer.4.output.LayerNorm.bias', 'roberta.encoder.layer.5.attention.self.query.weight', 'roberta.encoder.layer.5.attention.self.query.bias', 'roberta.encoder.layer.5.attention.self.key.weight', 'roberta.encoder.layer.5.attention.self.key.bias', 'roberta.encoder.layer.5.attention.self.value.weight', 'roberta.encoder.layer.5.attention.self.value.bias', 'roberta.encoder.layer.5.attention.output.dense.weight', 'roberta.encoder.layer.5.attention.output.dense.bias', 'roberta.encoder.layer.5.attention.output.LayerNorm.weight', 'roberta.encoder.layer.5.attention.output.LayerNorm.bias', 'roberta.encoder.layer.5.intermediate.dense.weight', 'roberta.encoder.layer.5.intermediate.dense.bias', 'roberta.encoder.layer.5.output.dense.weight', 'roberta.encoder.layer.5.output.dense.bias', 'roberta.encoder.layer.5.output.LayerNorm.weight', 'roberta.encoder.layer.5.output.LayerNorm.bias', 'qa_outputs.weight', 'qa_outputs.bias'], unexpected_keys=['model'])"
     },
     "metadata": {}
    }
   ]
  },
  {
   "cell_type": "code",
   "source": [
    "# student_model.load_state_dict(torch.load(PATH))"
   ],
   "metadata": {
    "execution": {
     "iopub.status.busy": "2023-01-15T17:56:14.957309Z",
     "iopub.execute_input": "2023-01-15T17:56:14.958320Z",
     "iopub.status.idle": "2023-01-15T17:56:14.963212Z",
     "shell.execute_reply.started": "2023-01-15T17:56:14.958276Z",
     "shell.execute_reply": "2023-01-15T17:56:14.962056Z"
    },
    "trusted": true
   },
   "execution_count": 163,
   "outputs": []
  },
  {
   "cell_type": "code",
   "source": [
    "Config = {\n",
    "    'max_length' : 512,\n",
    "    'model_name' : 'deepset/tinyroberta-squad2',\n",
    "    'stride' : 128,\n",
    "    'batch_size' : 16,\n",
    "    'device' : torch.device(\"cuda:0\" if torch.cuda.is_available() else \"cpu\"),\n",
    "}\n",
    "Config[\"tokenizer\"] = AutoTokenizer.from_pretrained(Config['model_name'])"
   ],
   "metadata": {
    "papermill": {
     "duration": 1.084433,
     "end_time": "2023-01-05T01:28:36.1364",
     "exception": false,
     "start_time": "2023-01-05T01:28:35.051967",
     "status": "completed"
    },
    "tags": [],
    "execution": {
     "iopub.status.busy": "2023-01-15T17:56:14.965862Z",
     "iopub.execute_input": "2023-01-15T17:56:14.966729Z",
     "iopub.status.idle": "2023-01-15T17:56:15.795793Z",
     "shell.execute_reply.started": "2023-01-15T17:56:14.966673Z",
     "shell.execute_reply": "2023-01-15T17:56:15.794835Z"
    },
    "trusted": true
   },
   "execution_count": 164,
   "outputs": []
  },
  {
   "cell_type": "code",
   "source": [
    "df = pd.read_csv('/kaggle/input/inter-iit-devrev/squad_validation_data.csv')\n",
    "df.reset_index(level=0, inplace=True)\n",
    "df.rename(columns = {'index':'id'}, inplace = True)"
   ],
   "metadata": {
    "execution": {
     "iopub.status.busy": "2023-01-15T17:56:15.797756Z",
     "iopub.execute_input": "2023-01-15T17:56:15.798397Z",
     "iopub.status.idle": "2023-01-15T17:56:15.876085Z",
     "shell.execute_reply.started": "2023-01-15T17:56:15.798351Z",
     "shell.execute_reply": "2023-01-15T17:56:15.875096Z"
    },
    "trusted": true
   },
   "execution_count": 165,
   "outputs": []
  },
  {
   "cell_type": "code",
   "source": [
    "for i in range(0, len(df)):\n",
    "    if df['text'][i] == '[]':\n",
    "        df['answer_start'][i] = 0\n",
    "    else :\n",
    "        df['answer_start'][i] = df['answer_start'][i]"
   ],
   "metadata": {
    "execution": {
     "iopub.status.busy": "2023-01-15T17:56:15.877838Z",
     "iopub.execute_input": "2023-01-15T17:56:15.878226Z",
     "iopub.status.idle": "2023-01-15T17:56:19.592524Z",
     "shell.execute_reply.started": "2023-01-15T17:56:15.878190Z",
     "shell.execute_reply": "2023-01-15T17:56:19.591527Z"
    },
    "trusted": true
   },
   "execution_count": 166,
   "outputs": []
  },
  {
   "cell_type": "code",
   "source": [
    "df.head(10)"
   ],
   "metadata": {
    "execution": {
     "iopub.status.busy": "2023-01-15T17:56:19.594073Z",
     "iopub.execute_input": "2023-01-15T17:56:19.594424Z",
     "iopub.status.idle": "2023-01-15T17:56:19.608736Z",
     "shell.execute_reply.started": "2023-01-15T17:56:19.594389Z",
     "shell.execute_reply": "2023-01-15T17:56:19.607656Z"
    },
    "trusted": true
   },
   "execution_count": 167,
   "outputs": [
    {
     "execution_count": 167,
     "output_type": "execute_result",
     "data": {
      "text/plain": "   id                                           question  \\\n0   0               In what country is Normandy located?   \n1   1                 When were the Normans in Normandy?   \n2   2      From which countries did the Norse originate?   \n3   3                          Who was the Norse leader?   \n4   4  What century did the Normans first gain their ...   \n5   5  Who gave their name to Normandy in the 1000's ...   \n6   6                        What is France a region of?   \n7   7          Who did King Charles III swear fealty to?   \n8   8             When did the Frankish identity emerge?   \n9   9        Who was the duke in the battle of Hastings?   \n\n                                             context answer_start  \\\n0  The Normans (Norman: Nourmands; French: Norman...          159   \n1  The Normans (Norman: Nourmands; French: Norman...           94   \n2  The Normans (Norman: Nourmands; French: Norman...          256   \n3  The Normans (Norman: Nourmands; French: Norman...          308   \n4  The Normans (Norman: Nourmands; French: Norman...          671   \n5  The Normans (Norman: Nourmands; French: Norman...            0   \n6  The Normans (Norman: Nourmands; French: Norman...            0   \n7  The Normans (Norman: Nourmands; French: Norman...            0   \n8  The Normans (Norman: Nourmands; French: Norman...            0   \n9  The Norman dynasty had a major political, cult...         1022   \n\n                          text  \n0                       France  \n1      10th and 11th centuries  \n2  Denmark, Iceland and Norway  \n3                        Rollo  \n4                 10th century  \n5                           []  \n6                           []  \n7                           []  \n8                           []  \n9        William the Conqueror  ",
      "text/html": "<div>\n<style scoped>\n    .dataframe tbody tr th:only-of-type {\n        vertical-align: middle;\n    }\n\n    .dataframe tbody tr th {\n        vertical-align: top;\n    }\n\n    .dataframe thead th {\n        text-align: right;\n    }\n</style>\n<table border=\"1\" class=\"dataframe\">\n  <thead>\n    <tr style=\"text-align: right;\">\n      <th></th>\n      <th>id</th>\n      <th>question</th>\n      <th>context</th>\n      <th>answer_start</th>\n      <th>text</th>\n    </tr>\n  </thead>\n  <tbody>\n    <tr>\n      <th>0</th>\n      <td>0</td>\n      <td>In what country is Normandy located?</td>\n      <td>The Normans (Norman: Nourmands; French: Norman...</td>\n      <td>159</td>\n      <td>France</td>\n    </tr>\n    <tr>\n      <th>1</th>\n      <td>1</td>\n      <td>When were the Normans in Normandy?</td>\n      <td>The Normans (Norman: Nourmands; French: Norman...</td>\n      <td>94</td>\n      <td>10th and 11th centuries</td>\n    </tr>\n    <tr>\n      <th>2</th>\n      <td>2</td>\n      <td>From which countries did the Norse originate?</td>\n      <td>The Normans (Norman: Nourmands; French: Norman...</td>\n      <td>256</td>\n      <td>Denmark, Iceland and Norway</td>\n    </tr>\n    <tr>\n      <th>3</th>\n      <td>3</td>\n      <td>Who was the Norse leader?</td>\n      <td>The Normans (Norman: Nourmands; French: Norman...</td>\n      <td>308</td>\n      <td>Rollo</td>\n    </tr>\n    <tr>\n      <th>4</th>\n      <td>4</td>\n      <td>What century did the Normans first gain their ...</td>\n      <td>The Normans (Norman: Nourmands; French: Norman...</td>\n      <td>671</td>\n      <td>10th century</td>\n    </tr>\n    <tr>\n      <th>5</th>\n      <td>5</td>\n      <td>Who gave their name to Normandy in the 1000's ...</td>\n      <td>The Normans (Norman: Nourmands; French: Norman...</td>\n      <td>0</td>\n      <td>[]</td>\n    </tr>\n    <tr>\n      <th>6</th>\n      <td>6</td>\n      <td>What is France a region of?</td>\n      <td>The Normans (Norman: Nourmands; French: Norman...</td>\n      <td>0</td>\n      <td>[]</td>\n    </tr>\n    <tr>\n      <th>7</th>\n      <td>7</td>\n      <td>Who did King Charles III swear fealty to?</td>\n      <td>The Normans (Norman: Nourmands; French: Norman...</td>\n      <td>0</td>\n      <td>[]</td>\n    </tr>\n    <tr>\n      <th>8</th>\n      <td>8</td>\n      <td>When did the Frankish identity emerge?</td>\n      <td>The Normans (Norman: Nourmands; French: Norman...</td>\n      <td>0</td>\n      <td>[]</td>\n    </tr>\n    <tr>\n      <th>9</th>\n      <td>9</td>\n      <td>Who was the duke in the battle of Hastings?</td>\n      <td>The Norman dynasty had a major political, cult...</td>\n      <td>1022</td>\n      <td>William the Conqueror</td>\n    </tr>\n  </tbody>\n</table>\n</div>"
     },
     "metadata": {}
    }
   ]
  },
  {
   "cell_type": "code",
   "source": [
    "pad_on_right = Config['tokenizer'].padding_side == \"right\""
   ],
   "metadata": {
    "execution": {
     "iopub.status.busy": "2023-01-15T17:56:19.610441Z",
     "iopub.execute_input": "2023-01-15T17:56:19.611280Z",
     "iopub.status.idle": "2023-01-15T17:56:19.615954Z",
     "shell.execute_reply.started": "2023-01-15T17:56:19.611237Z",
     "shell.execute_reply": "2023-01-15T17:56:19.614977Z"
    },
    "trusted": true
   },
   "execution_count": 168,
   "outputs": []
  },
  {
   "cell_type": "code",
   "source": [
    "class ValidDataset(Dataset):\n",
    "    \n",
    "    def __init__(self, df, tokenizer, max_length, stride):\n",
    "        \n",
    "        self.df = df\n",
    "        self.tokenizer = tokenizer\n",
    "        self.max_length = max_length\n",
    "        self.stride = stride\n",
    "        self.questions = df['question'].values\n",
    "        self.contexts = df['context'].values\n",
    "        \n",
    "    def __len__(self):\n",
    "        \n",
    "        return len(self.df)\n",
    "    \n",
    "    def __getitem__(self, idx):\n",
    "        \n",
    "        question = self.questions[idx]\n",
    "        context = self.contexts[idx]\n",
    "        tokenized_inp = self.tokenizer(\n",
    "        question,\n",
    "        context,\n",
    "        max_length=self.max_length,\n",
    "        truncation='only_second',\n",
    "        stride=self.stride,\n",
    "        padding=\"max_length\",\n",
    "        return_token_type_ids=True\n",
    "    )\n",
    "        return tokenized_inp"
   ],
   "metadata": {
    "execution": {
     "iopub.status.busy": "2023-01-15T17:56:19.619834Z",
     "iopub.execute_input": "2023-01-15T17:56:19.620537Z",
     "iopub.status.idle": "2023-01-15T17:56:19.638993Z",
     "shell.execute_reply.started": "2023-01-15T17:56:19.620459Z",
     "shell.execute_reply": "2023-01-15T17:56:19.638063Z"
    },
    "trusted": true
   },
   "execution_count": 169,
   "outputs": []
  },
  {
   "cell_type": "code",
   "source": [
    "collate_fn = DataCollatorWithPadding(tokenizer=Config['tokenizer'])"
   ],
   "metadata": {
    "execution": {
     "iopub.status.busy": "2023-01-15T17:56:19.642098Z",
     "iopub.execute_input": "2023-01-15T17:56:19.642351Z",
     "iopub.status.idle": "2023-01-15T17:56:19.650535Z",
     "shell.execute_reply.started": "2023-01-15T17:56:19.642328Z",
     "shell.execute_reply": "2023-01-15T17:56:19.649596Z"
    },
    "trusted": true
   },
   "execution_count": 170,
   "outputs": []
  },
  {
   "cell_type": "code",
   "source": [
    "valid_dataset = ValidDataset(df, Config['tokenizer'], Config['max_length'], Config['stride'])"
   ],
   "metadata": {
    "execution": {
     "iopub.status.busy": "2023-01-15T17:56:19.653879Z",
     "iopub.execute_input": "2023-01-15T17:56:19.654179Z",
     "iopub.status.idle": "2023-01-15T17:56:19.661138Z",
     "shell.execute_reply.started": "2023-01-15T17:56:19.654154Z",
     "shell.execute_reply": "2023-01-15T17:56:19.660157Z"
    },
    "trusted": true
   },
   "execution_count": 171,
   "outputs": []
  },
  {
   "cell_type": "code",
   "source": [
    "valid_loader =  DataLoader(valid_dataset, batch_size= Config['batch_size'], collate_fn=collate_fn,\n",
    "                              num_workers=2, shuffle=False, pin_memory=True, drop_last = True)"
   ],
   "metadata": {
    "execution": {
     "iopub.status.busy": "2023-01-15T17:56:19.663688Z",
     "iopub.execute_input": "2023-01-15T17:56:19.664048Z",
     "iopub.status.idle": "2023-01-15T17:56:19.672329Z",
     "shell.execute_reply.started": "2023-01-15T17:56:19.664012Z",
     "shell.execute_reply": "2023-01-15T17:56:19.671300Z"
    },
    "trusted": true
   },
   "execution_count": 172,
   "outputs": []
  },
  {
   "cell_type": "code",
   "source": [
    "class QA_BERT(nn.Module):\n",
    "    def __init__(self):\n",
    "        super(QA_BERT, self).__init__()\n",
    "        self.student_model = AutoModelForQuestionAnswering.from_pretrained(config.student_model_name)\n",
    "#         self.model = AutoModelForQuestionAnswering.from_pretrained(Config['model_name'])\n",
    "#         self.student_model = student_model.load_state_dict(torch.load(PATH))\n",
    "#         self.student_model = torch.load(PATH)\n",
    "        self.student_model.load_state_dict(torch.load(PATH), strict=False)\n",
    "        \n",
    "    \n",
    "    def forward(self, ids, mask, token_type_ids):\n",
    "        out = self.student_model(ids, attention_mask=mask, token_type_ids=token_type_ids)\n",
    "        return out.start_logits, out.end_logits"
   ],
   "metadata": {
    "execution": {
     "iopub.status.busy": "2023-01-15T17:56:19.673631Z",
     "iopub.execute_input": "2023-01-15T17:56:19.674122Z",
     "iopub.status.idle": "2023-01-15T17:56:19.683379Z",
     "shell.execute_reply.started": "2023-01-15T17:56:19.674089Z",
     "shell.execute_reply": "2023-01-15T17:56:19.682408Z"
    },
    "trusted": true
   },
   "execution_count": 173,
   "outputs": []
  },
  {
   "cell_type": "code",
   "source": [
    "model = QA_BERT()"
   ],
   "metadata": {
    "execution": {
     "iopub.status.busy": "2023-01-15T17:56:19.684849Z",
     "iopub.execute_input": "2023-01-15T17:56:19.685324Z",
     "iopub.status.idle": "2023-01-15T17:56:21.056445Z",
     "shell.execute_reply.started": "2023-01-15T17:56:19.685167Z",
     "shell.execute_reply": "2023-01-15T17:56:21.055475Z"
    },
    "trusted": true
   },
   "execution_count": 174,
   "outputs": []
  },
  {
   "cell_type": "markdown",
   "source": [
    "## Metrics"
   ],
   "metadata": {}
  },
  {
   "cell_type": "code",
   "source": [
    "def normalize_answer(s):\n",
    "    \"\"\"Lower text and remove punctuation, articles and extra whitespace.\"\"\"\n",
    "    return white_space_fix(remove_articles(remove_punc(lower(s))))\n",
    "def remove_articles(text):\n",
    "    regex = re.compile(r'\\b(a|an|the)\\b', re.UNICODE)\n",
    "    return re.sub(regex, ' ', text)\n",
    "def white_space_fix(text):\n",
    "    return ' '.join(text.split())\n",
    "def remove_punc(text):\n",
    "    exclude = set(string.punctuation)\n",
    "    return ''.join(ch for ch in text if ch not in exclude)\n",
    "def lower(text):\n",
    "    return text.lower()"
   ],
   "metadata": {
    "execution": {
     "iopub.status.busy": "2023-01-15T17:56:21.057806Z",
     "iopub.execute_input": "2023-01-15T17:56:21.058169Z",
     "iopub.status.idle": "2023-01-15T17:56:21.065780Z",
     "shell.execute_reply.started": "2023-01-15T17:56:21.058135Z",
     "shell.execute_reply": "2023-01-15T17:56:21.064829Z"
    },
    "trusted": true
   },
   "execution_count": 175,
   "outputs": []
  },
  {
   "cell_type": "code",
   "source": [
    "def get_tokens(s):\n",
    "    if not s: \n",
    "        return []\n",
    "    return normalize_answer(s).split()"
   ],
   "metadata": {
    "execution": {
     "iopub.status.busy": "2023-01-15T17:56:21.067018Z",
     "iopub.execute_input": "2023-01-15T17:56:21.067813Z",
     "iopub.status.idle": "2023-01-15T17:56:21.076973Z",
     "shell.execute_reply.started": "2023-01-15T17:56:21.067778Z",
     "shell.execute_reply": "2023-01-15T17:56:21.075952Z"
    },
    "trusted": true
   },
   "execution_count": 176,
   "outputs": []
  },
  {
   "cell_type": "code",
   "source": [
    "def compute_exact(a_gold, a_pred):\n",
    "    return int(normalize_answer(a_gold) == normalize_answer(a_pred))"
   ],
   "metadata": {
    "execution": {
     "iopub.status.busy": "2023-01-15T17:56:21.078230Z",
     "iopub.execute_input": "2023-01-15T17:56:21.078575Z",
     "iopub.status.idle": "2023-01-15T17:56:21.086889Z",
     "shell.execute_reply.started": "2023-01-15T17:56:21.078541Z",
     "shell.execute_reply": "2023-01-15T17:56:21.086019Z"
    },
    "trusted": true
   },
   "execution_count": 177,
   "outputs": []
  },
  {
   "cell_type": "code",
   "source": [
    "def compute_f1(a_gold, a_pred):\n",
    "    gold_toks = get_tokens(a_gold)\n",
    "    pred_toks = get_tokens(a_pred)\n",
    "    common = collections.Counter(gold_toks) & collections.Counter(pred_toks)\n",
    "    num_same = sum(common.values())\n",
    "    if len(gold_toks) == 0 or len(pred_toks) == 0:\n",
    "    # If either is no-answer, then F1 is 1 if they agree, 0 otherwise\n",
    "        return int(gold_toks == pred_toks)\n",
    "    if num_same == 0:\n",
    "        return 0\n",
    "    precision = 1.0 * num_same / len(pred_toks)\n",
    "    recall = 1.0 * num_same / len(gold_toks)\n",
    "    f1 = (2 * precision * recall) / (precision + recall)\n",
    "    return f1"
   ],
   "metadata": {
    "execution": {
     "iopub.status.busy": "2023-01-15T17:56:21.088391Z",
     "iopub.execute_input": "2023-01-15T17:56:21.088736Z",
     "iopub.status.idle": "2023-01-15T17:56:21.097935Z",
     "shell.execute_reply.started": "2023-01-15T17:56:21.088703Z",
     "shell.execute_reply": "2023-01-15T17:56:21.096936Z"
    },
    "trusted": true
   },
   "execution_count": 178,
   "outputs": []
  },
  {
   "cell_type": "code",
   "source": [
    "def prediction(data, model, tokenizer):\n",
    "    text = []\n",
    "    start_idx = []\n",
    "    scores = []\n",
    "    f1_score = []\n",
    "    exact_score = []\n",
    "    model = pipeline('question-answering', model=student_model, tokenizer=tokenizer, handle_impossible_answer=False)\n",
    "    for i in tqdm(range(df.shape[0])):\n",
    "        question = df['question'][i]\n",
    "        context = df['context'][i]\n",
    "        target = df['text'][i]\n",
    "        input = {\n",
    "          'question': question,\n",
    "          'context': context\n",
    "    }\n",
    "        res = model(input)\n",
    "        if(res['score'] > 0.0):\n",
    "            txt = res['answer']\n",
    "            st_idx = res['start']\n",
    "            scr = res['score']\n",
    "        else:\n",
    "            txt = '[]'\n",
    "            st_idx = '0'\n",
    "        text.append(txt)\n",
    "        start_idx.append(st_idx)\n",
    "        scores.append(scr)\n",
    "        f1_acc = compute_f1(target, txt)\n",
    "        em_acc = compute_exact(target, txt)\n",
    "        f1_score.append(f1_acc)\n",
    "        exact_score.append(em_acc)\n",
    "        \n",
    "    return text, start_idx, f1_score, exact_score, scores "
   ],
   "metadata": {
    "execution": {
     "iopub.status.busy": "2023-01-15T17:56:21.099093Z",
     "iopub.execute_input": "2023-01-15T17:56:21.100009Z",
     "iopub.status.idle": "2023-01-15T17:56:21.110049Z",
     "shell.execute_reply.started": "2023-01-15T17:56:21.099974Z",
     "shell.execute_reply": "2023-01-15T17:56:21.109129Z"
    },
    "trusted": true
   },
   "execution_count": 179,
   "outputs": []
  },
  {
   "cell_type": "code",
   "source": [
    "text, start_idx, f1_score, exact_score, scores = prediction(df, student_model, config.student_model_name)"
   ],
   "metadata": {
    "execution": {
     "iopub.status.busy": "2023-01-15T17:56:21.112299Z",
     "iopub.execute_input": "2023-01-15T17:56:21.112548Z",
     "iopub.status.idle": "2023-01-15T18:31:45.368602Z",
     "shell.execute_reply.started": "2023-01-15T17:56:21.112526Z",
     "shell.execute_reply": "2023-01-15T18:31:45.367567Z"
    },
    "trusted": true
   },
   "execution_count": 180,
   "outputs": [
    {
     "name": "stderr",
     "text": "100%|██████████| 11873/11873 [35:23<00:00,  5.59it/s] \n",
     "output_type": "stream"
    }
   ]
  },
  {
   "cell_type": "code",
   "source": [
    "df.head(10)"
   ],
   "metadata": {
    "execution": {
     "iopub.status.busy": "2023-01-15T18:31:45.373378Z",
     "iopub.execute_input": "2023-01-15T18:31:45.374072Z",
     "iopub.status.idle": "2023-01-15T18:31:45.388649Z",
     "shell.execute_reply.started": "2023-01-15T18:31:45.374034Z",
     "shell.execute_reply": "2023-01-15T18:31:45.387745Z"
    },
    "trusted": true
   },
   "execution_count": 181,
   "outputs": [
    {
     "execution_count": 181,
     "output_type": "execute_result",
     "data": {
      "text/plain": "   id                                           question  \\\n0   0               In what country is Normandy located?   \n1   1                 When were the Normans in Normandy?   \n2   2      From which countries did the Norse originate?   \n3   3                          Who was the Norse leader?   \n4   4  What century did the Normans first gain their ...   \n5   5  Who gave their name to Normandy in the 1000's ...   \n6   6                        What is France a region of?   \n7   7          Who did King Charles III swear fealty to?   \n8   8             When did the Frankish identity emerge?   \n9   9        Who was the duke in the battle of Hastings?   \n\n                                             context answer_start  \\\n0  The Normans (Norman: Nourmands; French: Norman...          159   \n1  The Normans (Norman: Nourmands; French: Norman...           94   \n2  The Normans (Norman: Nourmands; French: Norman...          256   \n3  The Normans (Norman: Nourmands; French: Norman...          308   \n4  The Normans (Norman: Nourmands; French: Norman...          671   \n5  The Normans (Norman: Nourmands; French: Norman...            0   \n6  The Normans (Norman: Nourmands; French: Norman...            0   \n7  The Normans (Norman: Nourmands; French: Norman...            0   \n8  The Normans (Norman: Nourmands; French: Norman...            0   \n9  The Norman dynasty had a major political, cult...         1022   \n\n                          text  \n0                       France  \n1      10th and 11th centuries  \n2  Denmark, Iceland and Norway  \n3                        Rollo  \n4                 10th century  \n5                           []  \n6                           []  \n7                           []  \n8                           []  \n9        William the Conqueror  ",
      "text/html": "<div>\n<style scoped>\n    .dataframe tbody tr th:only-of-type {\n        vertical-align: middle;\n    }\n\n    .dataframe tbody tr th {\n        vertical-align: top;\n    }\n\n    .dataframe thead th {\n        text-align: right;\n    }\n</style>\n<table border=\"1\" class=\"dataframe\">\n  <thead>\n    <tr style=\"text-align: right;\">\n      <th></th>\n      <th>id</th>\n      <th>question</th>\n      <th>context</th>\n      <th>answer_start</th>\n      <th>text</th>\n    </tr>\n  </thead>\n  <tbody>\n    <tr>\n      <th>0</th>\n      <td>0</td>\n      <td>In what country is Normandy located?</td>\n      <td>The Normans (Norman: Nourmands; French: Norman...</td>\n      <td>159</td>\n      <td>France</td>\n    </tr>\n    <tr>\n      <th>1</th>\n      <td>1</td>\n      <td>When were the Normans in Normandy?</td>\n      <td>The Normans (Norman: Nourmands; French: Norman...</td>\n      <td>94</td>\n      <td>10th and 11th centuries</td>\n    </tr>\n    <tr>\n      <th>2</th>\n      <td>2</td>\n      <td>From which countries did the Norse originate?</td>\n      <td>The Normans (Norman: Nourmands; French: Norman...</td>\n      <td>256</td>\n      <td>Denmark, Iceland and Norway</td>\n    </tr>\n    <tr>\n      <th>3</th>\n      <td>3</td>\n      <td>Who was the Norse leader?</td>\n      <td>The Normans (Norman: Nourmands; French: Norman...</td>\n      <td>308</td>\n      <td>Rollo</td>\n    </tr>\n    <tr>\n      <th>4</th>\n      <td>4</td>\n      <td>What century did the Normans first gain their ...</td>\n      <td>The Normans (Norman: Nourmands; French: Norman...</td>\n      <td>671</td>\n      <td>10th century</td>\n    </tr>\n    <tr>\n      <th>5</th>\n      <td>5</td>\n      <td>Who gave their name to Normandy in the 1000's ...</td>\n      <td>The Normans (Norman: Nourmands; French: Norman...</td>\n      <td>0</td>\n      <td>[]</td>\n    </tr>\n    <tr>\n      <th>6</th>\n      <td>6</td>\n      <td>What is France a region of?</td>\n      <td>The Normans (Norman: Nourmands; French: Norman...</td>\n      <td>0</td>\n      <td>[]</td>\n    </tr>\n    <tr>\n      <th>7</th>\n      <td>7</td>\n      <td>Who did King Charles III swear fealty to?</td>\n      <td>The Normans (Norman: Nourmands; French: Norman...</td>\n      <td>0</td>\n      <td>[]</td>\n    </tr>\n    <tr>\n      <th>8</th>\n      <td>8</td>\n      <td>When did the Frankish identity emerge?</td>\n      <td>The Normans (Norman: Nourmands; French: Norman...</td>\n      <td>0</td>\n      <td>[]</td>\n    </tr>\n    <tr>\n      <th>9</th>\n      <td>9</td>\n      <td>Who was the duke in the battle of Hastings?</td>\n      <td>The Norman dynasty had a major political, cult...</td>\n      <td>1022</td>\n      <td>William the Conqueror</td>\n    </tr>\n  </tbody>\n</table>\n</div>"
     },
     "metadata": {}
    }
   ]
  },
  {
   "cell_type": "code",
   "source": [
    "df.insert(5, 'answer_possible', 0)"
   ],
   "metadata": {
    "execution": {
     "iopub.status.busy": "2023-01-15T18:31:45.389981Z",
     "iopub.execute_input": "2023-01-15T18:31:45.390444Z",
     "iopub.status.idle": "2023-01-15T18:31:45.400677Z",
     "shell.execute_reply.started": "2023-01-15T18:31:45.390404Z",
     "shell.execute_reply": "2023-01-15T18:31:45.399683Z"
    },
    "trusted": true
   },
   "execution_count": 182,
   "outputs": []
  },
  {
   "cell_type": "code",
   "source": [
    "for i in range(0, len(df)):\n",
    "    if df['text'][i] == '[]':\n",
    "        df['answer_possible'][i] = 0\n",
    "    else :\n",
    "        df['answer_possible'][i] = 1"
   ],
   "metadata": {
    "execution": {
     "iopub.status.busy": "2023-01-15T18:31:45.403428Z",
     "iopub.execute_input": "2023-01-15T18:31:45.403724Z",
     "iopub.status.idle": "2023-01-15T18:31:48.316805Z",
     "shell.execute_reply.started": "2023-01-15T18:31:45.403700Z",
     "shell.execute_reply": "2023-01-15T18:31:48.315860Z"
    },
    "trusted": true
   },
   "execution_count": 183,
   "outputs": []
  },
  {
   "cell_type": "code",
   "source": [
    "df.head()"
   ],
   "metadata": {
    "execution": {
     "iopub.status.busy": "2023-01-15T18:31:48.318330Z",
     "iopub.execute_input": "2023-01-15T18:31:48.318677Z",
     "iopub.status.idle": "2023-01-15T18:31:48.331297Z",
     "shell.execute_reply.started": "2023-01-15T18:31:48.318641Z",
     "shell.execute_reply": "2023-01-15T18:31:48.330337Z"
    },
    "trusted": true
   },
   "execution_count": 184,
   "outputs": [
    {
     "execution_count": 184,
     "output_type": "execute_result",
     "data": {
      "text/plain": "   id                                           question  \\\n0   0               In what country is Normandy located?   \n1   1                 When were the Normans in Normandy?   \n2   2      From which countries did the Norse originate?   \n3   3                          Who was the Norse leader?   \n4   4  What century did the Normans first gain their ...   \n\n                                             context answer_start  \\\n0  The Normans (Norman: Nourmands; French: Norman...          159   \n1  The Normans (Norman: Nourmands; French: Norman...           94   \n2  The Normans (Norman: Nourmands; French: Norman...          256   \n3  The Normans (Norman: Nourmands; French: Norman...          308   \n4  The Normans (Norman: Nourmands; French: Norman...          671   \n\n                          text  answer_possible  \n0                       France                1  \n1      10th and 11th centuries                1  \n2  Denmark, Iceland and Norway                1  \n3                        Rollo                1  \n4                 10th century                1  ",
      "text/html": "<div>\n<style scoped>\n    .dataframe tbody tr th:only-of-type {\n        vertical-align: middle;\n    }\n\n    .dataframe tbody tr th {\n        vertical-align: top;\n    }\n\n    .dataframe thead th {\n        text-align: right;\n    }\n</style>\n<table border=\"1\" class=\"dataframe\">\n  <thead>\n    <tr style=\"text-align: right;\">\n      <th></th>\n      <th>id</th>\n      <th>question</th>\n      <th>context</th>\n      <th>answer_start</th>\n      <th>text</th>\n      <th>answer_possible</th>\n    </tr>\n  </thead>\n  <tbody>\n    <tr>\n      <th>0</th>\n      <td>0</td>\n      <td>In what country is Normandy located?</td>\n      <td>The Normans (Norman: Nourmands; French: Norman...</td>\n      <td>159</td>\n      <td>France</td>\n      <td>1</td>\n    </tr>\n    <tr>\n      <th>1</th>\n      <td>1</td>\n      <td>When were the Normans in Normandy?</td>\n      <td>The Normans (Norman: Nourmands; French: Norman...</td>\n      <td>94</td>\n      <td>10th and 11th centuries</td>\n      <td>1</td>\n    </tr>\n    <tr>\n      <th>2</th>\n      <td>2</td>\n      <td>From which countries did the Norse originate?</td>\n      <td>The Normans (Norman: Nourmands; French: Norman...</td>\n      <td>256</td>\n      <td>Denmark, Iceland and Norway</td>\n      <td>1</td>\n    </tr>\n    <tr>\n      <th>3</th>\n      <td>3</td>\n      <td>Who was the Norse leader?</td>\n      <td>The Normans (Norman: Nourmands; French: Norman...</td>\n      <td>308</td>\n      <td>Rollo</td>\n      <td>1</td>\n    </tr>\n    <tr>\n      <th>4</th>\n      <td>4</td>\n      <td>What century did the Normans first gain their ...</td>\n      <td>The Normans (Norman: Nourmands; French: Norman...</td>\n      <td>671</td>\n      <td>10th century</td>\n      <td>1</td>\n    </tr>\n  </tbody>\n</table>\n</div>"
     },
     "metadata": {}
    }
   ]
  },
  {
   "cell_type": "code",
   "source": [
    "df.insert(6, 'scores', scores)"
   ],
   "metadata": {
    "execution": {
     "iopub.status.busy": "2023-01-15T18:31:48.332954Z",
     "iopub.execute_input": "2023-01-15T18:31:48.333673Z",
     "iopub.status.idle": "2023-01-15T18:31:48.343009Z",
     "shell.execute_reply.started": "2023-01-15T18:31:48.333638Z",
     "shell.execute_reply": "2023-01-15T18:31:48.341946Z"
    },
    "trusted": true
   },
   "execution_count": 185,
   "outputs": []
  },
  {
   "cell_type": "code",
   "source": [
    "df.insert(7, 'answer', text)"
   ],
   "metadata": {
    "execution": {
     "iopub.status.busy": "2023-01-15T18:31:48.345950Z",
     "iopub.execute_input": "2023-01-15T18:31:48.346234Z",
     "iopub.status.idle": "2023-01-15T18:31:48.353019Z",
     "shell.execute_reply.started": "2023-01-15T18:31:48.346204Z",
     "shell.execute_reply": "2023-01-15T18:31:48.352056Z"
    },
    "trusted": true
   },
   "execution_count": 186,
   "outputs": []
  },
  {
   "cell_type": "code",
   "source": [
    "df.insert(8, 'answer_present', 0)"
   ],
   "metadata": {
    "execution": {
     "iopub.status.busy": "2023-01-15T18:31:48.354329Z",
     "iopub.execute_input": "2023-01-15T18:31:48.355559Z",
     "iopub.status.idle": "2023-01-15T18:31:48.360602Z",
     "shell.execute_reply.started": "2023-01-15T18:31:48.355524Z",
     "shell.execute_reply": "2023-01-15T18:31:48.359703Z"
    },
    "trusted": true
   },
   "execution_count": 187,
   "outputs": []
  },
  {
   "cell_type": "code",
   "source": [
    "import matplotlib.pyplot as plt\n",
    "import seaborn as sns\n",
    "sns.set()"
   ],
   "metadata": {
    "execution": {
     "iopub.status.busy": "2023-01-15T18:31:48.361994Z",
     "iopub.execute_input": "2023-01-15T18:31:48.362502Z",
     "iopub.status.idle": "2023-01-15T18:31:48.370895Z",
     "shell.execute_reply.started": "2023-01-15T18:31:48.362464Z",
     "shell.execute_reply": "2023-01-15T18:31:48.370109Z"
    },
    "trusted": true
   },
   "execution_count": 188,
   "outputs": []
  },
  {
   "cell_type": "code",
   "source": [
    "x1 = list(df[df['answer_possible'] == 1]['scores'])\n",
    "x2 = list(df[df['answer_possible'] == 0]['scores'])\n",
    "names=['positive', 'negative']\n",
    "plt.hist([x1, x2], label=names, density=True)\n",
    "plt.legend()"
   ],
   "metadata": {
    "execution": {
     "iopub.status.busy": "2023-01-15T18:31:48.372409Z",
     "iopub.execute_input": "2023-01-15T18:31:48.372822Z",
     "iopub.status.idle": "2023-01-15T18:31:48.729679Z",
     "shell.execute_reply.started": "2023-01-15T18:31:48.372782Z",
     "shell.execute_reply": "2023-01-15T18:31:48.728777Z"
    },
    "trusted": true
   },
   "execution_count": 189,
   "outputs": [
    {
     "execution_count": 189,
     "output_type": "execute_result",
     "data": {
      "text/plain": "<matplotlib.legend.Legend at 0x7fcf92a54c90>"
     },
     "metadata": {}
    },
    {
     "output_type": "display_data",
     "data": {
      "text/plain": "<Figure size 432x288 with 1 Axes>",
      "image/png": "[encoded data removed]"
     },
     "metadata": {}
    }
   ]
  },
  {
   "cell_type": "code",
   "source": [
    "x1 = list(df[df['answer_possible'] == 1]['scores'])\n",
    "names=['positive']\n",
    "plt.hist([x1], label=names, density=True)\n",
    "plt.legend()"
   ],
   "metadata": {
    "execution": {
     "iopub.status.busy": "2023-01-15T18:31:48.731273Z",
     "iopub.execute_input": "2023-01-15T18:31:48.731948Z",
     "iopub.status.idle": "2023-01-15T18:31:49.010221Z",
     "shell.execute_reply.started": "2023-01-15T18:31:48.731876Z",
     "shell.execute_reply": "2023-01-15T18:31:49.009214Z"
    },
    "trusted": true
   },
   "execution_count": 190,
   "outputs": [
    {
     "execution_count": 190,
     "output_type": "execute_result",
     "data": {
      "text/plain": "<matplotlib.legend.Legend at 0x7fcf9289e2d0>"
     },
     "metadata": {}
    },
    {
     "output_type": "display_data",
     "data": {
      "text/plain": "<Figure size 432x288 with 1 Axes>",
      "image/png": "[encoded data removed]"
     },
     "metadata": {}
    }
   ]
  },
  {
   "cell_type": "code",
   "source": [
    "x2 = list(df[df['answer_possible'] == 0]['scores'])\n",
    "names=['negative']\n",
    "plt.hist([x2], label=names, density=True)\n",
    "plt.legend()"
   ],
   "metadata": {
    "execution": {
     "iopub.status.busy": "2023-01-15T18:31:49.011745Z",
     "iopub.execute_input": "2023-01-15T18:31:49.012146Z",
     "iopub.status.idle": "2023-01-15T18:31:49.295941Z",
     "shell.execute_reply.started": "2023-01-15T18:31:49.012107Z",
     "shell.execute_reply": "2023-01-15T18:31:49.294943Z"
    },
    "trusted": true
   },
   "execution_count": 191,
   "outputs": [
    {
     "execution_count": 191,
     "output_type": "execute_result",
     "data": {
      "text/plain": "<matplotlib.legend.Legend at 0x7fcf928a8290>"
     },
     "metadata": {}
    },
    {
     "output_type": "display_data",
     "data": {
      "text/plain": "<Figure size 432x288 with 1 Axes>",
      "image/png": "[encoded data removed]"
     },
     "metadata": {}
    }
   ]
  },
  {
   "cell_type": "code",
   "source": [
    "print(len(x1))\n",
    "print(len(x2))\n",
    "print(len(df))"
   ],
   "metadata": {
    "execution": {
     "iopub.status.busy": "2023-01-15T18:31:49.297402Z",
     "iopub.execute_input": "2023-01-15T18:31:49.297730Z",
     "iopub.status.idle": "2023-01-15T18:31:49.312407Z",
     "shell.execute_reply.started": "2023-01-15T18:31:49.297696Z",
     "shell.execute_reply": "2023-01-15T18:31:49.311182Z"
    },
    "trusted": true
   },
   "execution_count": 192,
   "outputs": [
    {
     "name": "stdout",
     "text": "5928\n5945\n11873\n",
     "output_type": "stream"
    }
   ]
  },
  {
   "cell_type": "code",
   "source": [
    "print(len(scores))\n",
    "print(len(df[df['answer_possible'] == 1]))"
   ],
   "metadata": {
    "execution": {
     "iopub.status.busy": "2023-01-15T18:31:49.316171Z",
     "iopub.execute_input": "2023-01-15T18:31:49.318135Z",
     "iopub.status.idle": "2023-01-15T18:31:49.331256Z",
     "shell.execute_reply.started": "2023-01-15T18:31:49.318099Z",
     "shell.execute_reply": "2023-01-15T18:31:49.330230Z"
    },
    "trusted": true
   },
   "execution_count": 193,
   "outputs": [
    {
     "name": "stdout",
     "text": "11873\n5928\n",
     "output_type": "stream"
    }
   ]
  },
  {
   "cell_type": "code",
   "source": [
    "import matplotlib.pyplot as plt\n",
    "import seaborn as sns\n",
    "sns.set()\n",
    "plt.hist(scores)\n",
    "# scores"
   ],
   "metadata": {
    "execution": {
     "iopub.status.busy": "2023-01-15T18:31:49.332813Z",
     "iopub.execute_input": "2023-01-15T18:31:49.338668Z",
     "iopub.status.idle": "2023-01-15T18:31:49.664443Z",
     "shell.execute_reply.started": "2023-01-15T18:31:49.338627Z",
     "shell.execute_reply": "2023-01-15T18:31:49.663502Z"
    },
    "trusted": true
   },
   "execution_count": 194,
   "outputs": [
    {
     "execution_count": 194,
     "output_type": "execute_result",
     "data": {
      "text/plain": "(array([5451.,  355.,  365.,  445.,  571.,  701.,  666.,  595.,  692.,\n        2032.]),\n array([1.73181879e-12, 9.98877645e-02, 1.99775529e-01, 2.99663293e-01,\n        3.99551058e-01, 4.99438822e-01, 5.99326587e-01, 6.99214351e-01,\n        7.99102116e-01, 8.98989880e-01, 9.98877645e-01]),\n <BarContainer object of 10 artists>)"
     },
     "metadata": {}
    },
    {
     "output_type": "display_data",
     "data": {
      "text/plain": "<Figure size 432x288 with 1 Axes>",
      "image/png": "[encoded data removed]"
     },
     "metadata": {}
    }
   ]
  },
  {
   "cell_type": "code",
   "source": [
    "print(len(df['answer'][5]))"
   ],
   "metadata": {
    "execution": {
     "iopub.status.busy": "2023-01-15T18:31:49.666025Z",
     "iopub.execute_input": "2023-01-15T18:31:49.666382Z",
     "iopub.status.idle": "2023-01-15T18:31:49.672415Z",
     "shell.execute_reply.started": "2023-01-15T18:31:49.666347Z",
     "shell.execute_reply": "2023-01-15T18:31:49.671252Z"
    },
    "trusted": true
   },
   "execution_count": 195,
   "outputs": [
    {
     "name": "stdout",
     "text": "11\n",
     "output_type": "stream"
    }
   ]
  },
  {
   "cell_type": "code",
   "source": [
    "def range_with_floats(start, stop, step):\n",
    "    while stop > start:\n",
    "        yield start\n",
    "        start += step"
   ],
   "metadata": {
    "execution": {
     "iopub.status.busy": "2023-01-15T18:31:49.674133Z",
     "iopub.execute_input": "2023-01-15T18:31:49.674865Z",
     "iopub.status.idle": "2023-01-15T18:31:49.683884Z",
     "shell.execute_reply.started": "2023-01-15T18:31:49.674818Z",
     "shell.execute_reply": "2023-01-15T18:31:49.682831Z"
    },
    "trusted": true
   },
   "execution_count": 196,
   "outputs": []
  },
  {
   "cell_type": "code",
   "source": [
    "df2 = pd.DataFrame({'FN':0, 'FP':0, 'ID':range_with_floats(0.0,0.82, 0.1)})"
   ],
   "metadata": {
    "execution": {
     "iopub.status.busy": "2023-01-15T18:31:49.685669Z",
     "iopub.execute_input": "2023-01-15T18:31:49.686517Z",
     "iopub.status.idle": "2023-01-15T18:31:49.695246Z",
     "shell.execute_reply.started": "2023-01-15T18:31:49.686478Z",
     "shell.execute_reply": "2023-01-15T18:31:49.694194Z"
    },
    "trusted": true
   },
   "execution_count": 197,
   "outputs": []
  },
  {
   "cell_type": "code",
   "source": [
    "for j in range_with_floats(0.0, 0.82, 0.1):\n",
    "    for i in range(len(df)):\n",
    "        if df['scores'][i] < j:\n",
    "            df['answer'][i] = ''\n",
    "        if len(df['answer'][i]) == 0:\n",
    "            df['answer_present'][i] = 0\n",
    "        else :\n",
    "            df['answer_present'][i] = 1\n",
    "\n",
    "        if (df[\"answer_possible\"][i] == 1 and df[\"answer_present\"][i] == 1):\n",
    "            df['type'][i] = 'tp'  # true positive\n",
    "        elif (df[\"answer_possible\"][i] == 0 and df[\"answer_present\"][i] == 0):\n",
    "            df['type'][i] = 'tn'  # true negative\n",
    "        elif (df[\"answer_possible\"][i] == 1 and df[\"answer_present\"][i] == 0):\n",
    "            df['type'][i] = 'fp'  # false postive\n",
    "        elif (df[\"answer_possible\"][i] == 0 and df[\"answer_present\"][i] == 1):\n",
    "            df['type'][i] = 'fn'   # false negative\n",
    "    print(f\"fn : {(len(df[df['type']=='fn']))}, with threshold: {round(j, 1)}\")\n",
    "    (df2[df2['ID'] == j]['FN']) = len(df[df['type']=='fn'])\n",
    "#     print(df2['FN'])\n",
    "    print(f\"fp : {(len(df[df['type']=='fp']))}, with threshold: {round(j, 1)}\")\n",
    "    (df2[df2['ID'] == j]['FP']) = len(df[df['type']=='fp'])"
   ],
   "metadata": {
    "execution": {
     "iopub.status.busy": "2023-01-15T18:32:27.191784Z",
     "iopub.execute_input": "2023-01-15T18:32:27.192147Z",
     "iopub.status.idle": "2023-01-15T18:33:45.165174Z",
     "shell.execute_reply.started": "2023-01-15T18:32:27.192116Z",
     "shell.execute_reply": "2023-01-15T18:33:45.164152Z"
    },
    "trusted": true
   },
   "execution_count": 201,
   "outputs": [
    {
     "name": "stdout",
     "text": "fn : 5945, with threshold: 0.0\nfp : 0, with threshold: 0.0\nfn : 1168, with threshold: 0.1\nfp : 674, with threshold: 0.1\nfn : 1018, with threshold: 0.2\nfp : 880, with threshold: 0.2\nfn : 916, with threshold: 0.3\nfp : 1142, with threshold: 0.3\nfn : 790, with threshold: 0.4\nfp : 1464, with threshold: 0.4\nfn : 677, with threshold: 0.5\nfp : 1924, with threshold: 0.5\nfn : 548, with threshold: 0.6\nfp : 2493, with threshold: 0.6\nfn : 437, with threshold: 0.7\nfp : 3052, with threshold: 0.7\nfn : 351, with threshold: 0.8\nfp : 3560, with threshold: 0.8\n",
     "output_type": "stream"
    }
   ]
  },
  {
   "cell_type": "markdown",
   "source": [
    "## Find Confusion matrix for a sample threshold"
   ],
   "metadata": {
    "collapsed": false
   }
  },
  {
   "cell_type": "code",
   "source": [
    "for i in range(0, len(df)):\n",
    "    if len(df['answer'][i]) == 0:\n",
    "        df['answer_present'][i] = 0\n",
    "    else :\n",
    "        df['answer_present'][i] = 1"
   ],
   "metadata": {
    "execution": {
     "iopub.status.busy": "2023-01-15T16:29:48.648154Z",
     "iopub.execute_input": "2023-01-15T16:29:48.648723Z",
     "iopub.status.idle": "2023-01-15T16:29:51.474991Z",
     "shell.execute_reply.started": "2023-01-15T16:29:48.648688Z",
     "shell.execute_reply": "2023-01-15T16:29:51.474038Z"
    },
    "trusted": true
   },
   "execution_count": 49,
   "outputs": []
  },
  {
   "cell_type": "code",
   "source": [
    "df.head(10)"
   ],
   "metadata": {
    "execution": {
     "iopub.status.busy": "2023-01-15T16:29:51.479863Z",
     "iopub.execute_input": "2023-01-15T16:29:51.480171Z",
     "iopub.status.idle": "2023-01-15T16:29:51.497497Z",
     "shell.execute_reply.started": "2023-01-15T16:29:51.480145Z",
     "shell.execute_reply": "2023-01-15T16:29:51.496509Z"
    },
    "trusted": true
   },
   "execution_count": 50,
   "outputs": [
    {
     "execution_count": 50,
     "output_type": "execute_result",
     "data": {
      "text/plain": "   id                                           question  \\\n0   0               In what country is Normandy located?   \n1   1                 When were the Normans in Normandy?   \n2   2      From which countries did the Norse originate?   \n3   3                          Who was the Norse leader?   \n4   4  What century did the Normans first gain their ...   \n5   5  Who gave their name to Normandy in the 1000's ...   \n6   6                        What is France a region of?   \n7   7          Who did King Charles III swear fealty to?   \n8   8             When did the Frankish identity emerge?   \n9   9        Who was the duke in the battle of Hastings?   \n\n                                             context answer_start  \\\n0  The Normans (Norman: Nourmands; French: Norman...          159   \n1  The Normans (Norman: Nourmands; French: Norman...           94   \n2  The Normans (Norman: Nourmands; French: Norman...          256   \n3  The Normans (Norman: Nourmands; French: Norman...          308   \n4  The Normans (Norman: Nourmands; French: Norman...          671   \n5  The Normans (Norman: Nourmands; French: Norman...            0   \n6  The Normans (Norman: Nourmands; French: Norman...            0   \n7  The Normans (Norman: Nourmands; French: Norman...            0   \n8  The Normans (Norman: Nourmands; French: Norman...            0   \n9  The Norman dynasty had a major political, cult...         1022   \n\n                          text  answer_possible    scores  \\\n0                       France                1  0.993690   \n1      10th and 11th centuries                1  0.993690   \n2  Denmark, Iceland and Norway                1  0.821970   \n3                        Rollo                1  0.947913   \n4                 10th century                1  0.696227   \n5                           []                0  0.995875   \n6                           []                0  0.995905   \n7                           []                0  0.998626   \n8                           []                0  0.999587   \n9        William the Conqueror                1  0.993051   \n\n                        answer  answer_present  \n0                       France               1  \n1                           []               1  \n2  Denmark, Iceland and Norway               1  \n3                        Rollo               1  \n4                         10th               1  \n5                                            0  \n6                                            0  \n7                                            0  \n8                                            0  \n9        William the Conqueror               1  ",
      "text/html": "<div>\n<style scoped>\n    .dataframe tbody tr th:only-of-type {\n        vertical-align: middle;\n    }\n\n    .dataframe tbody tr th {\n        vertical-align: top;\n    }\n\n    .dataframe thead th {\n        text-align: right;\n    }\n</style>\n<table border=\"1\" class=\"dataframe\">\n  <thead>\n    <tr style=\"text-align: right;\">\n      <th></th>\n      <th>id</th>\n      <th>question</th>\n      <th>context</th>\n      <th>answer_start</th>\n      <th>text</th>\n      <th>answer_possible</th>\n      <th>scores</th>\n      <th>answer</th>\n      <th>answer_present</th>\n    </tr>\n  </thead>\n  <tbody>\n    <tr>\n      <th>0</th>\n      <td>0</td>\n      <td>In what country is Normandy located?</td>\n      <td>The Normans (Norman: Nourmands; French: Norman...</td>\n      <td>159</td>\n      <td>France</td>\n      <td>1</td>\n      <td>0.993690</td>\n      <td>France</td>\n      <td>1</td>\n    </tr>\n    <tr>\n      <th>1</th>\n      <td>1</td>\n      <td>When were the Normans in Normandy?</td>\n      <td>The Normans (Norman: Nourmands; French: Norman...</td>\n      <td>94</td>\n      <td>10th and 11th centuries</td>\n      <td>1</td>\n      <td>0.993690</td>\n      <td>[]</td>\n      <td>1</td>\n    </tr>\n    <tr>\n      <th>2</th>\n      <td>2</td>\n      <td>From which countries did the Norse originate?</td>\n      <td>The Normans (Norman: Nourmands; French: Norman...</td>\n      <td>256</td>\n      <td>Denmark, Iceland and Norway</td>\n      <td>1</td>\n      <td>0.821970</td>\n      <td>Denmark, Iceland and Norway</td>\n      <td>1</td>\n    </tr>\n    <tr>\n      <th>3</th>\n      <td>3</td>\n      <td>Who was the Norse leader?</td>\n      <td>The Normans (Norman: Nourmands; French: Norman...</td>\n      <td>308</td>\n      <td>Rollo</td>\n      <td>1</td>\n      <td>0.947913</td>\n      <td>Rollo</td>\n      <td>1</td>\n    </tr>\n    <tr>\n      <th>4</th>\n      <td>4</td>\n      <td>What century did the Normans first gain their ...</td>\n      <td>The Normans (Norman: Nourmands; French: Norman...</td>\n      <td>671</td>\n      <td>10th century</td>\n      <td>1</td>\n      <td>0.696227</td>\n      <td>10th</td>\n      <td>1</td>\n    </tr>\n    <tr>\n      <th>5</th>\n      <td>5</td>\n      <td>Who gave their name to Normandy in the 1000's ...</td>\n      <td>The Normans (Norman: Nourmands; French: Norman...</td>\n      <td>0</td>\n      <td>[]</td>\n      <td>0</td>\n      <td>0.995875</td>\n      <td></td>\n      <td>0</td>\n    </tr>\n    <tr>\n      <th>6</th>\n      <td>6</td>\n      <td>What is France a region of?</td>\n      <td>The Normans (Norman: Nourmands; French: Norman...</td>\n      <td>0</td>\n      <td>[]</td>\n      <td>0</td>\n      <td>0.995905</td>\n      <td></td>\n      <td>0</td>\n    </tr>\n    <tr>\n      <th>7</th>\n      <td>7</td>\n      <td>Who did King Charles III swear fealty to?</td>\n      <td>The Normans (Norman: Nourmands; French: Norman...</td>\n      <td>0</td>\n      <td>[]</td>\n      <td>0</td>\n      <td>0.998626</td>\n      <td></td>\n      <td>0</td>\n    </tr>\n    <tr>\n      <th>8</th>\n      <td>8</td>\n      <td>When did the Frankish identity emerge?</td>\n      <td>The Normans (Norman: Nourmands; French: Norman...</td>\n      <td>0</td>\n      <td>[]</td>\n      <td>0</td>\n      <td>0.999587</td>\n      <td></td>\n      <td>0</td>\n    </tr>\n    <tr>\n      <th>9</th>\n      <td>9</td>\n      <td>Who was the duke in the battle of Hastings?</td>\n      <td>The Norman dynasty had a major political, cult...</td>\n      <td>1022</td>\n      <td>William the Conqueror</td>\n      <td>1</td>\n      <td>0.993051</td>\n      <td>William the Conqueror</td>\n      <td>1</td>\n    </tr>\n  </tbody>\n</table>\n</div>"
     },
     "metadata": {}
    }
   ]
  },
  {
   "cell_type": "code",
   "source": [
    "# get column 1 and column 2 data\n",
    "col1 = df[\"answer_possible\"].values\n",
    "col2 = df[\"answer_present\"].values\n",
    "\n",
    "# initialize confusion matrix with zeros\n",
    "confusion_matrix = torch.zeros(2, 2)\n",
    "\n",
    "# populate confusion matrix\n",
    "for i in range(len(col1)):\n",
    "    if col1[i] == 1 and col2[i] == 1:\n",
    "        confusion_matrix[0, 0] += 1  # true positive\n",
    "    elif col1[i] == 0 and col2[i] == 0:\n",
    "        confusion_matrix[1, 1] += 1  # true negative\n",
    "    elif col1[i] == 1 and col2[i] == 0:\n",
    "        confusion_matrix[0, 1] += 1  # false negative\n",
    "    elif col1[i] == 0 and col2[i] == 1:\n",
    "        confusion_matrix[1, 0] += 1  # false positive\n",
    "\n",
    "print(confusion_matrix)\n",
    "\n",
    "# find true positives\n",
    "tp = confusion_matrix[0, 0].item()\n",
    "\n",
    "# find true negatives\n",
    "tn = confusion_matrix[1, 1].item()\n",
    "\n",
    "# find false positives\n",
    "fp = confusion_matrix[1, 0].item()\n",
    "\n",
    "# find false negatives\n",
    "fn = confusion_matrix[0, 1].item()"
   ],
   "metadata": {
    "execution": {
     "iopub.status.busy": "2023-01-15T16:29:51.499016Z",
     "iopub.execute_input": "2023-01-15T16:29:51.499360Z",
     "iopub.status.idle": "2023-01-15T16:29:51.661283Z",
     "shell.execute_reply.started": "2023-01-15T16:29:51.499326Z",
     "shell.execute_reply": "2023-01-15T16:29:51.660185Z"
    },
    "trusted": true
   },
   "execution_count": 51,
   "outputs": [
    {
     "name": "stdout",
     "text": "tensor([[5480.,  448.],\n        [1376., 4569.]])\n",
     "output_type": "stream"
    }
   ]
  },
  {
   "cell_type": "code",
   "source": [
    "# create heatmap\n",
    "plt.imshow(confusion_matrix, cmap='Blues')\n",
    "plt.colorbar()\n",
    "\n",
    "# set x and y ticks\n",
    "plt.xticks(np.arange(2), [\"True\", \"False\"])\n",
    "plt.yticks(np.arange(2), [\"True\", \"False\"])\n",
    "\n",
    "# add labels\n",
    "plt.xlabel('Predicted')\n",
    "plt.ylabel('True')\n",
    "\n",
    "plt.show()"
   ],
   "metadata": {
    "execution": {
     "iopub.status.busy": "2023-01-15T16:29:51.662789Z",
     "iopub.execute_input": "2023-01-15T16:29:51.663180Z",
     "iopub.status.idle": "2023-01-15T16:29:51.880497Z",
     "shell.execute_reply.started": "2023-01-15T16:29:51.663145Z",
     "shell.execute_reply": "2023-01-15T16:29:51.879644Z"
    },
    "trusted": true
   },
   "execution_count": 52,
   "outputs": [
    {
     "output_type": "display_data",
     "data": {
      "text/plain": "<Figure size 432x288 with 2 Axes>",
      "image/png": "[encoded data removed]"
     },
     "metadata": {}
    }
   ]
  },
  {
   "cell_type": "code",
   "source": [
    "import seaborn as sns\n",
    "sns.heatmap(confusion_matrix, xticklabels=[\"True\", \"False\"], yticklabels=[\"True\", \"False\"], annot=True)"
   ],
   "metadata": {
    "execution": {
     "iopub.status.busy": "2023-01-15T16:29:51.881855Z",
     "iopub.execute_input": "2023-01-15T16:29:51.882194Z",
     "iopub.status.idle": "2023-01-15T16:29:52.115196Z",
     "shell.execute_reply.started": "2023-01-15T16:29:51.882160Z",
     "shell.execute_reply": "2023-01-15T16:29:52.114356Z"
    },
    "trusted": true
   },
   "execution_count": 53,
   "outputs": [
    {
     "execution_count": 53,
     "output_type": "execute_result",
     "data": {
      "text/plain": "<AxesSubplot:>"
     },
     "metadata": {}
    },
    {
     "output_type": "display_data",
     "data": {
      "text/plain": "<Figure size 432x288 with 2 Axes>",
      "image/png": "[encoded data removed]"
     },
     "metadata": {}
    }
   ]
  },
  {
   "cell_type": "code",
   "source": [
    "col1 = df[\"text\"].tolist()\n",
    "print(len(col1))"
   ],
   "metadata": {
    "execution": {
     "iopub.status.busy": "2023-01-15T16:29:52.116671Z",
     "iopub.execute_input": "2023-01-15T16:29:52.117001Z",
     "iopub.status.idle": "2023-01-15T16:29:52.122324Z",
     "shell.execute_reply.started": "2023-01-15T16:29:52.116967Z",
     "shell.execute_reply": "2023-01-15T16:29:52.121374Z"
    },
    "trusted": true
   },
   "execution_count": 54,
   "outputs": [
    {
     "name": "stdout",
     "text": "11873\n",
     "output_type": "stream"
    }
   ]
  },
  {
   "cell_type": "code",
   "source": [
    "# get column 1 and column 2 data\n",
    "col1 = df[\"text\"].tolist()\n",
    "col2 = df[\"answer\"].tolist()\n",
    "print(len(col2))\n",
    "confusion_matrix = torch.zeros(len(set(col1)), len(set(col2)))"
   ],
   "metadata": {
    "execution": {
     "iopub.status.busy": "2023-01-15T16:29:52.123660Z",
     "iopub.execute_input": "2023-01-15T16:29:52.124253Z",
     "iopub.status.idle": "2023-01-15T16:29:52.176543Z",
     "shell.execute_reply.started": "2023-01-15T16:29:52.124218Z",
     "shell.execute_reply": "2023-01-15T16:29:52.175289Z"
    },
    "trusted": true
   },
   "execution_count": 55,
   "outputs": [
    {
     "name": "stdout",
     "text": "11873\n",
     "output_type": "stream"
    }
   ]
  },
  {
   "cell_type": "code",
   "source": [
    "from sklearn.metrics import confusion_matrix\n",
    "conf_mat = confusion_matrix(col1, col2)\n",
    "conf_mat = torch.tensor(conf_mat)"
   ],
   "metadata": {
    "execution": {
     "iopub.status.busy": "2023-01-15T16:29:52.177937Z",
     "iopub.execute_input": "2023-01-15T16:29:52.178558Z",
     "iopub.status.idle": "2023-01-15T16:29:52.709035Z",
     "shell.execute_reply.started": "2023-01-15T16:29:52.178520Z",
     "shell.execute_reply": "2023-01-15T16:29:52.707928Z"
    },
    "trusted": true
   },
   "execution_count": 56,
   "outputs": []
  },
  {
   "cell_type": "code",
   "source": [
    "sns.heatmap(confusion_matrix, xticklabels=class_labels, yticklabels=class_labels, annot=True)"
   ],
   "metadata": {
    "execution": {
     "iopub.status.busy": "2023-01-14T17:25:27.907855Z",
     "iopub.execute_input": "2023-01-14T17:25:27.908217Z",
     "iopub.status.idle": "2023-01-14T17:25:27.913341Z",
     "shell.execute_reply.started": "2023-01-14T17:25:27.908184Z",
     "shell.execute_reply": "2023-01-14T17:25:27.911985Z"
    },
    "trusted": true
   },
   "execution_count": 57,
   "outputs": []
  },
  {
   "cell_type": "code",
   "source": [
    "# plotting the points \n",
    "plt.plot(scores, df['id'])\n",
    "# naming the x axis\n",
    "plt.xlabel('Scores')\n",
    "# naming the y axis\n",
    "plt.ylabel('y - axis')\n",
    "# giving a title to my graph\n",
    "plt.title('Confidence_Scores')\n",
    "# function to show the plot\n",
    "plt.show()"
   ],
   "metadata": {
    "execution": {
     "iopub.status.busy": "2023-01-14T17:24:33.506365Z",
     "iopub.status.idle": "2023-01-14T17:24:33.508672Z",
     "shell.execute_reply.started": "2023-01-14T17:24:33.508435Z",
     "shell.execute_reply": "2023-01-14T17:24:33.508459Z"
    },
    "trusted": true
   },
   "execution_count": null,
   "outputs": []
  },
  {
   "cell_type": "code",
   "source": [
    "mf1_score = np.mean(f1_score[:])"
   ],
   "metadata": {
    "execution": {
     "iopub.status.busy": "2023-01-15T16:29:52.710638Z",
     "iopub.execute_input": "2023-01-15T16:29:52.711061Z",
     "iopub.status.idle": "2023-01-15T16:29:52.717974Z",
     "shell.execute_reply.started": "2023-01-15T16:29:52.711020Z",
     "shell.execute_reply": "2023-01-15T16:29:52.716753Z"
    },
    "trusted": true
   },
   "execution_count": 57,
   "outputs": []
  },
  {
   "cell_type": "code",
   "source": [
    "print(mf1_score)"
   ],
   "metadata": {
    "execution": {
     "iopub.status.busy": "2023-01-15T16:29:52.719814Z",
     "iopub.execute_input": "2023-01-15T16:29:52.720220Z",
     "iopub.status.idle": "2023-01-15T16:29:52.729951Z",
     "shell.execute_reply.started": "2023-01-15T16:29:52.720183Z",
     "shell.execute_reply": "2023-01-15T16:29:52.728804Z"
    },
    "trusted": true
   },
   "execution_count": 58,
   "outputs": [
    {
     "name": "stdout",
     "text": "0.7167738757624528\n",
     "output_type": "stream"
    }
   ]
  },
  {
   "cell_type": "code",
   "source": [
    "mexact_score = np.mean(exact_score[:])"
   ],
   "metadata": {
    "execution": {
     "iopub.status.busy": "2023-01-15T16:29:52.731724Z",
     "iopub.execute_input": "2023-01-15T16:29:52.732514Z",
     "iopub.status.idle": "2023-01-15T16:29:52.741876Z",
     "shell.execute_reply.started": "2023-01-15T16:29:52.732437Z",
     "shell.execute_reply": "2023-01-15T16:29:52.740884Z"
    },
    "trusted": true
   },
   "execution_count": 59,
   "outputs": []
  },
  {
   "cell_type": "code",
   "source": [
    "print(mexact_score)"
   ],
   "metadata": {
    "execution": {
     "iopub.status.busy": "2023-01-15T16:29:52.743745Z",
     "iopub.execute_input": "2023-01-15T16:29:52.744168Z",
     "iopub.status.idle": "2023-01-15T16:29:52.753498Z",
     "shell.execute_reply.started": "2023-01-15T16:29:52.744129Z",
     "shell.execute_reply": "2023-01-15T16:29:52.752152Z"
    },
    "trusted": true
   },
   "execution_count": 60,
   "outputs": [
    {
     "name": "stdout",
     "text": "0.6883685673376568\n",
     "output_type": "stream"
    }
   ]
  },
  {
   "cell_type": "code",
   "source": [
    "df.insert(9, 'type', 0)"
   ],
   "metadata": {
    "execution": {
     "iopub.status.busy": "2023-01-15T18:32:19.660851Z",
     "iopub.execute_input": "2023-01-15T18:32:19.661576Z",
     "iopub.status.idle": "2023-01-15T18:32:19.667109Z",
     "shell.execute_reply.started": "2023-01-15T18:32:19.661536Z",
     "shell.execute_reply": "2023-01-15T18:32:19.665849Z"
    },
    "trusted": true
   },
   "execution_count": 200,
   "outputs": []
  },
  {
   "cell_type": "code",
   "source": [
    "df.head(10)"
   ],
   "metadata": {
    "execution": {
     "iopub.status.busy": "2023-01-15T16:38:07.984686Z",
     "iopub.execute_input": "2023-01-15T16:38:07.985071Z",
     "iopub.status.idle": "2023-01-15T16:38:08.000254Z",
     "shell.execute_reply.started": "2023-01-15T16:38:07.985040Z",
     "shell.execute_reply": "2023-01-15T16:38:07.999123Z"
    },
    "trusted": true
   },
   "execution_count": 94,
   "outputs": [
    {
     "execution_count": 94,
     "output_type": "execute_result",
     "data": {
      "text/plain": "   id                                           question  \\\n0   0               In what country is Normandy located?   \n1   1                 When were the Normans in Normandy?   \n2   2      From which countries did the Norse originate?   \n3   3                          Who was the Norse leader?   \n4   4  What century did the Normans first gain their ...   \n5   5  Who gave their name to Normandy in the 1000's ...   \n6   6                        What is France a region of?   \n7   7          Who did King Charles III swear fealty to?   \n8   8             When did the Frankish identity emerge?   \n9   9        Who was the duke in the battle of Hastings?   \n\n                                             context answer_start  \\\n0  The Normans (Norman: Nourmands; French: Norman...          159   \n1  The Normans (Norman: Nourmands; French: Norman...           94   \n2  The Normans (Norman: Nourmands; French: Norman...          256   \n3  The Normans (Norman: Nourmands; French: Norman...          308   \n4  The Normans (Norman: Nourmands; French: Norman...          671   \n5  The Normans (Norman: Nourmands; French: Norman...            0   \n6  The Normans (Norman: Nourmands; French: Norman...            0   \n7  The Normans (Norman: Nourmands; French: Norman...            0   \n8  The Normans (Norman: Nourmands; French: Norman...            0   \n9  The Norman dynasty had a major political, cult...         1022   \n\n                          text  answer_possible    scores  \\\n0                       France                1  0.993690   \n1      10th and 11th centuries                1  0.993690   \n2  Denmark, Iceland and Norway                1  0.821970   \n3                        Rollo                1  0.947913   \n4                 10th century                1  0.696227   \n5                           []                0  0.995875   \n6                           []                0  0.995905   \n7                           []                0  0.998626   \n8                           []                0  0.999587   \n9        William the Conqueror                1  0.993051   \n\n                        answer  answer_present  type  \n0                       France               1     2  \n1                           []               1     2  \n2  Denmark, Iceland and Norway               1     2  \n3                        Rollo               1     2  \n4                         10th               1     2  \n5                                            0     2  \n6                                            0     2  \n7                                            0     2  \n8                                            0     2  \n9        William the Conqueror               1     2  ",
      "text/html": "<div>\n<style scoped>\n    .dataframe tbody tr th:only-of-type {\n        vertical-align: middle;\n    }\n\n    .dataframe tbody tr th {\n        vertical-align: top;\n    }\n\n    .dataframe thead th {\n        text-align: right;\n    }\n</style>\n<table border=\"1\" class=\"dataframe\">\n  <thead>\n    <tr style=\"text-align: right;\">\n      <th></th>\n      <th>id</th>\n      <th>question</th>\n      <th>context</th>\n      <th>answer_start</th>\n      <th>text</th>\n      <th>answer_possible</th>\n      <th>scores</th>\n      <th>answer</th>\n      <th>answer_present</th>\n      <th>type</th>\n    </tr>\n  </thead>\n  <tbody>\n    <tr>\n      <th>0</th>\n      <td>0</td>\n      <td>In what country is Normandy located?</td>\n      <td>The Normans (Norman: Nourmands; French: Norman...</td>\n      <td>159</td>\n      <td>France</td>\n      <td>1</td>\n      <td>0.993690</td>\n      <td>France</td>\n      <td>1</td>\n      <td>2</td>\n    </tr>\n    <tr>\n      <th>1</th>\n      <td>1</td>\n      <td>When were the Normans in Normandy?</td>\n      <td>The Normans (Norman: Nourmands; French: Norman...</td>\n      <td>94</td>\n      <td>10th and 11th centuries</td>\n      <td>1</td>\n      <td>0.993690</td>\n      <td>[]</td>\n      <td>1</td>\n      <td>2</td>\n    </tr>\n    <tr>\n      <th>2</th>\n      <td>2</td>\n      <td>From which countries did the Norse originate?</td>\n      <td>The Normans (Norman: Nourmands; French: Norman...</td>\n      <td>256</td>\n      <td>Denmark, Iceland and Norway</td>\n      <td>1</td>\n      <td>0.821970</td>\n      <td>Denmark, Iceland and Norway</td>\n      <td>1</td>\n      <td>2</td>\n    </tr>\n    <tr>\n      <th>3</th>\n      <td>3</td>\n      <td>Who was the Norse leader?</td>\n      <td>The Normans (Norman: Nourmands; French: Norman...</td>\n      <td>308</td>\n      <td>Rollo</td>\n      <td>1</td>\n      <td>0.947913</td>\n      <td>Rollo</td>\n      <td>1</td>\n      <td>2</td>\n    </tr>\n    <tr>\n      <th>4</th>\n      <td>4</td>\n      <td>What century did the Normans first gain their ...</td>\n      <td>The Normans (Norman: Nourmands; French: Norman...</td>\n      <td>671</td>\n      <td>10th century</td>\n      <td>1</td>\n      <td>0.696227</td>\n      <td>10th</td>\n      <td>1</td>\n      <td>2</td>\n    </tr>\n    <tr>\n      <th>5</th>\n      <td>5</td>\n      <td>Who gave their name to Normandy in the 1000's ...</td>\n      <td>The Normans (Norman: Nourmands; French: Norman...</td>\n      <td>0</td>\n      <td>[]</td>\n      <td>0</td>\n      <td>0.995875</td>\n      <td></td>\n      <td>0</td>\n      <td>2</td>\n    </tr>\n    <tr>\n      <th>6</th>\n      <td>6</td>\n      <td>What is France a region of?</td>\n      <td>The Normans (Norman: Nourmands; French: Norman...</td>\n      <td>0</td>\n      <td>[]</td>\n      <td>0</td>\n      <td>0.995905</td>\n      <td></td>\n      <td>0</td>\n      <td>2</td>\n    </tr>\n    <tr>\n      <th>7</th>\n      <td>7</td>\n      <td>Who did King Charles III swear fealty to?</td>\n      <td>The Normans (Norman: Nourmands; French: Norman...</td>\n      <td>0</td>\n      <td>[]</td>\n      <td>0</td>\n      <td>0.998626</td>\n      <td></td>\n      <td>0</td>\n      <td>2</td>\n    </tr>\n    <tr>\n      <th>8</th>\n      <td>8</td>\n      <td>When did the Frankish identity emerge?</td>\n      <td>The Normans (Norman: Nourmands; French: Norman...</td>\n      <td>0</td>\n      <td>[]</td>\n      <td>0</td>\n      <td>0.999587</td>\n      <td></td>\n      <td>0</td>\n      <td>2</td>\n    </tr>\n    <tr>\n      <th>9</th>\n      <td>9</td>\n      <td>Who was the duke in the battle of Hastings?</td>\n      <td>The Norman dynasty had a major political, cult...</td>\n      <td>1022</td>\n      <td>William the Conqueror</td>\n      <td>1</td>\n      <td>0.993051</td>\n      <td>William the Conqueror</td>\n      <td>1</td>\n      <td>2</td>\n    </tr>\n  </tbody>\n</table>\n</div>"
     },
     "metadata": {}
    }
   ]
  },
  {
   "cell_type": "code",
   "source": [
    "for i in range(0, len(df)):\n",
    "#     term1 = df[\"answer_possible\"][i]\n",
    "#     term2 = df[\"answer_present\"][i]\n",
    "    if (df[\"answer_possible\"][i] == 1 and df[\"answer_present\"][i] == 1):\n",
    "        df['type'][i] = 'tp'  # true positive\n",
    "    elif (df[\"answer_possible\"][i] == 0 and df[\"answer_present\"][i] == 0):\n",
    "        df['type'][i] = 'tn'  # true negative\n",
    "    elif (df[\"answer_possible\"][i] == 1 and df[\"answer_present\"][i] == 0):\n",
    "        df['type'][i] = 'fp'  # false negative\n",
    "    elif (df[\"answer_possible\"][i] == 0 and df[\"answer_present\"][i] == 1):\n",
    "        df['type'][i] = 'fn'   # false postive"
   ],
   "metadata": {
    "execution": {
     "iopub.status.busy": "2023-01-15T17:20:25.595699Z",
     "iopub.execute_input": "2023-01-15T17:20:25.596070Z",
     "iopub.status.idle": "2023-01-15T17:20:29.694827Z",
     "shell.execute_reply.started": "2023-01-15T17:20:25.596039Z",
     "shell.execute_reply": "2023-01-15T17:20:29.693913Z"
    },
    "trusted": true
   },
   "execution_count": 119,
   "outputs": []
  },
  {
   "cell_type": "code",
   "source": [
    "print((df['type'][7]))"
   ],
   "metadata": {
    "execution": {
     "iopub.status.busy": "2023-01-15T17:20:29.696841Z",
     "iopub.execute_input": "2023-01-15T17:20:29.697197Z",
     "iopub.status.idle": "2023-01-15T17:20:29.703679Z",
     "shell.execute_reply.started": "2023-01-15T17:20:29.697164Z",
     "shell.execute_reply": "2023-01-15T17:20:29.702719Z"
    },
    "trusted": true
   },
   "execution_count": 120,
   "outputs": [
    {
     "name": "stdout",
     "text": "tn\n",
     "output_type": "stream"
    }
   ]
  },
  {
   "cell_type": "code",
   "source": [
    "print(len(df[df['type']=='fn']))"
   ],
   "metadata": {
    "execution": {
     "iopub.status.busy": "2023-01-15T17:20:29.704883Z",
     "iopub.execute_input": "2023-01-15T17:20:29.705834Z",
     "iopub.status.idle": "2023-01-15T17:20:29.718269Z",
     "shell.execute_reply.started": "2023-01-15T17:20:29.705798Z",
     "shell.execute_reply": "2023-01-15T17:20:29.716973Z"
    },
    "trusted": true
   },
   "execution_count": 121,
   "outputs": [
    {
     "name": "stdout",
     "text": "1376\n",
     "output_type": "stream"
    }
   ]
  },
  {
   "cell_type": "code",
   "source": [
    "x3 = list(df[df['type'] == 'fn']['scores'])\n",
    "names=['false_negative']\n",
    "plt.hist([x3], label=names, density=True)\n",
    "plt.legend()"
   ],
   "metadata": {
    "execution": {
     "iopub.status.busy": "2023-01-15T16:42:50.062190Z",
     "iopub.execute_input": "2023-01-15T16:42:50.062536Z",
     "iopub.status.idle": "2023-01-15T16:42:50.364699Z",
     "shell.execute_reply.started": "2023-01-15T16:42:50.062507Z",
     "shell.execute_reply": "2023-01-15T16:42:50.363768Z"
    },
    "trusted": true
   },
   "execution_count": 101,
   "outputs": [
    {
     "execution_count": 101,
     "output_type": "execute_result",
     "data": {
      "text/plain": "<matplotlib.legend.Legend at 0x7fcfb8d473d0>"
     },
     "metadata": {}
    },
    {
     "output_type": "display_data",
     "data": {
      "text/plain": "<Figure size 432x288 with 1 Axes>",
      "image/png": "[encoded data removed]"
     },
     "metadata": {}
    }
   ]
  },
  {
   "cell_type": "code",
   "source": [
    "# get column 1 and column 2 data\n",
    "col1 = df[\"answer_possible\"].values\n",
    "col2 = df[\"answer_present\"].values\n",
    "\n",
    "# initialize confusion matrix with zeros\n",
    "confusion_matrix = torch.zeros(2, 2)\n",
    "\n",
    "# populate confusion matrix\n",
    "for i in range(len(col1)):\n",
    "    if col1[i] == 1 and col2[i] == 1:\n",
    "        confusion_matrix[0, 0] += 1  # true positive\n",
    "    elif col1[i] == 0 and col2[i] == 0:\n",
    "        confusion_matrix[1, 1] += 1  # true negative\n",
    "    elif col1[i] == 1 and col2[i] == 0:\n",
    "        confusion_matrix[0, 1] += 1  # false negative\n",
    "    elif col1[i] == 0 and col2[i] == 1:\n",
    "        confusion_matrix[1, 0] += 1  # false positive\n",
    "\n",
    "print(confusion_matrix)\n",
    "\n",
    "# find true positives\n",
    "tp = confusion_matrix[0, 0].item()\n",
    "\n",
    "# find true negatives\n",
    "tn = confusion_matrix[1, 1].item()\n",
    "\n",
    "# find false positives\n",
    "fp = confusion_matrix[1, 0].item()\n",
    "\n",
    "# find false negatives\n",
    "fn = confusion_matrix[0, 1].item()"
   ],
   "metadata": {
    "execution": {
     "iopub.status.busy": "2023-01-15T16:40:35.349965Z",
     "iopub.execute_input": "2023-01-15T16:40:35.350402Z",
     "iopub.status.idle": "2023-01-15T16:40:35.592665Z",
     "shell.execute_reply.started": "2023-01-15T16:40:35.350367Z",
     "shell.execute_reply": "2023-01-15T16:40:35.591588Z"
    },
    "trusted": true
   },
   "execution_count": 95,
   "outputs": [
    {
     "name": "stdout",
     "text": "tensor([[5480.,  448.],\n        [1376., 4569.]])\n",
     "output_type": "stream"
    }
   ]
  }
 ]
}
