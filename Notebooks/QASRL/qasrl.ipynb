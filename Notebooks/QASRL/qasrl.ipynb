{
 "cells": [
  {
   "attachments": {},
   "cell_type": "markdown",
   "metadata": {},
   "source": [
    "## To use QA-SRL library, you need to have the following enviornment\n",
    "\n",
    "- Python 3.6\n",
    "- PyTorch 0.4.0\n",
    "- allennlp 0.5.0"
   ]
  },
  {
   "cell_type": "code",
   "execution_count": 1,
   "metadata": {},
   "outputs": [
    {
     "name": "stdout",
     "output_type": "stream",
     "text": [
      "0.4.0\n"
     ]
    }
   ],
   "source": [
    "import torch\n",
    "print(torch.__version__)"
   ]
  },
  {
   "attachments": {},
   "cell_type": "markdown",
   "metadata": {},
   "source": [
    "In order to use the QA-SRL library, you need to have the following:\n",
    "\n",
    "Download the pretrained GloVe embeddings and copy the file to \n",
    "```data/glove/glove.6B.100d.txt.gz in``` the repository directory.\n",
    "\n",
    "Download the pretrained ElMO word representations and copy the files to \n",
    "```data/elmo/elmo_2x4096_512_2048cnn_2xhighway_options.json``` and ```data/elmo/elmo_2x4096_512_2048cnn_2xhighway_weights.hdf5```"
   ]
  },
  {
   "cell_type": "code",
   "execution_count": 3,
   "metadata": {},
   "outputs": [
    {
     "name": "stdout",
     "output_type": "stream",
     "text": [
      "--2023-01-26 06:13:30--  http://nlp.stanford.edu/data/glove.6B.zip\n",
      "Resolving nlp.stanford.edu (nlp.stanford.edu)... 171.64.67.140\n",
      "Connecting to nlp.stanford.edu (nlp.stanford.edu)|171.64.67.140|:80... connected.\n",
      "HTTP request sent, awaiting response... 302 Found\n",
      "Location: https://nlp.stanford.edu/data/glove.6B.zip [following]\n",
      "--2023-01-26 06:13:31--  https://nlp.stanford.edu/data/glove.6B.zip\n",
      "Connecting to nlp.stanford.edu (nlp.stanford.edu)|171.64.67.140|:443... connected.\n",
      "HTTP request sent, awaiting response... 301 Moved Permanently\n",
      "Location: https://downloads.cs.stanford.edu/nlp/data/glove.6B.zip [following]\n",
      "--2023-01-26 06:13:34--  https://downloads.cs.stanford.edu/nlp/data/glove.6B.zip\n",
      "Resolving downloads.cs.stanford.edu (downloads.cs.stanford.edu)... 171.64.64.22\n",
      "Connecting to downloads.cs.stanford.edu (downloads.cs.stanford.edu)|171.64.64.22|:443... connected.\n",
      "HTTP request sent, awaiting response... 200 OK\n",
      "Length: 862182613 (822M) [application/zip]\n",
      "Saving to: ‘data/glove/glove.6B.zip’\n",
      "\n",
      "data/glove/glove.6B 100%[===================>] 822.24M   415KB/s    in 41m 3s  \n",
      "\n",
      "2023-01-26 06:54:40 (342 KB/s) - ‘data/glove/glove.6B.zip’ saved [862182613/862182613]\n",
      "\n",
      "Archive:  data/glove/glove.6B.zip\n",
      "  inflating: data/glove/glove.6B.50d.txt  \n",
      "  inflating: data/glove/glove.6B.100d.txt  \n",
      "  inflating: data/glove/glove.6B.200d.txt  \n",
      "  inflating: data/glove/glove.6B.300d.txt  \n"
     ]
    }
   ],
   "source": [
    "import os\n",
    "\n",
    "save_dir = 'data/glove'\n",
    "if not os.path.exists(save_dir):\n",
    "    os.makedirs(save_dir)\n",
    "\n",
    "glove_url = 'http://nlp.stanford.edu/data/glove.6B.zip'\n",
    "\n",
    "# download the embeddings and save to the specified directory\n",
    "!wget {glove_url} -O {save_dir}/glove.6B.zip\n",
    "!unzip {save_dir}/glove.6B.zip -d {save_dir}"
   ]
  },
  {
   "cell_type": "code",
   "execution_count": 6,
   "metadata": {},
   "outputs": [
    {
     "name": "stdout",
     "output_type": "stream",
     "text": [
      "--2023-01-26 06:55:56--  https://s3-us-west-2.amazonaws.com/allennlp/models/elmo/2x4096_512_2048cnn_2xhighway/elmo_2x4096_512_2048cnn_2xhighway_options.json\n",
      "Resolving s3-us-west-2.amazonaws.com (s3-us-west-2.amazonaws.com)... 52.218.193.80, 52.92.209.144, 52.92.240.88, ...\n",
      "Connecting to s3-us-west-2.amazonaws.com (s3-us-west-2.amazonaws.com)|52.218.193.80|:443... connected.\n",
      "HTTP request sent, awaiting response... 200 OK\n",
      "Length: 336 [application/json]\n",
      "Saving to: ‘data/elmo/elmo_2x4096_512_2048cnn_2xhighway_options.json’\n",
      "\n",
      "data/elmo/elmo_2x40 100%[===================>]     336  --.-KB/s    in 0s      \n",
      "\n",
      "2023-01-26 06:55:58 (126 MB/s) - ‘data/elmo/elmo_2x4096_512_2048cnn_2xhighway_options.json’ saved [336/336]\n",
      "\n",
      "--2023-01-26 06:55:58--  https://s3-us-west-2.amazonaws.com/allennlp/models/elmo/2x4096_512_2048cnn_2xhighway/elmo_2x4096_512_2048cnn_2xhighway_weights.hdf5\n",
      "Resolving s3-us-west-2.amazonaws.com (s3-us-west-2.amazonaws.com)... 52.92.196.216, 52.218.153.56, 52.92.178.120, ...\n",
      "Connecting to s3-us-west-2.amazonaws.com (s3-us-west-2.amazonaws.com)|52.92.196.216|:443... connected.\n",
      "HTTP request sent, awaiting response... 200 OK\n",
      "Length: 374434792 (357M) [binary/octet-stream]\n",
      "Saving to: ‘data/elmo/elmo_2x4096_512_2048cnn_2xhighway_weights.hdf5’\n",
      "\n",
      "data/elmo/elmo_2x40 100%[===================>] 357.09M   277KB/s    in 20m 59s \n",
      "\n",
      "2023-01-26 07:16:59 (290 KB/s) - ‘data/elmo/elmo_2x4096_512_2048cnn_2xhighway_weights.hdf5’ saved [374434792/374434792]\n",
      "\n"
     ]
    }
   ],
   "source": [
    "import os\n",
    "\n",
    "save_dir = 'data/elmo'\n",
    "if not os.path.exists(save_dir):\n",
    "    os.makedirs(save_dir)\n",
    "\n",
    "!wget https://s3-us-west-2.amazonaws.com/allennlp/models/elmo/2x4096_512_2048cnn_2xhighway/elmo_2x4096_512_2048cnn_2xhighway_options.json -O {save_dir}/elmo_2x4096_512_2048cnn_2xhighway_options.json\n",
    "\n",
    "# download the ELMO weights file and save to the specified directory\n",
    "!wget https://s3-us-west-2.amazonaws.com/allennlp/models/elmo/2x4096_512_2048cnn_2xhighway/elmo_2x4096_512_2048cnn_2xhighway_weights.hdf5 -O {save_dir}/elmo_2x4096_512_2048cnn_2xhighway_weights.hdf5\n"
   ]
  },
  {
   "cell_type": "code",
   "execution_count": 10,
   "metadata": {},
   "outputs": [
    {
     "name": "stdout",
     "output_type": "stream",
     "text": [
      "configs  data  demo  gen.ipynb\tnrl  README.md\tscripts\n",
      "/home/roshan/QASRL/nrl-qasrl/scripts\n"
     ]
    }
   ],
   "source": [
    "%cd scripts/"
   ]
  },
  {
   "cell_type": "code",
   "execution_count": null,
   "metadata": {},
   "outputs": [],
   "source": [
    "INPUT_FILE = 'input.json'\n",
    "OUTPUT_FILE = 'output.json'"
   ]
  },
  {
   "attachments": {},
   "cell_type": "markdown",
   "metadata": {},
   "source": [
    "## Using Pre-trained Models"
   ]
  },
  {
   "cell_type": "code",
   "execution_count": null,
   "metadata": {},
   "outputs": [],
   "source": [
    "!python -m allennlp.run predict ./data/qasrl_parser_elmo \"input.json\" --include-package nrl --predictor qasrl_parser --output-file \"output.json\""
   ]
  },
  {
   "cell_type": "code",
   "execution_count": null,
   "metadata": {},
   "outputs": [],
   "source": [
    "from scipy.optimize import linear_sum_assignment as linear_assignment"
   ]
  },
  {
   "cell_type": "code",
   "execution_count": null,
   "metadata": {},
   "outputs": [],
   "source": [
    "import json\n",
    "\n",
    "# list of sentences\n",
    "sentences = [\"John went to the store.\", \"The man ate the burrito and threw the trash in the garbage\"]\n",
    "\n",
    "# open a file to write the JSON-lines document\n",
    "with open('sentences.json', 'w') as f:\n",
    "    for sentence in sentences:\n",
    "        # create a JSON object for each sentence\n",
    "        json_object = {\"sentence\": sentence}\n",
    "        # dump the JSON object to the file\n",
    "        json.dump(json_object, f, indent=4)\n",
    "        # add a newline character to separate sentences\n",
    "        f.write('\\n')\n"
   ]
  }
 ],
 "metadata": {
  "kernelspec": {
   "display_name": "qa",
   "language": "python",
   "name": "python3"
  },
  "language_info": {
   "codemirror_mode": {
    "name": "ipython",
    "version": 3
   },
   "file_extension": ".py",
   "mimetype": "text/x-python",
   "name": "python",
   "nbconvert_exporter": "python",
   "pygments_lexer": "ipython3",
   "version": "3.6.13"
  },
  "orig_nbformat": 4,
  "vscode": {
   "interpreter": {
    "hash": "641500b82556daaeb483206afb1829e6824527f67f2c139ed8a1ba438a102715"
   }
  }
 },
 "nbformat": 4,
 "nbformat_minor": 2
}
